{
 "cells": [
  {
   "cell_type": "code",
   "execution_count": null,
   "metadata": {
    "ExecuteTime": {
     "end_time": "2019-03-28T00:20:54.967034Z",
     "start_time": "2019-03-28T00:20:54.387436Z"
    }
   },
   "outputs": [],
   "source": [
    "from datetime import date, timedelta, datetime\n",
    "from bs4 import BeautifulSoup\n",
    "from urllib.request import Request, urlopen\n",
    "import requests\n",
    "from newspaper import Article\n",
    "from multiprocessing import Pool, cpu_count\n",
    "from tqdm import tqdm_notebook as tqdm\n",
    "import pickle\n",
    "import pandas as pd\n",
    "import time"
   ]
  },
  {
   "cell_type": "code",
   "execution_count": null,
   "metadata": {
    "ExecuteTime": {
     "end_time": "2019-03-28T00:20:54.972067Z",
     "start_time": "2019-03-28T00:20:54.968962Z"
    }
   },
   "outputs": [],
   "source": [
    "startDate = date(2016, 1, 1)\n",
    "endDate = date(2016, 12, 31)\n",
    "# endDate = datetime.now().date() + timedelta(days=1)\n",
    "offset = 36892\n",
    "newsStartDate = date(2001, 1, 1)"
   ]
  },
  {
   "cell_type": "code",
   "execution_count": null,
   "metadata": {
    "ExecuteTime": {
     "end_time": "2019-03-28T00:20:54.997958Z",
     "start_time": "2019-03-28T00:20:54.973958Z"
    }
   },
   "outputs": [],
   "source": [
    "def generateLinkForDate(dateGiven):\n",
    "    def startTime(x): return (x - newsStartDate).days + offset\n",
    "    stringDate = str(dateGiven).replace('-', '/')\n",
    "    return \"https://timesofindia.indiatimes.com/%s/archivelist/year-%d,month-%d,starttime-%d.cms\" % (stringDate, dateGiven.year, dateGiven.month,  startTime(dateGiven))"
   ]
  },
  {
   "cell_type": "code",
   "execution_count": null,
   "metadata": {
    "ExecuteTime": {
     "end_time": "2019-03-28T00:20:55.008810Z",
     "start_time": "2019-03-28T00:20:54.999769Z"
    },
    "code_folding": [
     0
    ]
   },
   "outputs": [],
   "source": [
    "'''\n",
    "    Returns the links that have the given queryWords in\n",
    "    their headlines be used for scrapping\n",
    "'''\n",
    "def fetchRelevantNewsLinks(tagSet, queryWords):\n",
    "    links = []\n",
    "    for tag in tagSet:\n",
    "        occurs = False\n",
    "        headline = tag.text\n",
    "        link = tag.get('href')\n",
    "        \n",
    "        if headline == None or link == None:\n",
    "            continue\n",
    "        headlineLower = headline.lower()\n",
    "        for query in queryWords:\n",
    "            if query in headline:\n",
    "                occurs = True\n",
    "                break\n",
    "\n",
    "        if occurs:\n",
    "            # Fix for links that don't start with http\n",
    "            if not link.startswith(\"http\"):\n",
    "                link = \"http://timesofindia.indiatimes.com/\" + link\n",
    "            links.append(link)\n",
    "    return links"
   ]
  },
  {
   "cell_type": "code",
   "execution_count": null,
   "metadata": {
    "ExecuteTime": {
     "end_time": "2019-03-28T00:20:55.138176Z",
     "start_time": "2019-03-28T00:20:55.131795Z"
    }
   },
   "outputs": [],
   "source": [
    "def getArticle(url, beginsWithLocation = True):\n",
    "    try:\n",
    "        article = Article(url)\n",
    "        article.download()\n",
    "        article.parse()\n",
    "        #Return the location too\n",
    "        if beginsWithLocation:\n",
    "            location = article.text.find(':')\n",
    "            if 0 < location < 26:\n",
    "                location = article.text[:location].strip()\n",
    "                text = article.text.strip()\n",
    "                return article.title, article.text, location\n",
    "            else:\n",
    "                return None\n",
    "        return article.title, article.text\n",
    "    except:\n",
    "        return None"
   ]
  },
  {
   "cell_type": "code",
   "execution_count": 1,
   "metadata": {
    "ExecuteTime": {
     "end_time": "2019-05-06T19:35:16.961473Z",
     "start_time": "2019-05-06T19:35:16.957743Z"
    }
   },
   "outputs": [],
   "source": [
    "queryWords = 'protest, riot, violence, violent, unrest, clash, bandh, rally, election, rule ,law, policy, demonstration, congress, INC, BJP, guv ,govt, government, political, politics, party, PM, CM, minister, polls'\n",
    "queryWords = [word.strip().lower() for word in queryWords.split(',')]"
   ]
  },
  {
   "cell_type": "code",
   "execution_count": 2,
   "metadata": {
    "ExecuteTime": {
     "end_time": "2019-05-06T19:35:18.331772Z",
     "start_time": "2019-05-06T19:35:18.316775Z"
    }
   },
   "outputs": [
    {
     "data": {
      "text/plain": [
       "['protest',\n",
       " 'riot',\n",
       " 'violence',\n",
       " 'violent',\n",
       " 'unrest',\n",
       " 'clash',\n",
       " 'bandh',\n",
       " 'rally',\n",
       " 'election',\n",
       " 'rule',\n",
       " 'law',\n",
       " 'policy',\n",
       " 'demonstration',\n",
       " 'congress',\n",
       " 'inc',\n",
       " 'bjp',\n",
       " 'guv',\n",
       " 'govt',\n",
       " 'government',\n",
       " 'political',\n",
       " 'politics',\n",
       " 'party',\n",
       " 'pm',\n",
       " 'cm',\n",
       " 'minister',\n",
       " 'polls']"
      ]
     },
     "execution_count": 2,
     "metadata": {},
     "output_type": "execute_result"
    }
   ],
   "source": [
    "queryWords"
   ]
  },
  {
   "cell_type": "code",
   "execution_count": null,
   "metadata": {
    "ExecuteTime": {
     "end_time": "2019-03-28T00:20:55.948802Z",
     "start_time": "2019-03-28T00:20:55.946305Z"
    },
    "scrolled": true
   },
   "outputs": [],
   "source": [
    "# currDate = startDate\n",
    "# newsLinks = {}\n",
    "# while currDate != endDate:\n",
    "#     print(currDate, end=' ')\n",
    "#     link = generateLinkForDate(currDate)\n",
    "#     request = requests.get(link, headers={'User-Agent': 'Mozilla/5.0'})\n",
    "#     soup = BeautifulSoup(request.text, 'lxml')\n",
    "#     tagSet = soup.find_all('a')\n",
    "#     foundLinks = fetchRelevantNewsLinks(tagSet, queryWords)\n",
    "#     print(len(foundLinks))\n",
    "#     newsLinks[str(currDate)] = foundLinks\n",
    "#     currDate += timedelta(days=1)"
   ]
  },
  {
   "cell_type": "code",
   "execution_count": null,
   "metadata": {
    "ExecuteTime": {
     "end_time": "2019-03-28T00:20:56.189032Z",
     "start_time": "2019-03-28T00:20:56.186731Z"
    }
   },
   "outputs": [],
   "source": [
    "# len(newsLinks.keys())"
   ]
  },
  {
   "cell_type": "code",
   "execution_count": null,
   "metadata": {
    "ExecuteTime": {
     "end_time": "2019-03-28T00:20:56.601307Z",
     "start_time": "2019-03-28T00:20:56.564147Z"
    }
   },
   "outputs": [],
   "source": [
    "newsLinks = pickle.load(open('TOI-dump.pkl', 'rb'))"
   ]
  },
  {
   "cell_type": "code",
   "execution_count": null,
   "metadata": {
    "ExecuteTime": {
     "end_time": "2019-03-27T23:37:19.621554Z",
     "start_time": "2019-03-27T23:37:19.619049Z"
    }
   },
   "outputs": [],
   "source": []
  },
  {
   "cell_type": "code",
   "execution_count": null,
   "metadata": {
    "ExecuteTime": {
     "start_time": "2019-03-28T00:20:57.838Z"
    }
   },
   "outputs": [],
   "source": [
    "df = None\n",
    "total_skipped = 0\n",
    "for key in newsLinks.keys():\n",
    "    full_news = []\n",
    "    param = newsLinks[key]\n",
    "    print(key ,end = \" \")\n",
    "    skipped = 0\n",
    "    for i, p in enumerate(tqdm(param)):\n",
    "        scraped = getArticle(p)\n",
    "        if scraped==None or 'Download' in scraped[1]:\n",
    "            skipped += 1\n",
    "        else:\n",
    "            full_news.append(scraped)\n",
    "\n",
    "    print('Skipped %d articles' % skipped)\n",
    "    total_skipped += skipped\n",
    "    df = pd.DataFrame(data=full_news, columns=['title', 'text', 'location'])\n",
    "    df.to_csv('TOI/%s.csv' % key)\n",
    "print(total_skipped)"
   ]
  },
  {
   "cell_type": "code",
   "execution_count": null,
   "metadata": {},
   "outputs": [],
   "source": []
  }
 ],
 "metadata": {
  "kernelspec": {
   "display_name": "Python 3",
   "language": "python",
   "name": "python3"
  },
  "language_info": {
   "codemirror_mode": {
    "name": "ipython",
    "version": 3
   },
   "file_extension": ".py",
   "mimetype": "text/x-python",
   "name": "python",
   "nbconvert_exporter": "python",
   "pygments_lexer": "ipython3",
   "version": "3.6.8"
  },
  "latex_envs": {
   "LaTeX_envs_menu_present": true,
   "autoclose": false,
   "autocomplete": true,
   "bibliofile": "biblio.bib",
   "cite_by": "apalike",
   "current_citInitial": 1,
   "eqLabelWithNumbers": true,
   "eqNumInitial": 1,
   "hotkeys": {
    "equation": "Ctrl-E",
    "itemize": "Ctrl-I"
   },
   "labels_anchors": false,
   "latex_user_defs": false,
   "report_style_numbering": false,
   "user_envs_cfg": false
  }
 },
 "nbformat": 4,
 "nbformat_minor": 2
}
