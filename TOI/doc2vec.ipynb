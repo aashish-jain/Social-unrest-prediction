{
 "cells": [
  {
   "cell_type": "code",
   "execution_count": 1,
   "metadata": {
    "ExecuteTime": {
     "end_time": "2019-05-06T19:17:40.527873Z",
     "start_time": "2019-05-06T19:17:39.107907Z"
    }
   },
   "outputs": [],
   "source": [
    "import gensim\n",
    "from glob import glob\n",
    "import pandas as pd\n",
    "from tqdm import tqdm, tqdm_notebook\n",
    "from gensim.test.utils import common_texts\n",
    "from gensim.models.doc2vec import Doc2Vec, TaggedDocument\n",
    "import nltk\n",
    "from nltk.tokenize import word_tokenize\n",
    "from nltk.corpus import stopwords\n",
    "import string\n",
    "import pickle"
   ]
  },
  {
   "cell_type": "code",
   "execution_count": 2,
   "metadata": {
    "ExecuteTime": {
     "end_time": "2019-05-06T19:17:41.491623Z",
     "start_time": "2019-05-06T19:17:41.344268Z"
    }
   },
   "outputs": [
    {
     "name": "stderr",
     "output_type": "stream",
     "text": [
      "[nltk_data] Downloading package stopwords to\n",
      "[nltk_data]     /home/aashish_jain/nltk_data...\n",
      "[nltk_data]   Package stopwords is already up-to-date!\n"
     ]
    }
   ],
   "source": [
    "#For removing punctuation\n",
    "table = str.maketrans('', '', string.punctuation)\n",
    "np = pd.np\n",
    "nltk.download('stopwords')\n",
    "stop_words = set(stopwords.words('english'))\n",
    "tqdm_notebook(disable = True).pandas()"
   ]
  },
  {
   "cell_type": "code",
   "execution_count": 3,
   "metadata": {
    "ExecuteTime": {
     "end_time": "2019-05-06T19:17:43.825515Z",
     "start_time": "2019-05-06T19:17:43.819827Z"
    }
   },
   "outputs": [],
   "source": [
    "def read_articles(path, show_progress = True):\n",
    "    df_list = []\n",
    "    for file_name in tqdm_notebook(glob(path), disable = not show_progress):\n",
    "            temp_df = pd.read_csv(file_name, index_col=0)\n",
    "            temp_df[\"date\"] = file_name.split(\"/\")[-1].split('.')[0]\n",
    "            df_list.append(temp_df)\n",
    "    df = pd.concat(df_list, ignore_index=True)\n",
    "    try:\n",
    "        df[\"date\"] = pd.to_datetime(df[\"date\"])\n",
    "    except:\n",
    "        print(\"Unable to convert the date string to date\")\n",
    "        pass\n",
    "    return df"
   ]
  },
  {
   "cell_type": "code",
   "execution_count": 7,
   "metadata": {
    "ExecuteTime": {
     "end_time": "2019-05-06T19:18:50.039699Z",
     "start_time": "2019-05-06T19:18:45.684508Z"
    }
   },
   "outputs": [
    {
     "data": {
      "application/vnd.jupyter.widget-view+json": {
       "model_id": "9e2e23bfd092478497c924781ec8032c",
       "version_major": 2,
       "version_minor": 0
      },
      "text/plain": [
       "HBox(children=(IntProgress(value=0, max=1197), HTML(value='')))"
      ]
     },
     "metadata": {},
     "output_type": "display_data"
    },
    {
     "name": "stdout",
     "output_type": "stream",
     "text": [
      "\n"
     ]
    }
   ],
   "source": [
    "toi_df = read_articles(\"../../TOI/*.csv\")\n",
    "train_data = toi_df[toi_df[\"date\"] < pd.to_datetime(\"1-Jan-2019\")]\n",
    "test_data = toi_df[toi_df[\"date\"] >= pd.to_datetime(\"1-Jan-2019\")]"
   ]
  },
  {
   "cell_type": "code",
   "execution_count": 5,
   "metadata": {},
   "outputs": [
    {
     "data": {
      "application/vnd.jupyter.widget-view+json": {
       "model_id": "44bbc75bfcf14f818ecb8ac9f6bece18",
       "version_major": 2,
       "version_minor": 0
      },
      "text/plain": [
       "HBox(children=(IntProgress(value=0, max=3), HTML(value='')))"
      ]
     },
     "metadata": {},
     "output_type": "display_data"
    },
    {
     "name": "stdout",
     "output_type": "stream",
     "text": [
      "\n",
      "Unable to the date string to date\n"
     ]
    }
   ],
   "source": [
    "# augmented_data = read_articles(\"/data/ateendra/all-the-news/*.csv\")\n",
    "# augmented_data = augmented_data[['title','content']]\n",
    "# # augmented_data.columns = ['title','text']\n",
    "# train_data = pd.concat([train_data, augmented_data], sort=False)\n",
    "# train_data.index = np.arange(len(train_data))"
   ]
  },
  {
   "cell_type": "code",
   "execution_count": 11,
   "metadata": {
    "ExecuteTime": {
     "end_time": "2019-05-06T19:20:20.518279Z",
     "start_time": "2019-05-06T19:20:20.513528Z"
    }
   },
   "outputs": [],
   "source": [
    "train_data.index = np.arange(len(train_data))\n",
    "test_data.index = np.arange(len(test_data))"
   ]
  },
  {
   "cell_type": "code",
   "execution_count": 13,
   "metadata": {
    "ExecuteTime": {
     "end_time": "2019-05-06T19:20:32.577869Z",
     "start_time": "2019-05-06T19:20:32.572915Z"
    }
   },
   "outputs": [],
   "source": [
    "def generate_document_vocabulary(text):\n",
    "    vocabulary = []\n",
    "    for word in word_tokenize(text):\n",
    "        w = word.translate(table).lower()\n",
    "        if w.isalpha() and w not in stop_words:\n",
    "            vocabulary.append(w)\n",
    "    return vocabulary"
   ]
  },
  {
   "cell_type": "code",
   "execution_count": 14,
   "metadata": {
    "ExecuteTime": {
     "end_time": "2019-05-06T19:22:30.687030Z",
     "start_time": "2019-05-06T19:20:37.502954Z"
    }
   },
   "outputs": [
    {
     "data": {
      "application/vnd.jupyter.widget-view+json": {
       "model_id": "398e88929ef14d78b308e59b1f123d63",
       "version_major": 2,
       "version_minor": 0
      },
      "text/plain": [
       "HBox(children=(IntProgress(value=0, max=45406), HTML(value='')))"
      ]
     },
     "metadata": {},
     "output_type": "display_data"
    },
    {
     "name": "stdout",
     "output_type": "stream",
     "text": [
      "\n"
     ]
    },
    {
     "name": "stderr",
     "output_type": "stream",
     "text": [
      "/home/aashish_jain/anaconda3/lib/python3.6/site-packages/ipykernel_launcher.py:1: SettingWithCopyWarning: \n",
      "A value is trying to be set on a copy of a slice from a DataFrame.\n",
      "Try using .loc[row_indexer,col_indexer] = value instead\n",
      "\n",
      "See the caveats in the documentation: http://pandas.pydata.org/pandas-docs/stable/indexing.html#indexing-view-versus-copy\n",
      "  \"\"\"Entry point for launching an IPython kernel.\n"
     ]
    }
   ],
   "source": [
    "train_data['vocabulary'] = train_data['text'].progress_apply(generate_document_vocabulary)"
   ]
  },
  {
   "cell_type": "code",
   "execution_count": 15,
   "metadata": {
    "ExecuteTime": {
     "end_time": "2019-05-06T19:22:36.615207Z",
     "start_time": "2019-05-06T19:22:30.689704Z"
    }
   },
   "outputs": [
    {
     "name": "stdout",
     "output_type": "stream",
     "text": [
      "Documents to train on is 45406\n"
     ]
    }
   ],
   "source": [
    "documents = []\n",
    "\n",
    "for i, row in train_data.iterrows():\n",
    "    document = TaggedDocument(row['vocabulary'], [i])\n",
    "    documents.append(document)\n",
    "\n",
    "print(\"Documents to train on is\", len(documents))"
   ]
  },
  {
   "cell_type": "code",
   "execution_count": 16,
   "metadata": {
    "ExecuteTime": {
     "end_time": "2019-05-06T19:22:39.811109Z",
     "start_time": "2019-05-06T19:22:36.616615Z"
    }
   },
   "outputs": [],
   "source": [
    "pickle.dump(documents, open(\"tagged_doc_dump.pkl\",\"wb\"))"
   ]
  },
  {
   "cell_type": "code",
   "execution_count": 18,
   "metadata": {
    "ExecuteTime": {
     "end_time": "2019-05-06T19:23:40.219718Z",
     "start_time": "2019-05-06T19:23:40.213948Z"
    }
   },
   "outputs": [],
   "source": [
    "max_epochs = 30\n",
    "vec_size = 50\n",
    "alpha = 0.025\n",
    "\n",
    "# Distributed memory and not distributed bag of words\n",
    "model = Doc2Vec(vector_size=vec_size,\n",
    "                alpha=alpha,\n",
    "                min_alpha=0.00025,\n",
    "                min_count=1,\n",
    "                dm=1,\n",
    "                workers=8)"
   ]
  },
  {
   "cell_type": "code",
   "execution_count": 19,
   "metadata": {
    "ExecuteTime": {
     "end_time": "2019-05-06T19:23:46.051793Z",
     "start_time": "2019-05-06T19:23:40.664247Z"
    }
   },
   "outputs": [],
   "source": [
    "model.build_vocab(documents)"
   ]
  },
  {
   "cell_type": "code",
   "execution_count": 20,
   "metadata": {
    "ExecuteTime": {
     "end_time": "2019-05-06T19:49:55.997566Z",
     "start_time": "2019-05-06T19:23:46.053232Z"
    }
   },
   "outputs": [
    {
     "data": {
      "application/vnd.jupyter.widget-view+json": {
       "model_id": "0ee89b79843b4423a9f09ef8ccd8f9ed",
       "version_major": 2,
       "version_minor": 0
      },
      "text/plain": [
       "HBox(children=(IntProgress(value=0, max=30), HTML(value='')))"
      ]
     },
     "metadata": {},
     "output_type": "display_data"
    },
    {
     "name": "stdout",
     "output_type": "stream",
     "text": [
      "\n"
     ]
    }
   ],
   "source": [
    "for _ in tqdm_notebook(range(max_epochs)):\n",
    "    model.train(documents,\n",
    "                total_examples=model.corpus_count,\n",
    "                epochs=model.epochs,)\n",
    "    # decrease the learning rate\n",
    "    model.alpha -= 0.0002\n",
    "    # fix the learning rate, no decay\n",
    "    model.min_alpha = model.alpha"
   ]
  },
  {
   "cell_type": "code",
   "execution_count": 21,
   "metadata": {
    "ExecuteTime": {
     "end_time": "2019-05-06T19:49:56.860112Z",
     "start_time": "2019-05-06T19:49:56.000067Z"
    }
   },
   "outputs": [],
   "source": [
    "model.save(\"article.d2v\")"
   ]
  },
  {
   "cell_type": "code",
   "execution_count": null,
   "metadata": {},
   "outputs": [],
   "source": [
    "model.docvecs.similarity(test_data['voac'], test_documents[1])"
   ]
  },
  {
   "cell_type": "code",
   "execution_count": 26,
   "metadata": {
    "ExecuteTime": {
     "end_time": "2019-05-06T20:05:04.009864Z",
     "start_time": "2019-05-06T20:05:03.548783Z"
    }
   },
   "outputs": [],
   "source": [
    "acled_data = pd.read_csv(\"../data/ACLED-India-27-Apr-18.csv\")"
   ]
  },
  {
   "cell_type": "code",
   "execution_count": 27,
   "metadata": {
    "ExecuteTime": {
     "end_time": "2019-05-06T20:05:11.407620Z",
     "start_time": "2019-05-06T20:05:11.289087Z"
    }
   },
   "outputs": [
    {
     "data": {
      "text/html": [
       "<div>\n",
       "<style scoped>\n",
       "    .dataframe tbody tr th:only-of-type {\n",
       "        vertical-align: middle;\n",
       "    }\n",
       "\n",
       "    .dataframe tbody tr th {\n",
       "        vertical-align: top;\n",
       "    }\n",
       "\n",
       "    .dataframe thead th {\n",
       "        text-align: right;\n",
       "    }\n",
       "</style>\n",
       "<table border=\"1\" class=\"dataframe\">\n",
       "  <thead>\n",
       "    <tr style=\"text-align: right;\">\n",
       "      <th></th>\n",
       "      <th>data_id</th>\n",
       "      <th>iso</th>\n",
       "      <th>event_id_cnty</th>\n",
       "      <th>event_id_no_cnty</th>\n",
       "      <th>event_date</th>\n",
       "      <th>year</th>\n",
       "      <th>time_precision</th>\n",
       "      <th>event_type</th>\n",
       "      <th>sub_event_type</th>\n",
       "      <th>actor1</th>\n",
       "      <th>...</th>\n",
       "      <th>location</th>\n",
       "      <th>latitude</th>\n",
       "      <th>longitude</th>\n",
       "      <th>geo_precision</th>\n",
       "      <th>source</th>\n",
       "      <th>source_scale</th>\n",
       "      <th>notes</th>\n",
       "      <th>fatalities</th>\n",
       "      <th>timestamp</th>\n",
       "      <th>iso3</th>\n",
       "    </tr>\n",
       "  </thead>\n",
       "  <tbody>\n",
       "    <tr>\n",
       "      <th>0</th>\n",
       "      <td>5152749</td>\n",
       "      <td>356</td>\n",
       "      <td>IND51288</td>\n",
       "      <td>51288</td>\n",
       "      <td>27 April 2019</td>\n",
       "      <td>2019</td>\n",
       "      <td>1</td>\n",
       "      <td>Battles</td>\n",
       "      <td>Armed clash</td>\n",
       "      <td>CPI (Maoist): Communist Party of India (Maoist)</td>\n",
       "      <td>...</td>\n",
       "      <td>Timmapur</td>\n",
       "      <td>18.5352</td>\n",
       "      <td>80.8859</td>\n",
       "      <td>2</td>\n",
       "      <td>Times of India</td>\n",
       "      <td>National</td>\n",
       "      <td>On 27 April, two police officers were killed a...</td>\n",
       "      <td>2</td>\n",
       "      <td>1556628778</td>\n",
       "      <td>IND</td>\n",
       "    </tr>\n",
       "    <tr>\n",
       "      <th>1</th>\n",
       "      <td>5153022</td>\n",
       "      <td>356</td>\n",
       "      <td>IND51297</td>\n",
       "      <td>51297</td>\n",
       "      <td>27 April 2019</td>\n",
       "      <td>2019</td>\n",
       "      <td>1</td>\n",
       "      <td>Riots</td>\n",
       "      <td>Violent demonstration</td>\n",
       "      <td>Rioters (India)</td>\n",
       "      <td>...</td>\n",
       "      <td>Kishtwar</td>\n",
       "      <td>33.3135</td>\n",
       "      <td>75.7673</td>\n",
       "      <td>1</td>\n",
       "      <td>Kashmir Times</td>\n",
       "      <td>Subnational</td>\n",
       "      <td>On 27 Apr, rioters, led by the local religious...</td>\n",
       "      <td>0</td>\n",
       "      <td>1556628778</td>\n",
       "      <td>IND</td>\n",
       "    </tr>\n",
       "    <tr>\n",
       "      <th>2</th>\n",
       "      <td>5153033</td>\n",
       "      <td>356</td>\n",
       "      <td>IND51299</td>\n",
       "      <td>51299</td>\n",
       "      <td>27 April 2019</td>\n",
       "      <td>2019</td>\n",
       "      <td>1</td>\n",
       "      <td>Protests</td>\n",
       "      <td>Peaceful protest</td>\n",
       "      <td>Protesters (India)</td>\n",
       "      <td>...</td>\n",
       "      <td>Jammu</td>\n",
       "      <td>32.7357</td>\n",
       "      <td>74.8691</td>\n",
       "      <td>1</td>\n",
       "      <td>Early Times (India)</td>\n",
       "      <td>Subnational</td>\n",
       "      <td>On 27 Apr, family members of a deceased woman ...</td>\n",
       "      <td>0</td>\n",
       "      <td>1556628778</td>\n",
       "      <td>IND</td>\n",
       "    </tr>\n",
       "    <tr>\n",
       "      <th>3</th>\n",
       "      <td>5153038</td>\n",
       "      <td>356</td>\n",
       "      <td>IND51300</td>\n",
       "      <td>51300</td>\n",
       "      <td>27 April 2019</td>\n",
       "      <td>2019</td>\n",
       "      <td>1</td>\n",
       "      <td>Protests</td>\n",
       "      <td>Peaceful protest</td>\n",
       "      <td>Protesters (India)</td>\n",
       "      <td>...</td>\n",
       "      <td>Jammu</td>\n",
       "      <td>32.7357</td>\n",
       "      <td>74.8691</td>\n",
       "      <td>1</td>\n",
       "      <td>Early Times (India)</td>\n",
       "      <td>Subnational</td>\n",
       "      <td>On 27 Apr, residents of Trikuta Nagar in Jammu...</td>\n",
       "      <td>0</td>\n",
       "      <td>1556628778</td>\n",
       "      <td>IND</td>\n",
       "    </tr>\n",
       "    <tr>\n",
       "      <th>4</th>\n",
       "      <td>5153039</td>\n",
       "      <td>356</td>\n",
       "      <td>IND51294</td>\n",
       "      <td>51294</td>\n",
       "      <td>27 April 2019</td>\n",
       "      <td>2019</td>\n",
       "      <td>1</td>\n",
       "      <td>Protests</td>\n",
       "      <td>Peaceful protest</td>\n",
       "      <td>Protesters (India)</td>\n",
       "      <td>...</td>\n",
       "      <td>Jammu</td>\n",
       "      <td>32.7357</td>\n",
       "      <td>74.8691</td>\n",
       "      <td>1</td>\n",
       "      <td>Early Times (India)</td>\n",
       "      <td>Subnational</td>\n",
       "      <td>On 27 Apr, the VRS Union staged a protest at t...</td>\n",
       "      <td>0</td>\n",
       "      <td>1556628778</td>\n",
       "      <td>IND</td>\n",
       "    </tr>\n",
       "    <tr>\n",
       "      <th>5</th>\n",
       "      <td>5153045</td>\n",
       "      <td>356</td>\n",
       "      <td>IND51298</td>\n",
       "      <td>51298</td>\n",
       "      <td>27 April 2019</td>\n",
       "      <td>2019</td>\n",
       "      <td>1</td>\n",
       "      <td>Riots</td>\n",
       "      <td>Mob violence</td>\n",
       "      <td>Rioters (India)</td>\n",
       "      <td>...</td>\n",
       "      <td>Salwah</td>\n",
       "      <td>33.6017</td>\n",
       "      <td>74.2113</td>\n",
       "      <td>1</td>\n",
       "      <td>Kashmir Times</td>\n",
       "      <td>Subnational</td>\n",
       "      <td>On 27 Apr, rioters clashed with police in Salw...</td>\n",
       "      <td>0</td>\n",
       "      <td>1556628778</td>\n",
       "      <td>IND</td>\n",
       "    </tr>\n",
       "    <tr>\n",
       "      <th>6</th>\n",
       "      <td>5153052</td>\n",
       "      <td>356</td>\n",
       "      <td>IND51295</td>\n",
       "      <td>51295</td>\n",
       "      <td>27 April 2019</td>\n",
       "      <td>2019</td>\n",
       "      <td>1</td>\n",
       "      <td>Protests</td>\n",
       "      <td>Peaceful protest</td>\n",
       "      <td>Protesters (India)</td>\n",
       "      <td>...</td>\n",
       "      <td>Tangmarg</td>\n",
       "      <td>34.0611</td>\n",
       "      <td>74.4257</td>\n",
       "      <td>1</td>\n",
       "      <td>Kashmir News Service</td>\n",
       "      <td>Subnational</td>\n",
       "      <td>On 27 Apr, trader associations from the Tangma...</td>\n",
       "      <td>0</td>\n",
       "      <td>1556628778</td>\n",
       "      <td>IND</td>\n",
       "    </tr>\n",
       "    <tr>\n",
       "      <th>7</th>\n",
       "      <td>5153066</td>\n",
       "      <td>356</td>\n",
       "      <td>IND51296</td>\n",
       "      <td>51296</td>\n",
       "      <td>27 April 2019</td>\n",
       "      <td>2019</td>\n",
       "      <td>1</td>\n",
       "      <td>Protests</td>\n",
       "      <td>Peaceful protest</td>\n",
       "      <td>Protesters (India)</td>\n",
       "      <td>...</td>\n",
       "      <td>Srinagar</td>\n",
       "      <td>34.0857</td>\n",
       "      <td>74.8056</td>\n",
       "      <td>1</td>\n",
       "      <td>Rising Kashmir</td>\n",
       "      <td>National</td>\n",
       "      <td>On 27 Apr, junior assistant and stenotypes asp...</td>\n",
       "      <td>0</td>\n",
       "      <td>1556628778</td>\n",
       "      <td>IND</td>\n",
       "    </tr>\n",
       "    <tr>\n",
       "      <th>8</th>\n",
       "      <td>5153071</td>\n",
       "      <td>356</td>\n",
       "      <td>IND51301</td>\n",
       "      <td>51301</td>\n",
       "      <td>27 April 2019</td>\n",
       "      <td>2019</td>\n",
       "      <td>1</td>\n",
       "      <td>Protests</td>\n",
       "      <td>Peaceful protest</td>\n",
       "      <td>Protesters (India)</td>\n",
       "      <td>...</td>\n",
       "      <td>Kathua</td>\n",
       "      <td>32.3867</td>\n",
       "      <td>75.5174</td>\n",
       "      <td>1</td>\n",
       "      <td>Daily Excelsior</td>\n",
       "      <td>National</td>\n",
       "      <td>On 27 Apr, local residents staged a protest at...</td>\n",
       "      <td>0</td>\n",
       "      <td>1556628778</td>\n",
       "      <td>IND</td>\n",
       "    </tr>\n",
       "    <tr>\n",
       "      <th>9</th>\n",
       "      <td>5153072</td>\n",
       "      <td>356</td>\n",
       "      <td>IND51302</td>\n",
       "      <td>51302</td>\n",
       "      <td>27 April 2019</td>\n",
       "      <td>2019</td>\n",
       "      <td>1</td>\n",
       "      <td>Battles</td>\n",
       "      <td>Armed clash</td>\n",
       "      <td>Bishnah Communal Militia (India)</td>\n",
       "      <td>...</td>\n",
       "      <td>Bishnah</td>\n",
       "      <td>32.6106</td>\n",
       "      <td>74.8556</td>\n",
       "      <td>2</td>\n",
       "      <td>Daily Excelsior</td>\n",
       "      <td>Subnational</td>\n",
       "      <td>On 27 Apr, nine people were injured during an ...</td>\n",
       "      <td>0</td>\n",
       "      <td>1556628778</td>\n",
       "      <td>IND</td>\n",
       "    </tr>\n",
       "    <tr>\n",
       "      <th>10</th>\n",
       "      <td>5153151</td>\n",
       "      <td>356</td>\n",
       "      <td>IND51292</td>\n",
       "      <td>51292</td>\n",
       "      <td>27 April 2019</td>\n",
       "      <td>2019</td>\n",
       "      <td>1</td>\n",
       "      <td>Protests</td>\n",
       "      <td>Peaceful protest</td>\n",
       "      <td>Protesters (India)</td>\n",
       "      <td>...</td>\n",
       "      <td>Lehra Bega</td>\n",
       "      <td>30.2472</td>\n",
       "      <td>75.1189</td>\n",
       "      <td>1</td>\n",
       "      <td>Chandigarh Tribune</td>\n",
       "      <td>Subnational</td>\n",
       "      <td>On 27 April, villagers blocked the Bathinda-Ch...</td>\n",
       "      <td>0</td>\n",
       "      <td>1556628778</td>\n",
       "      <td>IND</td>\n",
       "    </tr>\n",
       "    <tr>\n",
       "      <th>11</th>\n",
       "      <td>5153153</td>\n",
       "      <td>356</td>\n",
       "      <td>IND51287</td>\n",
       "      <td>51287</td>\n",
       "      <td>27 April 2019</td>\n",
       "      <td>2019</td>\n",
       "      <td>1</td>\n",
       "      <td>Violence against civilians</td>\n",
       "      <td>Attack</td>\n",
       "      <td>Unidentified Armed Group (India)</td>\n",
       "      <td>...</td>\n",
       "      <td>Sultanwind</td>\n",
       "      <td>31.6024</td>\n",
       "      <td>74.9093</td>\n",
       "      <td>1</td>\n",
       "      <td>Chandigarh Tribune</td>\n",
       "      <td>Subnational</td>\n",
       "      <td>On 27 April, two persons were assaulted and in...</td>\n",
       "      <td>0</td>\n",
       "      <td>1556628778</td>\n",
       "      <td>IND</td>\n",
       "    </tr>\n",
       "    <tr>\n",
       "      <th>12</th>\n",
       "      <td>5153161</td>\n",
       "      <td>356</td>\n",
       "      <td>IND51290</td>\n",
       "      <td>51290</td>\n",
       "      <td>27 April 2019</td>\n",
       "      <td>2019</td>\n",
       "      <td>1</td>\n",
       "      <td>Protests</td>\n",
       "      <td>Peaceful protest</td>\n",
       "      <td>Protesters (India)</td>\n",
       "      <td>...</td>\n",
       "      <td>Mahal</td>\n",
       "      <td>31.6534</td>\n",
       "      <td>74.8191</td>\n",
       "      <td>1</td>\n",
       "      <td>Chandigarh Tribune</td>\n",
       "      <td>Subnational</td>\n",
       "      <td>On 27 April, victims of a fraud scheme demonst...</td>\n",
       "      <td>0</td>\n",
       "      <td>1556628778</td>\n",
       "      <td>IND</td>\n",
       "    </tr>\n",
       "    <tr>\n",
       "      <th>13</th>\n",
       "      <td>5153166</td>\n",
       "      <td>356</td>\n",
       "      <td>IND51291</td>\n",
       "      <td>51291</td>\n",
       "      <td>27 April 2019</td>\n",
       "      <td>2019</td>\n",
       "      <td>1</td>\n",
       "      <td>Protests</td>\n",
       "      <td>Peaceful protest</td>\n",
       "      <td>Protesters (India)</td>\n",
       "      <td>...</td>\n",
       "      <td>Bathinda</td>\n",
       "      <td>30.2108</td>\n",
       "      <td>74.9452</td>\n",
       "      <td>1</td>\n",
       "      <td>Chandigarh Tribune</td>\n",
       "      <td>Subnational</td>\n",
       "      <td>On 27 April, residents of Ajit Road street num...</td>\n",
       "      <td>0</td>\n",
       "      <td>1556628778</td>\n",
       "      <td>IND</td>\n",
       "    </tr>\n",
       "    <tr>\n",
       "      <th>14</th>\n",
       "      <td>5153169</td>\n",
       "      <td>356</td>\n",
       "      <td>IND51280</td>\n",
       "      <td>51280</td>\n",
       "      <td>27 April 2019</td>\n",
       "      <td>2019</td>\n",
       "      <td>1</td>\n",
       "      <td>Protests</td>\n",
       "      <td>Peaceful protest</td>\n",
       "      <td>Protesters (India)</td>\n",
       "      <td>...</td>\n",
       "      <td>Bathinda</td>\n",
       "      <td>30.2108</td>\n",
       "      <td>74.9452</td>\n",
       "      <td>1</td>\n",
       "      <td>Chandigarh Tribune</td>\n",
       "      <td>Subnational</td>\n",
       "      <td>On 27 April, members of the Anganwadi Mulazam ...</td>\n",
       "      <td>0</td>\n",
       "      <td>1556628778</td>\n",
       "      <td>IND</td>\n",
       "    </tr>\n",
       "    <tr>\n",
       "      <th>15</th>\n",
       "      <td>5153175</td>\n",
       "      <td>356</td>\n",
       "      <td>IND51281</td>\n",
       "      <td>51281</td>\n",
       "      <td>27 April 2019</td>\n",
       "      <td>2019</td>\n",
       "      <td>1</td>\n",
       "      <td>Protests</td>\n",
       "      <td>Peaceful protest</td>\n",
       "      <td>Protesters (India)</td>\n",
       "      <td>...</td>\n",
       "      <td>Jalandhar</td>\n",
       "      <td>31.3255</td>\n",
       "      <td>75.5791</td>\n",
       "      <td>1</td>\n",
       "      <td>Chandigarh Tribune</td>\n",
       "      <td>Subnational</td>\n",
       "      <td>On 27 April, members of the Anganwadi Mulazam ...</td>\n",
       "      <td>0"
      ],
      "text/plain": [
       "       data_id  iso event_id_cnty  event_id_no_cnty       event_date  year  \\\n",
       "0      5152749  356      IND51288             51288    27 April 2019  2019   \n",
       "1      5153022  356      IND51297             51297    27 April 2019  2019   \n",
       "2      5153033  356      IND51299             51299    27 April 2019  2019   \n",
       "3      5153038  356      IND51300             51300    27 April 2019  2019   \n",
       "4      5153039  356      IND51294             51294    27 April 2019  2019   \n",
       "5      5153045  356      IND51298             51298    27 April 2019  2019   \n",
       "6      5153052  356      IND51295             51295    27 April 2019  2019   \n",
       "7      5153066  356      IND51296             51296    27 April 2019  2019   \n",
       "8      5153071  356      IND51301             51301    27 April 2019  2019   \n",
       "9      5153072  356      IND51302             51302    27 April 2019  2019   \n",
       "10     5153151  356      IND51292             51292    27 April 2019  2019   \n",
       "11     5153153  356      IND51287             51287    27 April 2019  2019   \n",
       "12     5153161  356      IND51290             51290    27 April 2019  2019   \n",
       "13     5153166  356      IND51291             51291    27 April 2019  2019   \n",
       "14     5153169  356      IND51280             51280    27 April 2019  2019   \n",
       "15     5153175  356      IND51281             51281    27 April 2019  2019   \n",
       "16     5153181  356      IND51282             51282    27 April 2019  2019   \n",
       "17     5153185  356      IND51283             51283    27 April 2019  2019   \n",
       "18     5153189  356      IND51285             51285    27 April 2019  2019   \n",
       "19     5153197  356      IND51284             51284    27 April 2019  2019   \n",
       "20     5153208  356      IND51293             51293    27 April 2019  2019   \n",
       "21     5153211  356      IND51286             51286    27 April 2019  2019   \n",
       "22     5153220  356      IND51289             51289    27 April 2019  2019   \n",
       "23     5153222  356      IND51279             51279    27 April 2019  2019   \n",
       "24     5153360  356      IND51278             51278    27 April 2019  2019   \n",
       "25     5152979  356      IND51265             51265    26 April 2019  2019   \n",
       "26     5152985  356      IND51266             51266    26 April 2019  2019   \n",
       "27     5152991  356      IND51268             51268    26 April 2019  2019   \n",
       "28     5153005  356      IND51267             51267    26 April 2019  2019   \n",
       "29     5153010  356      IND51269             51269    26 April 2019  2019   \n",
       "...        ...  ...           ...               ...              ...   ...   \n",
       "51177  4838806  356         IND29                29  02 January 2016  2016   \n",
       "51178  4838807  356         IND30                30  02 January 2016  2016   \n",
       "51179  4838808  356         IND31                31  02 January 2016  2016   \n",
       "51180  4838809  356         IND32                32  02 January 2016  2016   \n",
       "51181  4838810  356         IND33                33  02 January 2016  2016   \n",
       "51182  4838811  356         IND34                34  02 January 2016  2016   \n",
       "51183  5108186  356         IND35                35  02 January 2016  2016   \n",
       "51184  5108185  356         IND36                36  02 January 2016  2016   \n",
       "51185  4838814  356         IND37                37  02 January 2016  2016   \n",
       "51186  4838815  356         IND38                38  02 January 2016  2016   \n",
       "51187  4838816  356         IND39                39  02 January 2016  2016   \n",
       "51188  4838802  356         IND25                25  02 January 2016  2016   \n",
       "51189  4838803  356         IND26                26  02 January 2016  2016   \n",
       "51190  4838963  356          IND1                 1  01 January 2016  2016   \n",
       "51191  4838964  356          IND2                 2  01 January 2016  2016   \n",
       "51192  4838965  356          IND3                 3  01 January 2016  2016   \n",
       "51193  4838966  356          IND4                 4  01 January 2016  2016   \n",
       "51194  4838967  356          IND5                 5  01 January 2016  2016   \n",
       "51195  4838968  356          IND6                 6  01 January 2016  2016   \n",
       "51196  4838969  356          IND7                 7  01 January 2016  2016   \n",
       "51197  4838970  356          IND8                 8  01 January 2016  2016   \n",
       "51198  4838971  356          IND9                 9  01 January 2016  2016   \n",
       "51199  4838972  356         IND10                10  01 January 2016  2016   \n",
       "51200  4838973  356         IND11                11  01 January 2016  2016   \n",
       "51201  4838974  356         IND12                12  01 January 2016  2016   \n",
       "51202  4838975  356         IND13                13  01 January 2016  2016   \n",
       "51203  4838976  356         IND14                14  01 January 2016  2016   \n",
       "51204  5124020  356      IND49232             49232  01 January 2016  2016   \n",
       "51205  5124021  356      IND49233             49233  01 January 2016  2016   \n",
       "51206  5153385  356      IND50859             50859     03 July 2015  2015   \n",
       "\n",
       "       time_precision                  event_type  \\\n",
       "0                   1                     Battles   \n",
       "1                   1                       Riots   \n",
       "2                   1                    Protests   \n",
       "3                   1                    Protests   \n",
       "4                   1                    Protests   \n",
       "5                   1                       Riots   \n",
       "6                   1                    Protests   \n",
       "7                   1                    Protests   \n",
       "8                   1                    Protests   \n",
       "9                   1                     Battles   \n",
       "10                  1                    Protests   \n",
       "11                  1  Violence against civilians   \n",
       "12                  1                    Protests   \n",
       "13                  1                    Protests   \n",
       "14                  1                    Protests   \n",
       "15                  1                    Protests   \n",
       "16                  1                    Protests   \n",
       "17                  1                    Protests   \n",
       "18                  1                       Riots   \n",
       "19                  1                    Protests   \n",
       "20                  1                    Protests   \n",
       "21                  1                       Riots   \n",
       "22                  1                    Protests   \n",
       "23                  1                    Protests   \n",
       "24                  1                    Protests   \n",
       "25                  1                    Protests   \n",
       "26                  1                    Protests   \n",
       "27                  1                     Battles   \n",
       "28                  1                    Protests   \n",
       "29                  1  Explosions/Remote violence   \n",
       "...               ...                         ...   \n",
       "51177               1                    Protests   \n",
       "51178               1                    Protests   \n",
       "51179               1                    Protests   \n",
       "51180               1                    Protests   \n",
       "51181               1                    Protests   \n",
       "51182               1                    Protests   \n",
       "51183               1                     Battles   \n",
       "51184               1                     Battles   \n",
       "51185               1                    Protests   \n",
       "51186               1      Strategic developments   \n",
       "51187               1                       Riots   \n",
       "51188               1  Violence against civilians   \n",
       "51189               1  Violence against civilians   \n",
       "51190               1                       Riots   \n",
       "51191               1                    Protests   \n",
       "51192               1                    Protests   \n",
       "51193               1                    Protests   \n",
       "51194               1                       Riots   \n",
       "51195               1                    Protests   \n",
       "51196               1                    Protests   \n",
       "51197               1                    Protests   \n",
       "51198               1                    Protests   \n",
       "51199               1                     Battles   \n",
       "51200               1                    Protests   \n",
       "51201               1                    Protests   \n",
       "51202               1                       Riots   \n",
       "51203               1                    Protests   \n",
       "51204               1                    Protests   \n",
       "51205               1                    Protests   \n",
       "51206               1                     Battles   \n",
       "\n",
       "                      sub_event_type  \\\n",
       "0                        Armed clash   \n",
       "1              Violent demonstration   \n",
       "2                   Peaceful protest   \n",
       "3                   Peaceful protest   \n",
       "4                   Peaceful protest   \n",
       "5                       Mob violence   \n",
       "6                   Peaceful protest   \n",
       "7                   Peaceful protest   \n",
       "8                   Peaceful protest   \n",
       "9                        Armed clash   \n",
       "10                  Peaceful protest   \n",
       "11                            Attack   \n",
       "12                  Peaceful protest   \n",
       "13                  Peaceful protest   \n",
       "14                  Peaceful protest   \n",
       "15                  Peaceful protest   \n",
       "16                  Peaceful protest   \n",
       "17                  Peaceful protest   \n",
       "18                      Mob violence   \n",
       "19                  Peaceful protest   \n",
       "20                  Peaceful protest   \n",
       "21                      Mob violence   \n",
       "22                  Peaceful protest   \n",
       "23                  Peaceful protest   \n",
       "24                  Peaceful protest   \n",
       "25                  Peaceful protest   \n",
       "26                  Peaceful protest   \n",
       "27                       Armed clash   \n",
       "28                  Peaceful protest   \n",
       "29     Remote explosive/landmine/IED   \n",
       "...                              ...   \n",
       "51177               Peaceful protest   \n",
       "51178               Peaceful protest   \n",
       "51179               Peaceful protest   \n",
       "51180               Peaceful protest   \n",
       "51181               Peaceful protest   \n",
       "51182               Peaceful protest   \n",
       "51183                    Armed clash   \n",
       "51184                    Armed clash   \n",
       "51185               Peaceful protest   \n",
       "51186   Looting/property destruction   \n",
       "51187          Violent demonstration   \n",
       "51188                         Attack   \n",
       "51189                         Attack   \n",
       "51190                   Mob violence   \n",
       "51191               Peaceful protest"
      ]
     },
     "execution_count": 27,
     "metadata": {},
     "output_type": "execute_result"
    },
    {
     "data": {
      "text/html": [
       "<b>limit_output extension: Maximum message size of 10000 exceeded with 35832 characters</b>"
      ]
     },
     "metadata": {},
     "output_type": "display_data"
    }
   ],
   "source": [
    "acled_data"
   ]
  },
  {
   "cell_type": "code",
   "execution_count": 67,
   "metadata": {
    "ExecuteTime": {
     "end_time": "2019-05-06T21:35:07.330287Z",
     "start_time": "2019-05-06T21:35:07.327318Z"
    }
   },
   "outputs": [],
   "source": [
    "article = \"On July 15, a long protest march by farmers, from Mandsaur in Madhya Pradesh to New Delhi, demanding loan waiver and fair price for their produce, reached Jaipur.\""
   ]
  },
  {
   "cell_type": "code",
   "execution_count": 76,
   "metadata": {
    "ExecuteTime": {
     "end_time": "2019-05-06T21:39:06.534429Z",
     "start_time": "2019-05-06T21:39:06.503475Z"
    }
   },
   "outputs": [],
   "source": [
    "# article = ' '.join(generate_document_vocabulary(article))\n",
    "article = ' '.join(train_data['vocabulary'].loc[0])"
   ]
  },
  {
   "cell_type": "code",
   "execution_count": 77,
   "metadata": {
    "ExecuteTime": {
     "end_time": "2019-05-06T21:39:07.284148Z",
     "start_time": "2019-05-06T21:39:07.177484Z"
    }
   },
   "outputs": [],
   "source": [
    "inferred_vector = model.infer_vector([article])\n",
    "sims = model.docvecs.most_similar([inferred_vector], topn=len(model.docvecs))"
   ]
  },
  {
   "cell_type": "code",
   "execution_count": 80,
   "metadata": {
    "ExecuteTime": {
     "end_time": "2019-05-06T21:39:36.339529Z",
     "start_time": "2019-05-06T21:39:36.333279Z"
    },
    "scrolled": true
   },
   "outputs": [
    {
     "data": {
      "text/plain": [
       "['srinagar',\n",
       " 'peoples',\n",
       " 'democratic',\n",
       " 'party',\n",
       " 'pdp',\n",
       " 'president',\n",
       " 'mehbooba',\n",
       " 'mufti',\n",
       " 'sunday',\n",
       " 'said',\n",
       " 'choking',\n",
       " 'democratic',\n",
       " 'space',\n",
       " 'punishing',\n",
       " 'people',\n",
       " 'collectively',\n",
       " 'new',\n",
       " 'policy',\n",
       " 'adopted',\n",
       " 'centre',\n",
       " 'deal',\n",
       " 'kashmirthe',\n",
       " 'purpose',\n",
       " 'behind',\n",
       " 'repressive',\n",
       " 'measures',\n",
       " 'taken',\n",
       " 'jammu',\n",
       " 'kashmir',\n",
       " 'bjpled',\n",
       " 'government',\n",
       " 'show',\n",
       " 'electorate',\n",
       " 'tough',\n",
       " 'saffron',\n",
       " 'party',\n",
       " 'kashmiris',\n",
       " 'mufti',\n",
       " 'claimed',\n",
       " 'choking',\n",
       " 'democratic',\n",
       " 'space',\n",
       " 'punishing',\n",
       " 'people',\n",
       " 'collectively',\n",
       " 'unfortunately',\n",
       " 'new',\n",
       " 'policy',\n",
       " 'adopted',\n",
       " 'government',\n",
       " 'india',\n",
       " 'deal',\n",
       " 'kashmir',\n",
       " 'former',\n",
       " 'chief',\n",
       " 'minister',\n",
       " 'said',\n",
       " 'pdp',\n",
       " 'youth',\n",
       " 'convention',\n",
       " 'herereferring',\n",
       " 'ban',\n",
       " 'imposed',\n",
       " 'jklf',\n",
       " 'jamaateislami',\n",
       " 'jammu',\n",
       " 'kashmir',\n",
       " 'said',\n",
       " 'ironic',\n",
       " 'one',\n",
       " 'hand',\n",
       " 'central',\n",
       " 'government',\n",
       " 'claims',\n",
       " 'launched',\n",
       " 'rehabilitation',\n",
       " 'scheme',\n",
       " 'terrorists',\n",
       " 'lay',\n",
       " 'arms',\n",
       " 'organisations',\n",
       " 'like',\n",
       " 'jammat',\n",
       " 'jklf',\n",
       " 'rejected',\n",
       " 'violence',\n",
       " 'method',\n",
       " 'achieving',\n",
       " 'goal',\n",
       " 'slapped',\n",
       " 'bans',\n",
       " 'jklf',\n",
       " 'committed',\n",
       " 'resolution',\n",
       " 'political',\n",
       " 'means',\n",
       " 'jamaateislami',\n",
       " 'religious',\n",
       " 'social',\n",
       " 'organisation',\n",
       " 'running',\n",
       " 'schools',\n",
       " 'orphanages',\n",
       " 'across',\n",
       " 'state',\n",
       " 'repressive',\n",
       " 'measures',\n",
       " 'shrink',\n",
       " 'already',\n",
       " 'limited',\n",
       " 'space',\n",
       " 'increase',\n",
       " 'level',\n",
       " 'alienation',\n",
       " 'frustration',\n",
       " 'among',\n",
       " 'people',\n",
       " 'mufti',\n",
       " 'saidthe',\n",
       " 'pdp',\n",
       " 'chief',\n",
       " 'termed',\n",
       " 'upcoming',\n",
       " 'elections',\n",
       " 'crucial',\n",
       " 'determining',\n",
       " 'future',\n",
       " 'state']"
      ]
     },
     "execution_count": 80,
     "metadata": {},
     "output_type": "execute_result"
    }
   ],
   "source": [
    "train_data.vocabulary.loc[0]"
   ]
  },
  {
   "cell_type": "code",
   "execution_count": 78,
   "metadata": {
    "ExecuteTime": {
     "end_time": "2019-05-06T21:39:07.738273Z",
     "start_time": "2019-05-06T21:39:07.698076Z"
    }
   },
   "outputs": [
    {
     "data": {
      "text/plain": [
       "[(17427, 0.5008977651596069),\n",
       " (5395, 0.47333860397338867),\n",
       " (35413, 0.4725831151008606),\n",
       " (22930, 0.466962993144989),\n",
       " (40266, 0.448144793510437),\n",
       " (2112, 0.4463515281677246),\n",
       " (40747, 0.44367122650146484),\n",
       " (35499, 0.4425381124019623),\n",
       " (14411, 0.4419245421886444),\n",
       " (7118, 0.44013839960098267),\n",
       " (27979, 0.4398616552352905),\n",
       " (34085, 0.43917006254196167),\n",
       " (28969, 0.43916821479797363),\n",
       " (17293, 0.4362945854663849),\n",
       " (12326, 0.436016708612442),\n",
       " (45232, 0.4349808692932129),\n",
       " (27864, 0.43325191736221313),\n",
       " (28245, 0.4316686987876892),\n",
       " (42142, 0.430948942899704),\n",
       " (29173, 0.42854657769203186),\n",
       " (42583, 0.42552709579467773),\n",
       " (38734, 0.42516520619392395),\n",
       " (39534, 0.4250064492225647),\n",
       " (6208, 0.4234922528266907),\n",
       " (28244, 0.4225272536277771),\n",
       " (42466, 0.42221054434776306),\n",
       " (34910, 0.4198230504989624),\n",
       " (1650, 0.4195080101490021),\n",
       " (26327, 0.4178103804588318),\n",
       " (2197, 0.41751593351364136),\n",
       " (41750, 0.4167533814907074),\n",
       " (41713, 0.41581499576568604),\n",
       " (5296, 0.41516363620758057),\n",
       " (5182, 0.4149540662765503),\n",
       " (21732, 0.41332530975341797),\n",
       " (7129, 0.41254687309265137),\n",
       " (22449, 0.4123033285140991),\n",
       " (369, 0.412216454744339),\n",
       " (45404, 0.41160595417022705),\n",
       " (41784, 0.41131436824798584),\n",
       " (16246, 0.4104728102684021),\n",
       " (43550, 0.4088519215583801),\n",
       " (32395, 0.40695273876190186),\n",
       " (45403, 0.40662211179733276),\n",
       " (12373, 0.4064836800098419),\n",
       " (18727, 0.40475791692733765),\n",
       " (32744, 0.40472960472106934),\n",
       " (29958, 0.40353456139564514),\n",
       " (44282, 0.40351077914237976),\n",
       " (29695, 0.4016774296760559),\n",
       " (41312, 0.3994969129562378),\n",
       " (5967, 0.3986642360687256),\n",
       " (37068, 0.3977348506450653),\n",
       " (32357, 0.39741969108581543),\n",
       " (40679, 0.39571690559387207),\n",
       " (29817, 0.3950842320919037),\n",
       " (425, 0.3943840265274048),\n",
       " (39443, 0.3943380117416382),\n",
       " (9193, 0.3940183222293854),\n",
       " (9424, 0.3939426839351654),\n",
       " (31113, 0.393780380487442),\n",
       " (20875, 0.3930157721042633),\n",
       " (10583, 0.39264655113220215),\n",
       " (10259, 0.3926260471343994),\n",
       " (33999, 0.3923912048339844),\n",
       " (6828, 0.3923903703689575),\n",
       " (38781, 0.39176875352859497),\n",
       " (43231, 0.3909398317337036),\n",
       " (24177, 0.390598863363266),\n",
       " (888, 0.39045828580856323),\n",
       " (34200, 0.38994961977005005),\n",
       " (12540, 0.3896017074584961),\n",
       " (31241, 0.388552725315094),\n",
       " (25770, 0.38848063349723816),\n",
       " (4236, 0.38842862844467163),\n",
       " (8010, 0.3880663514137268),\n",
       " (30152, 0.3878706097602844),\n",
       " (34348, 0.38673484325408936),\n",
       " (13848, 0.38660454750061035),\n",
       " (27554, 0.3861095607280731),\n",
       " (40165, 0.38602668046951294),\n",
       " (7060, 0.38593703508377075),\n",
       " (25951, 0.38474103808403015),\n",
       " (30243, 0.3842088282108307),\n",
       " (39085, 0.38407132029533386),\n",
       " (37513, 0.38354921340942383),\n",
       " (7098, 0.38347867131233215),\n",
       " (7215, 0.38322335481643677),\n",
       " (39630, 0.3823358118534088),\n",
       " (44092, 0.3820410966873169),\n",
       " (14244, 0.38155579566955566),\n",
       " (6789, 0.3812606632709503),\n",
       " (29146, 0.38123205304145813),\n",
       " (26494, 0.38108325004577637),\n",
       " (36060, 0.3810123801231384),\n",
       " (27077, 0.3810005784034729),\n",
       " (26067, 0.38050001859664917),\n",
       " (169, 0.37951964139938354),\n",
       " (23712, 0.3795177936553955),\n",
       " (37625, 0.37936875224113464),\n",
       " (32603, 0.37828946113586426),\n",
       " (274, 0.37805840373039246),\n",
       " (12322, 0.37795400619506836),\n",
       " (10931, 0.37785804271698),\n",
       " (42354, 0.377853661775589),\n",
       " (10864, 0.377530038356781),\n",
       " (23825, 0.3773636519908905),\n",
       " (20195, 0.3773430585861206),\n",
       " (34240, 0.37721580266952515),\n",
       " (29329, 0.37704020738601685),\n",
       " (6530, 0.3767332136631012),\n",
       " (34983, 0.3756028711795807),\n",
       " (40311, 0.37549471855163574),\n",
       " (15190, 0.37534794211387634),\n",
       " (12001, 0.37529388070106506),\n",
       " (8133, 0.3752191364765167),\n",
       " (29652, 0.37451618909835815),\n",
       " (39570, 0.3740440607070923),\n",
       " (18675, 0.37352246046066284),\n",
       " (34047, 0.3734736144542694),\n",
       " (4153, 0.3731880187988281),\n",
       " (30845, 0.3730723559856415),\n",
       " (31687, 0.3729698657989502),\n",
       " (13015, 0.3727113902568817),\n",
       " (15342, 0.37261366844177246),\n",
       " (21129, 0.37235015630722046),\n",
       " (32602, 0.3723399043083191),\n",
       " (31540, 0.37165722250938416),\n",
       " (16424, 0.3714908957481384),\n",
       " (29846, 0.371311217546463),\n",
       " (27346, 0.37016016244888306),\n",
       " (30822, 0.36893895268440247),\n",
       " (17759, 0.3685382008552551),\n",
       " (18213, 0.36817461252212524),\n",
       " (16088, 0.36801981925964355),\n",
       " (14115, 0.3677038550376892),\n",
       " (31791, 0.36753660440444946),\n",
       " (17281, 0.36753448843955994),\n",
       " (5983, 0.3673441708087921),\n",
       " (19734, 0.3672158718109131),\n",
       " (17270, 0.366942822933197),\n",
       " (20153, 0.3668179214000702),\n",
       " (33752, 0.3656385838985443),\n",
       " (21426, 0.3655110001564026),\n",
       " (41795, 0.3652397394180298),\n",
       " (44068, 0.36488109827041626),\n",
       " (26466, 0.36482834815979004),\n",
       " (4181, 0.36460399627685547),\n",
       " (4253, 0.36443257331848145),\n",
       " (7738, 0.36443018913269043),\n",
       " (6068, 0.3641153573989868),\n",
       " (5118, 0.36396217346191406),\n",
       " (2261, 0.3635518252849579),\n",
       " (35285, 0.3634515404701233),\n",
       " (29873, 0.3630981743335724),\n",
       " (35189, 0.36294543743133545),\n",
       " (2819, 0.36289188265800476),\n",
       " (41363, 0.36278849840164185),\n",
       " (13128, 0.3623245656490326),\n",
       " (2187, 0.3621114492416382),\n",
       " (17664, 0.36200210452079773),\n",
       " (27412, 0.3619854748249054),\n",
       " (16456, 0.3619518578052521),\n",
       " (2132, 0.36176538467407227),\n",
       " (23121, 0.36120688915252686),\n",
       " (3163, 0.3608661890029907),\n",
       " (3177, 0.36053723096847534),\n",
       " (10587, 0.360345721244812),\n",
       " (30142, 0.36012011766433716),\n",
       " (15597, 0.3598913252353668),\n",
       " (29724, 0.3598266541957855),\n",
       " (42443, 0.3596859574317932),\n",
       " (17518, 0.3584894835948944),\n",
       " (2414, 0.35822850465774536),\n",
       " (30154, 0.3582138419151306),\n",
       " (42611, 0.35811251401901245),\n",
       " (43103, 0.35792994499206543),\n",
       " (32302, 0.3577117323875427),\n",
       " (8078, 0.35764679312705994),\n",
       " (38390, 0.357567697763443),\n",
       " (30370, 0.3573881983757019),\n",
       " (38467, 0.35729169845581055),\n",
       " (9430, 0.3572826385498047),\n",
       " (32042, 0.3570865988731384),\n",
       " (20676, 0.3570784628391266),\n",
       " (12603, 0.35676103830337524),\n",
       " (34118, 0.35657361149787903),\n",
       " (24879, 0.3564014434814453),\n",
       " (25249, 0.35635632276535034),\n",
       " (39685, 0.3561630845069885),\n",
       " (41187, 0.35602137446403503),\n",
       " (9543, 0.35563570261001587),\n",
       " (23459, 0.35557329654693604),\n",
       " (43105, 0.355363667011261),\n",
       " (24840, 0.35508206486701965),\n",
       " (35651, 0.35506248474121094),\n",
       " (16005, 0.3550385534763336),\n",
       " (20190, 0.35489940643310547),\n",
       " (4224, 0.35466745495796204),\n",
       " (43106, 0.35436147451400757),\n",
       " (34491, 0.3543068766593933),\n",
       " (13299, 0.35422998666763306),\n",
       " (25686, 0.3542155623435974),\n",
       " (42082, 0.353971928358078),\n",
       " (3627, 0.3539097309112549),\n",
       " (10836, 0.3538232445716858),\n",
       " (2354, 0.3537912368774414),\n",
       " (39150, 0.35315608978271484),\n",
       " (20699, 0.3531525135040283),\n",
       " (33826, 0.3531274199485779),\n",
       " (28699, 0.3530092239379883),\n",
       " (11053, 0.3527068793773651),\n",
       " (13259, 0.35266780853271484),\n",
       " (35399, 0.3526489734649658),\n",
       " (20112, 0.3525141179561615),\n",
       " (43104, 0.3523876667022705),\n",
       " (38514, 0.352375328540802),\n",
       " (11893, 0.35222214460372925),\n",
       " (35131, 0.3519670069217682),\n",
       " (42177, 0.35174334049224854),\n",
       " (3383, 0.3516761064529419),\n",
       " (2316, 0.35154473781585693),\n",
       " (23711, 0.3514624536037445),\n",
       " (13318, 0.3513199985027313),\n",
       " (29627, 0.35120832920074463),\n",
       " (29247, 0.3511779308319092),\n",
       " (21211, 0.35109013319015503),\n",
       " (21902, 0.35081011056900024),\n",
       " (26227, 0.3507012724876404),\n",
       " (30199, 0.35040634870529175),\n",
       " (42307, 0.35032403469085693),\n",
       " (37447, 0.3501005470752716),\n",
       " (9593, 0.3498895466327667),\n",
       " (15459, 0.34921565651893616),\n",
       " (12658, 0.34910422563552856),\n",
       " (11981, 0.3490605056285858),\n",
       " (26671, 0.34896308183670044),\n",
       " (31735, 0.34879404306411743),\n",
       " (12598, 0.34860143065452576),\n",
       " (30808, 0.3485424518585205),\n",
       " (8913, 0.34843191504478455),\n",
       " (7452, 0.34840500354766846),\n",
       " (36920, 0.34836360812187195),\n",
       " (29275, 0.34825751185417175),\n",
       " (21173, 0.34793388843536377),\n",
       " (8589, 0.3478955626487732),\n",
       " (20263, 0.3478351831436157),\n",
       " (31239, 0.3478315472602844),\n",
       " (34900, 0.3477941155433655),\n",
       " (988, 0.3476431667804718),\n",
       " (16091, 0.3476405143737793),\n",
       " (32344, 0.3472480773925781),\n",
       " (26226, 0.346640944480896),\n",
       " (40431, 0.34652143716812134),\n",
       " (31042, 0.34644949436187744),\n",
       " (16226, 0.3462906777858734),\n",
       " (36401, 0.346150279045105),\n",
       " (15253, 0.34601882100105286),\n",
       " (33891, 0.34598129987716675),\n",
       " (8925, 0.3459182381629944),\n",
       " (26698, 0.34560999274253845),\n",
       " (22312, 0.3455584645271301),\n",
       " (15938, 0.34536755084991455),\n",
       " (12823, 0.3452610969543457),\n",
       " (35284, 0.3451356887817383),\n",
       " (43107, 0.34508901834487915),\n",
       " (14122, 0.34498459100723267),\n",
       " (14528, 0.3449666500091553),\n",
       " (34285, 0.34467625617980957),\n",
       " (13286, 0.344207227230072),\n",
       " (2829, 0.3441742956638336),\n",
       " (1651, 0.34412747621536255),\n",
       " (29105, 0.3441266417503357),\n",
       " (25030, 0.34392377734184265),\n",
       " (14290, 0.343667596578598),\n",
       " (3435, 0.343597948551178),\n",
       " (44258, 0.34342828392982483),\n",
       " (40802, 0.34337350726127625),\n",
       " (14301, 0.34332022070884705),\n",
       " (21893, 0.34320732951164246),\n",
       " (10475, 0.3431946337223053),\n",
       " (9853, 0.34291791915893555),\n",
       " (22335, 0.34283357858657837),\n",
       " (23063, 0.34274572134017944),\n",
       " (24093, 0.3424815535545349),\n",
       " (15680, 0.3424121141433716),\n",
       " (44912, 0.34235721826553345),\n",
       " (6495, 0.34232473373413086),\n",
       " (28583, 0.34229543805122375),\n",
       " (20907, 0.3422892391681671),\n",
       " (39038, 0.341982364654541),\n",
       " (38650, 0.34191960096359253),\n",
       " (36665, 0.3418228328227997),\n",
       " (27179, 0.34176337718963623),\n",
       " (24700, 0.34172558784484863),\n",
       " (4864, 0.3416690230369568),\n",
       " (32856, 0.34166350960731506),\n",
       " (20743, 0.3415961265563965),\n",
       " (14270, 0.3412075340747833),\n",
       " (1129, 0.34046047925949097),\n",
       " (18979, 0.3402435779571533),\n",
       " (39226, 0.33976858854293823),\n",
       " (20406, 0.3395615518093109),\n",
       " (39838, 0.3391050398349762),\n",
       " (42083, 0.3389953076839447),\n",
       " (14551, 0.3388948440551758),\n",
       " (25855, 0.33888334035873413),\n",
       " (35650, 0.3388158977031708),\n",
       " (32480, 0.3387622833251953),\n",
       " (28491, 0.338534951210022),\n",
       " (16104, 0.33848774433135986),\n",
       " (40957, 0.3384389281272888),\n",
       " (30049, 0.33834442496299744),\n",
       " (22605, 0.33784914016723633),\n",
       " (7819, 0.3378435969352722),\n",
       " (33151, 0.3377947509288788),\n",
       " (13243, 0.33778971433639526),\n",
       " (43921, 0.337496817111969),\n",
       " (35044, 0.3374224901199341),\n",
       " (19514, 0.33684849739074707),\n",
       " (39601, 0.33648741245269775),\n",
       " (3889, 0.3363759219646454),\n",
       " (43092, 0.3359105587005615),\n",
       " (24277, 0.3355887532234192),\n",
       " (11902, 0.3354454040527344),\n",
       " (27992, 0.33541733026504517),\n",
       " (36285, 0.33537155389785767),\n",
       " (44811, 0.3352513313293457),\n",
       " (18157, 0.33520418405532837),\n",
       " (2321, 0.33518069982528687),\n",
       " (4832, 0.3349563479423523),\n",
       " (17680, 0.334"
      ]
     },
     "execution_count": 78,
     "metadata": {},
     "output_type": "execute_result"
    },
    {
     "data": {
      "text/html": [
       "<b>limit_output extension: Maximum message size of 10000 exceeded with 30135 characters</b>"
      ]
     },
     "metadata": {},
     "output_type": "display_data"
    }
   ],
   "source": [
    "sims"
   ]
  },
  {
   "cell_type": "code",
   "execution_count": 79,
   "metadata": {
    "ExecuteTime": {
     "end_time": "2019-05-06T21:39:16.554399Z",
     "start_time": "2019-05-06T21:39:16.549394Z"
    }
   },
   "outputs": [
    {
     "data": {
      "text/plain": [
       "'new delhi state thursday sought death penalty two men convicted murder heinous charges antisikh riots case prosecution submitted court killings premeditated part genocide sikhsasserting rarest rare case victims deprived justice years public prosecutor k kain sit lawyer surinder mohit singh urged additional sessions judge ajay pandey award capital punishment defence hand asked court leniency fate convicts hangs sentencing november two men killed communal frenzy november hardev singh avtar singh court convicted two men killings making first conviction secured sit constituted centre probe riot caseskain submitted convicted sehrawat yashpal caused brutal murders wounded three others brought kerosene sticks stones etc case falls within aggravating circumstances committed planning involved extreme cruelty prosecution arguedthe prosecution also submitted crime exhibited exceptional depravity thousands innocent people murdered properties looted delhi incidents affected society large sikh community targeted prosecutor saiddefence counsel p sharma asked leniency argued attack planned happened flareup prosecution argued premeditated happened day prime minister indira gandhi assassination october singh brother hardev singh testified congress leader sehrawat leading mob exhorting kill sikhs said mob moved towards hardev ran take refuge room one surjeet singh later became eyewitness'"
      ]
     },
     "execution_count": 79,
     "metadata": {},
     "output_type": "execute_result"
    }
   ],
   "source": [
    "' '.join(documents[17427].words)"
   ]
  },
  {
   "cell_type": "code",
   "execution_count": 34,
   "metadata": {
    "ExecuteTime": {
     "end_time": "2019-05-06T20:07:02.349200Z",
     "start_time": "2019-05-06T20:07:02.323462Z"
    }
   },
   "outputs": [],
   "source": [
    "document_dic = {}\n",
    "for doc,tag in documents:\n",
    "    document_dic[tag[0]] = doc"
   ]
  },
  {
   "cell_type": "code",
   "execution_count": null,
   "metadata": {},
   "outputs": [],
   "source": [
    "sims"
   ]
  },
  {
   "cell_type": "code",
   "execution_count": null,
   "metadata": {},
   "outputs": [],
   "source": [
    "document_dic[]"
   ]
  },
  {
   "cell_type": "code",
   "execution_count": 58,
   "metadata": {},
   "outputs": [],
   "source": [
    "words = '\\n'.join(list(model.wv.vocab.keys()))"
   ]
  },
  {
   "cell_type": "code",
   "execution_count": 47,
   "metadata": {},
   "outputs": [
    {
     "ename": "TypeError",
     "evalue": "sequence item 0: expected str instance, list found",
     "output_type": "error",
     "traceback": [
      "\u001b[0;31m---------------------------------------------------------------------------\u001b[0m",
      "\u001b[0;31mTypeError\u001b[0m                                 Traceback (most recent call last)",
      "\u001b[0;32m<ipython-input-47-027456e54529>\u001b[0m in \u001b[0;36m<module>\u001b[0;34m\u001b[0m\n\u001b[1;32m      4\u001b[0m \u001b[0msecond_ranks\u001b[0m \u001b[0;34m=\u001b[0m \u001b[0;34m[\u001b[0m\u001b[0;34m]\u001b[0m\u001b[0;34m\u001b[0m\u001b[0;34m\u001b[0m\u001b[0m\n\u001b[1;32m      5\u001b[0m \u001b[0;32mfor\u001b[0m \u001b[0mdoc_id\u001b[0m\u001b[0;34m,\u001b[0m \u001b[0mrow\u001b[0m \u001b[0;32min\u001b[0m \u001b[0mtrain_data\u001b[0m\u001b[0;34m.\u001b[0m\u001b[0miterrows\u001b[0m\u001b[0;34m(\u001b[0m\u001b[0;34m)\u001b[0m\u001b[0;34m:\u001b[0m\u001b[0;34m\u001b[0m\u001b[0;34m\u001b[0m\u001b[0m\n\u001b[0;32m----> 6\u001b[0;31m     \u001b[0minferred_vector\u001b[0m \u001b[0;34m=\u001b[0m \u001b[0mmodel\u001b[0m\u001b[0;34m.\u001b[0m\u001b[0minfer_vector\u001b[0m\u001b[0;34m(\u001b[0m\u001b[0;34m' '\u001b[0m\u001b[0;34m.\u001b[0m\u001b[0mjoin\u001b[0m\u001b[0;34m(\u001b[0m\u001b[0mtrain_data\u001b[0m\u001b[0;34m[\u001b[0m\u001b[0;34m'vocabulary'\u001b[0m\u001b[0;34m]\u001b[0m\u001b[0;34m)\u001b[0m\u001b[0;34m)\u001b[0m\u001b[0;34m\u001b[0m\u001b[0;34m\u001b[0m\u001b[0m\n\u001b[0m\u001b[1;32m      7\u001b[0m     \u001b[0msims\u001b[0m \u001b[0;34m=\u001b[0m \u001b[0mmodel\u001b[0m\u001b[0;34m.\u001b[0m\u001b[0mdocvecs\u001b[0m\u001b[0;34m.\u001b[0m\u001b[0mmost_similar\u001b[0m\u001b[0;34m(\u001b[0m\u001b[0;34m[\u001b[0m\u001b[0minferred_vector\u001b[0m\u001b[0;34m]\u001b[0m\u001b[0;34m,\u001b[0m \u001b[0mtopn\u001b[0m\u001b[0;34m=\u001b[0m\u001b[0mlen\u001b[0m\u001b[0;34m(\u001b[0m\u001b[0mmodel\u001b[0m\u001b[0;34m.\u001b[0m\u001b[0mdocvecs\u001b[0m\u001b[0;34m)\u001b[0m\u001b[0;34m)\u001b[0m\u001b[0;34m\u001b[0m\u001b[0;34m\u001b[0m\u001b[0m\n\u001b[1;32m      8\u001b[0m     \u001b[0mrank\u001b[0m \u001b[0;34m=\u001b[0m \u001b[0;34m[\u001b[0m\u001b[0mdocid\u001b[0m \u001b[0;32mfor\u001b[0m \u001b[0mdocid\u001b[0m\u001b[0;34m,\u001b[0m \u001b[0msim\u001b[0m \u001b[0;32min\u001b[0m \u001b[0msims\u001b[0m\u001b[0;34m]\u001b[0m\u001b[0;34m.\u001b[0m\u001b[0mindex\u001b[0m\u001b[0;34m(\u001b[0m\u001b[0mdoc_id\u001b[0m\u001b[0;34m)\u001b[0m\u001b[0;34m\u001b[0m\u001b[0;34m\u001b[0m\u001b[0m\n",
      "\u001b[0;31mTypeError\u001b[0m: sequence item 0: expected str instance, list found"
     ]
    }
   ],
   "source": [
    "\n",
    "\n",
    "ranks = []\n",
    "second_ranks = []\n",
    "for doc_id, row in train_data.iterrows():\n",
    "    inferred_vector = model.infer_vector(' '.join(train_data['vocabulary']))\n",
    "    sims = model.docvecs.most_similar([inferred_vector], topn=len(model.docvecs))\n",
    "    rank = [docid for docid, sim in sims].index(doc_id)\n",
    "    ranks.append(rank)\n",
    "    \n",
    "    second_ranks.append(sims[1])\n",
    "\n"
   ]
  },
  {
   "cell_type": "code",
   "execution_count": 31,
   "metadata": {},
   "outputs": [],
   "source": [
    "sabri = [row['notes'] for _,row in acled_data.iterrows() if 'sabri' in row['notes'].lower()]"
   ]
  },
  {
   "cell_type": "code",
   "execution_count": 35,
   "metadata": {},
   "outputs": [
    {
     "data": {
      "text/plain": [
       "['On October 17, near Sabrimala (Pathanamthitta, Kerala), police clashed with over 100 Hindu devotees who were prevented from gaining entry into the Lord Ayyappa temple. The number of injuries was not reported.']"
      ]
     },
     "execution_count": 35,
     "metadata": {},
     "output_type": "execute_result"
    }
   ],
   "source": [
    "sabri"
   ]
  },
  {
   "cell_type": "code",
   "execution_count": 66,
   "metadata": {},
   "outputs": [],
   "source": [
    "sabri = generate_document_vocabulary(sabri[0])"
   ]
  },
  {
   "cell_type": "code",
   "execution_count": 67,
   "metadata": {},
   "outputs": [],
   "source": [
    "vec = model.infer_vector(sabri)"
   ]
  },
  {
   "cell_type": "code",
   "execution_count": 68,
   "metadata": {},
   "outputs": [],
   "source": [
    "sims = model.docvecs.most_similar([vec])"
   ]
  },
  {
   "cell_type": "code",
   "execution_count": 40,
   "metadata": {
    "ExecuteTime": {
     "end_time": "2019-05-06T20:13:41.821949Z",
     "start_time": "2019-05-06T20:13:41.807898Z"
    }
   },
   "outputs": [
    {
     "ename": "KeyError",
     "evalue": "52427",
     "output_type": "error",
     "traceback": [
      "\u001b[0;31m---------------------------------------------------------------------------\u001b[0m",
      "\u001b[0;31mKeyError\u001b[0m                                  Traceback (most recent call last)",
      "\u001b[0;32m<ipython-input-40-0942f1342cca>\u001b[0m in \u001b[0;36m<module>\u001b[0;34m\u001b[0m\n\u001b[0;32m----> 1\u001b[0;31m \u001b[0mdocument_dic\u001b[0m\u001b[0;34m[\u001b[0m\u001b[0;36m52427\u001b[0m\u001b[0;34m]\u001b[0m\u001b[0;34m\u001b[0m\u001b[0;34m\u001b[0m\u001b[0m\n\u001b[0m",
      "\u001b[0;31mKeyError\u001b[0m: 52427"
     ]
    }
   ],
   "source": [
    "document_dic[52427]"
   ]
  },
  {
   "cell_type": "code",
   "execution_count": 36,
   "metadata": {
    "ExecuteTime": {
     "end_time": "2019-05-06T20:13:05.241334Z",
     "start_time": "2019-05-06T20:13:05.229804Z"
    }
   },
   "outputs": [
    {
     "ename": "KeyError",
     "evalue": "128864",
     "output_type": "error",
     "traceback": [
      "\u001b[0;31m---------------------------------------------------------------------------\u001b[0m",
      "\u001b[0;31mKeyError\u001b[0m                                  Traceback (most recent call last)",
      "\u001b[0;32m<ipython-input-36-4470fc28f9ad>\u001b[0m in \u001b[0;36m<module>\u001b[0;34m\u001b[0m\n\u001b[0;32m----> 1\u001b[0;31m \u001b[0mdocument_dic\u001b[0m\u001b[0;34m[\u001b[0m\u001b[0;36m128864\u001b[0m\u001b[0;34m]\u001b[0m\u001b[0;34m\u001b[0m\u001b[0;34m\u001b[0m\u001b[0m\n\u001b[0m",
      "\u001b[0;31mKeyError\u001b[0m: 128864"
     ]
    }
   ],
   "source": [
    "document_dic[128864]"
   ]
  },
  {
   "cell_type": "code",
   "execution_count": 69,
   "metadata": {},
   "outputs": [
    {
     "data": {
      "text/plain": [
       "[(47841, 0.8112000226974487),\n",
       " (69038, 0.8092457056045532),\n",
       " (52428, 0.8083778619766235),\n",
       " (128864, 0.8016010522842407),\n",
       " (52590, 0.800187885761261),\n",
       " (53313, 0.7976787090301514),\n",
       " (52427, 0.7958401441574097),\n",
       " (110452, 0.79188472032547),\n",
       " (45328, 0.7900034189224243),\n",
       " (54048, 0.7822529077529907)]"
      ]
     },
     "execution_count": 69,
     "metadata": {},
     "output_type": "execute_result"
    }
   ],
   "source": [
    "sims"
   ]
  },
  {
   "cell_type": "code",
   "execution_count": 77,
   "metadata": {},
   "outputs": [
    {
     "data": {
      "text/plain": [
       "[0]"
      ]
     },
     "execution_count": 77,
     "metadata": {},
     "output_type": "execute_result"
    }
   ],
   "source": [
    "documents[0].tags"
   ]
  },
  {
   "cell_type": "code",
   "execution_count": 79,
   "metadata": {},
   "outputs": [],
   "source": [
    "document_dic = {}\n",
    "for doc, tags in documents:\n",
    "    document_dic[tags[0]] = doc"
   ]
  },
  {
   "cell_type": "code",
   "execution_count": 83,
   "metadata": {},
   "outputs": [
    {
     "data": {
      "text/plain": [
       "['see',\n",
       " 'fox',\n",
       " 'news',\n",
       " 'battleground',\n",
       " 'prediction',\n",
       " 'map',\n",
       " 'make',\n",
       " 'election',\n",
       " 'projections',\n",
       " 'see',\n",
       " 'predictions',\n",
       " 'map']"
      ]
     },
     "execution_count": 83,
     "metadata": {},
     "output_type": "execute_result"
    }
   ],
   "source": [
    "document_dic[53313]"
   ]
  },
  {
   "cell_type": "code",
   "execution_count": null,
   "metadata": {},
   "outputs": [],
   "source": []
  }
 ],
 "metadata": {
  "kernelspec": {
   "display_name": "Python 3",
   "language": "python",
   "name": "python3"
  },
  "language_info": {
   "codemirror_mode": {
    "name": "ipython",
    "version": 3
   },
   "file_extension": ".py",
   "mimetype": "text/x-python",
   "name": "python",
   "nbconvert_exporter": "python",
   "pygments_lexer": "ipython3",
   "version": "3.6.8"
  },
  "latex_envs": {
   "LaTeX_envs_menu_present": true,
   "autoclose": false,
   "autocomplete": true,
   "bibliofile": "biblio.bib",
   "cite_by": "apalike",
   "current_citInitial": 1,
   "eqLabelWithNumbers": true,
   "eqNumInitial": 1,
   "hotkeys": {
    "equation": "Ctrl-E",
    "itemize": "Ctrl-I"
   },
   "labels_anchors": false,
   "latex_user_defs": false,
   "report_style_numbering": false,
   "user_envs_cfg": false
  }
 },
 "nbformat": 4,
 "nbformat_minor": 2
}
