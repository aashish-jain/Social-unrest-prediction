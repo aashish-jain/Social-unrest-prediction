{
 "cells": [
  {
   "cell_type": "code",
   "execution_count": 54,
   "metadata": {
    "ExecuteTime": {
     "end_time": "2019-03-25T02:41:26.586088Z",
     "start_time": "2019-03-25T02:41:26.195645Z"
    }
   },
   "outputs": [],
   "source": [
    "from datetime import date, timedelta, datetime\n",
    "from bs4 import BeautifulSoup\n",
    "from urllib.request import Request, urlopen\n",
    "import requests\n",
    "from newspaper import Article\n",
    "from multiprocessing import Pool, cpu_count\n",
    "from tqdm import tqdm_notebook as tqdm\n",
    "import pickle\n",
    "import pandas as pd"
   ]
  },
  {
   "cell_type": "code",
   "execution_count": 2,
   "metadata": {
    "ExecuteTime": {
     "end_time": "2019-03-25T02:27:48.837245Z",
     "start_time": "2019-03-25T02:27:48.832057Z"
    }
   },
   "outputs": [],
   "source": [
    "startDate = date(2016, 1, 1)\n",
    "endDate = datetime.now().date() + timedelta(days=1)\n",
    "offset = 36892\n",
    "newsStartDate = date(2001, 1, 1)"
   ]
  },
  {
   "cell_type": "code",
   "execution_count": 3,
   "metadata": {
    "ExecuteTime": {
     "end_time": "2019-03-25T02:27:49.851774Z",
     "start_time": "2019-03-25T02:27:49.846910Z"
    }
   },
   "outputs": [],
   "source": [
    "def generateLinkForDate(dateGiven):\n",
    "    def startTime(x): return (x - newsStartDate).days + offset\n",
    "    stringDate = str(dateGiven).replace('-', '/')\n",
    "    return \"https://timesofindia.indiatimes.com/%s/archivelist/year-%d,month-%d,starttime-%d.cms\" % (stringDate, dateGiven.year, dateGiven.month,  startTime(dateGiven))"
   ]
  },
  {
   "cell_type": "code",
   "execution_count": 4,
   "metadata": {
    "ExecuteTime": {
     "end_time": "2019-03-25T02:27:50.423086Z",
     "start_time": "2019-03-25T02:27:50.414017Z"
    },
    "code_folding": [
     0
    ]
   },
   "outputs": [],
   "source": [
    "'''\n",
    "    Returns the links that have the given queryWords in\n",
    "    their headlines be used for scrapping\n",
    "'''\n",
    "def fetchRelevantNewsLinks(tagSet, queryWords):\n",
    "    links = []\n",
    "    for tag in tagSet:\n",
    "        occurs = False\n",
    "        headline = tag.text\n",
    "        link = tag.get('href')\n",
    "        \n",
    "        if headline == None or link == None:\n",
    "            continue\n",
    "        headlineLower = headline.lower()\n",
    "        for query in queryWords:\n",
    "            if query in headline:\n",
    "                occurs = True\n",
    "                break\n",
    "\n",
    "        if occurs:\n",
    "            # Fix for links that don't start with http\n",
    "            if not link.startswith(\"http\"):\n",
    "                link = \"http://timesofindia.indiatimes.com/\" + link\n",
    "            links.append(link)\n",
    "    return links"
   ]
  },
  {
   "cell_type": "code",
   "execution_count": 46,
   "metadata": {
    "ExecuteTime": {
     "end_time": "2019-03-25T02:33:49.613235Z",
     "start_time": "2019-03-25T02:33:49.607543Z"
    }
   },
   "outputs": [],
   "source": [
    "def getArticle(url, beginsWithLocation = True):\n",
    "    try:\n",
    "        article = Article(url)\n",
    "        article.download()\n",
    "        article.parse()\n",
    "        #Return the location too\n",
    "        if beginsWithLocation:\n",
    "            location = article.text[:article.text.find(':')].strip()\n",
    "            return article.title, article.text, location\n",
    "        return article.title, article.text\n",
    "    except:\n",
    "        return 0"
   ]
  },
  {
   "cell_type": "code",
   "execution_count": 47,
   "metadata": {
    "ExecuteTime": {
     "end_time": "2019-03-25T02:33:50.272394Z",
     "start_time": "2019-03-25T02:33:50.266059Z"
    }
   },
   "outputs": [],
   "source": [
    "queryWords = 'protest, riot, violence, violent, unrest, clash, bandh, rally, election, rule ,law, policy, demonstration, congress, INC, BJP, guv ,govt, government, political, politics, party, PM, CM, minister, polls'\n",
    "queryWords = [word.strip().lower() for word in queryWords.split(',')]"
   ]
  },
  {
   "cell_type": "code",
   "execution_count": 48,
   "metadata": {
    "ExecuteTime": {
     "end_time": "2019-03-25T02:33:50.651871Z",
     "start_time": "2019-03-25T02:33:50.648380Z"
    },
    "scrolled": true
   },
   "outputs": [],
   "source": [
    "# currDate = startDate\n",
    "# newsLinks = {}\n",
    "# while currDate != endDate:\n",
    "#     print(currDate, end=' ')\n",
    "#     link = generateLinkForDate(currDate)\n",
    "#     request = requests.get(link, headers={'User-Agent': 'Mozilla/5.0'})\n",
    "#     soup = BeautifulSoup(request.text, 'lxml')\n",
    "#     tagSet = soup.find_all('a')\n",
    "#     foundLinks = fetchRelevantNewsLinks(tagSet, queryWords)\n",
    "#     print(len(foundLinks))\n",
    "#     newsLinks[str(currDate)] = foundLinks\n",
    "#     currDate += timedelta(days=1)"
   ]
  },
  {
   "cell_type": "code",
   "execution_count": 49,
   "metadata": {
    "ExecuteTime": {
     "end_time": "2019-03-25T02:33:51.271989Z",
     "start_time": "2019-03-25T02:33:51.268447Z"
    }
   },
   "outputs": [],
   "source": [
    "# len(newsLinks.keys())"
   ]
  },
  {
   "cell_type": "code",
   "execution_count": 50,
   "metadata": {
    "ExecuteTime": {
     "end_time": "2019-03-25T02:33:53.118915Z",
     "start_time": "2019-03-25T02:33:53.070584Z"
    }
   },
   "outputs": [],
   "source": [
    "newsLinks = pickle.load(open('TOI-dump.pkl', 'rb'))"
   ]
  },
  {
   "cell_type": "code",
   "execution_count": 55,
   "metadata": {
    "ExecuteTime": {
     "end_time": "2019-03-25T02:43:59.804426Z",
     "start_time": "2019-03-25T02:43:43.612760Z"
    }
   },
   "outputs": [
    {
     "name": "stdout",
     "output_type": "stream",
     "text": [
      "2016-01-01\n"
     ]
    },
    {
     "data": {
      "application/vnd.jupyter.widget-view+json": {
       "model_id": "f9d2352ba7a5403b919319cb9eabd585",
       "version_major": 2,
       "version_minor": 0
      },
      "text/plain": [
       "HBox(children=(IntProgress(value=0, max=78), HTML(value='')))"
      ]
     },
     "metadata": {},
     "output_type": "display_data"
    },
    {
     "name": "stdout",
     "output_type": "stream",
     "text": [
      "\n",
      "2016-01-02\n"
     ]
    },
    {
     "data": {
      "application/vnd.jupyter.widget-view+json": {
       "model_id": "7d93bc2d1f8d4e068e1f4292dd53e28a",
       "version_major": 2,
       "version_minor": 0
      },
      "text/plain": [
       "HBox(children=(IntProgress(value=0, max=63), HTML(value='')))"
      ]
     },
     "metadata": {},
     "output_type": "display_data"
    },
    {
     "ename": "KeyboardInterrupt",
     "evalue": "",
     "output_type": "error",
     "traceback": [
      "\u001b[0;31m---------------------------------------------------------------------------\u001b[0m",
      "\u001b[0;31mIndexError\u001b[0m                                Traceback (most recent call last)",
      "\u001b[0;32m~/anaconda3/lib/python3.6/multiprocessing/pool.py\u001b[0m in \u001b[0;36mnext\u001b[0;34m(self, timeout)\u001b[0m\n\u001b[1;32m    719\u001b[0m             \u001b[0;32mtry\u001b[0m\u001b[0;34m:\u001b[0m\u001b[0;34m\u001b[0m\u001b[0;34m\u001b[0m\u001b[0m\n\u001b[0;32m--> 720\u001b[0;31m                 \u001b[0mitem\u001b[0m \u001b[0;34m=\u001b[0m \u001b[0mself\u001b[0m\u001b[0;34m.\u001b[0m\u001b[0m_items\u001b[0m\u001b[0;34m.\u001b[0m\u001b[0mpopleft\u001b[0m\u001b[0;34m(\u001b[0m\u001b[0;34m)\u001b[0m\u001b[0;34m\u001b[0m\u001b[0;34m\u001b[0m\u001b[0m\n\u001b[0m\u001b[1;32m    721\u001b[0m             \u001b[0;32mexcept\u001b[0m \u001b[0mIndexError\u001b[0m\u001b[0;34m:\u001b[0m\u001b[0;34m\u001b[0m\u001b[0;34m\u001b[0m\u001b[0m\n",
      "\u001b[0;31mIndexError\u001b[0m: pop from an empty deque",
      "\nDuring handling of the above exception, another exception occurred:\n",
      "\u001b[0;31mKeyboardInterrupt\u001b[0m                         Traceback (most recent call last)",
      "\u001b[0;32m<ipython-input-55-92f42a4516a7>\u001b[0m in \u001b[0;36m<module>\u001b[0;34m\u001b[0m\n\u001b[1;32m      4\u001b[0m     \u001b[0mprint\u001b[0m\u001b[0;34m(\u001b[0m\u001b[0mkey\u001b[0m\u001b[0;34m)\u001b[0m\u001b[0;34m\u001b[0m\u001b[0;34m\u001b[0m\u001b[0m\n\u001b[1;32m      5\u001b[0m     \u001b[0;32mwith\u001b[0m \u001b[0mPool\u001b[0m\u001b[0;34m(\u001b[0m\u001b[0mcpu_count\u001b[0m\u001b[0;34m(\u001b[0m\u001b[0;34m)\u001b[0m \u001b[0;34m*\u001b[0m \u001b[0;36m3\u001b[0m\u001b[0;34m)\u001b[0m \u001b[0;32mas\u001b[0m \u001b[0mp\u001b[0m\u001b[0;34m:\u001b[0m\u001b[0;34m\u001b[0m\u001b[0;34m\u001b[0m\u001b[0m\n\u001b[0;32m----> 6\u001b[0;31m         \u001b[0mfull_news\u001b[0m \u001b[0;34m=\u001b[0m \u001b[0mlist\u001b[0m\u001b[0;34m(\u001b[0m\u001b[0mtqdm\u001b[0m\u001b[0;34m(\u001b[0m\u001b[0mp\u001b[0m\u001b[0;34m.\u001b[0m\u001b[0mimap\u001b[0m\u001b[0;34m(\u001b[0m\u001b[0mgetArticle\u001b[0m\u001b[0;34m,\u001b[0m \u001b[0mparam\u001b[0m\u001b[0;34m)\u001b[0m\u001b[0;34m,\u001b[0m \u001b[0mtotal\u001b[0m\u001b[0;34m=\u001b[0m\u001b[0mlen\u001b[0m\u001b[0;34m(\u001b[0m\u001b[0mparam\u001b[0m\u001b[0;34m)\u001b[0m\u001b[0;34m)\u001b[0m\u001b[0;34m)\u001b[0m\u001b[0;34m\u001b[0m\u001b[0;34m\u001b[0m\u001b[0m\n\u001b[0m\u001b[1;32m      7\u001b[0m         \u001b[0;32mtry\u001b[0m\u001b[0;34m:\u001b[0m\u001b[0;34m\u001b[0m\u001b[0;34m\u001b[0m\u001b[0m\n\u001b[1;32m      8\u001b[0m             \u001b[0mfull_news\u001b[0m\u001b[0;34m.\u001b[0m\u001b[0mremove\u001b[0m\u001b[0;34m(\u001b[0m\u001b[0;36m0\u001b[0m\u001b[0;34m)\u001b[0m\u001b[0;34m\u001b[0m\u001b[0;34m\u001b[0m\u001b[0m\n",
      "\u001b[0;32m~/anaconda3/lib/python3.6/site-packages/tqdm/_tqdm_notebook.py\u001b[0m in \u001b[0;36m__iter__\u001b[0;34m(self, *args, **kwargs)\u001b[0m\n\u001b[1;32m    219\u001b[0m     \u001b[0;32mdef\u001b[0m \u001b[0m__iter__\u001b[0m\u001b[0;34m(\u001b[0m\u001b[0mself\u001b[0m\u001b[0;34m,\u001b[0m \u001b[0;34m*\u001b[0m\u001b[0margs\u001b[0m\u001b[0;34m,\u001b[0m \u001b[0;34m**\u001b[0m\u001b[0mkwargs\u001b[0m\u001b[0;34m)\u001b[0m\u001b[0;34m:\u001b[0m\u001b[0;34m\u001b[0m\u001b[0;34m\u001b[0m\u001b[0m\n\u001b[1;32m    220\u001b[0m         \u001b[0;32mtry\u001b[0m\u001b[0;34m:\u001b[0m\u001b[0;34m\u001b[0m\u001b[0;34m\u001b[0m\u001b[0m\n\u001b[0;32m--> 221\u001b[0;31m             \u001b[0;32mfor\u001b[0m \u001b[0mobj\u001b[0m \u001b[0;32min\u001b[0m \u001b[0msuper\u001b[0m\u001b[0;34m(\u001b[0m\u001b[0mtqdm_notebook\u001b[0m\u001b[0;34m,\u001b[0m \u001b[0mself\u001b[0m\u001b[0;34m)\u001b[0m\u001b[0;34m.\u001b[0m\u001b[0m__iter__\u001b[0m\u001b[0;34m(\u001b[0m\u001b[0;34m*\u001b[0m\u001b[0margs\u001b[0m\u001b[0;34m,\u001b[0m \u001b[0;34m**\u001b[0m\u001b[0mkwargs\u001b[0m\u001b[0;34m)\u001b[0m\u001b[0;34m:\u001b[0m\u001b[0;34m\u001b[0m\u001b[0;34m\u001b[0m\u001b[0m\n\u001b[0m\u001b[1;32m    222\u001b[0m                 \u001b[0;31m# return super(tqdm...) will not catch exception\u001b[0m\u001b[0;34m\u001b[0m\u001b[0;34m\u001b[0m\u001b[0;34m\u001b[0m\u001b[0m\n\u001b[1;32m    223\u001b[0m                 \u001b[0;32myield\u001b[0m \u001b[0mobj\u001b[0m\u001b[0;34m\u001b[0m\u001b[0;34m\u001b[0m\u001b[0m\n",
      "\u001b[0;32m~/anaconda3/lib/python3.6/site-packages/tqdm/_tqdm.py\u001b[0m in \u001b[0;36m__iter__\u001b[0;34m(self)\u001b[0m\n\u001b[1;32m   1020\u001b[0m                 \"\"\"), fp_write=getattr(self.fp, 'write', sys.stderr.write))\n\u001b[1;32m   1021\u001b[0m \u001b[0;34m\u001b[0m\u001b[0m\n\u001b[0;32m-> 1022\u001b[0;31m             \u001b[0;32mfor\u001b[0m \u001b[0mobj\u001b[0m \u001b[0;32min\u001b[0m \u001b[0miterable\u001b[0m\u001b[0;34m:\u001b[0m\u001b[0;34m\u001b[0m\u001b[0;34m\u001b[0m\u001b[0m\n\u001b[0m\u001b[1;32m   1023\u001b[0m                 \u001b[0;32myield\u001b[0m \u001b[0mobj\u001b[0m\u001b[0;34m\u001b[0m\u001b[0;34m\u001b[0m\u001b[0m\n\u001b[1;32m   1024\u001b[0m                 \u001b[0;31m# Update and possibly print the progressbar.\u001b[0m\u001b[0;34m\u001b[0m\u001b[0;34m\u001b[0m\u001b[0;34m\u001b[0m\u001b[0m\n",
      "\u001b[0;32m~/anaconda3/lib/python3.6/multiprocessing/pool.py\u001b[0m in \u001b[0;36mnext\u001b[0;34m(self, timeout)\u001b[0m\n\u001b[1;32m    722\u001b[0m                 \u001b[0;32mif\u001b[0m \u001b[0mself\u001b[0m\u001b[0;34m.\u001b[0m\u001b[0m_index\u001b[0m \u001b[0;34m==\u001b[0m \u001b[0mself\u001b[0m\u001b[0;34m.\u001b[0m\u001b[0m_length\u001b[0m\u001b[0;34m:\u001b[0m\u001b[0;34m\u001b[0m\u001b[0;34m\u001b[0m\u001b[0m\n\u001b[1;32m    723\u001b[0m                     \u001b[0;32mraise\u001b[0m \u001b[0mStopIteration\u001b[0m\u001b[0;34m\u001b[0m\u001b[0;34m\u001b[0m\u001b[0m\n\u001b[0;32m--> 724\u001b[0;31m                 \u001b[0mself\u001b[0m\u001b[0;34m.\u001b[0m\u001b[0m_cond\u001b[0m\u001b[0;34m.\u001b[0m\u001b[0mwait\u001b[0m\u001b[0;34m(\u001b[0m\u001b[0mtimeout\u001b[0m\u001b[0;34m)\u001b[0m\u001b[0;34m\u001b[0m\u001b[0;34m\u001b[0m\u001b[0m\n\u001b[0m\u001b[1;32m    725\u001b[0m                 \u001b[0;32mtry\u001b[0m\u001b[0;34m:\u001b[0m\u001b[0;34m\u001b[0m\u001b[0;34m\u001b[0m\u001b[0m\n\u001b[1;32m    726\u001b[0m                     \u001b[0mitem\u001b[0m \u001b[0;34m=\u001b[0m \u001b[0mself\u001b[0m\u001b[0;34m.\u001b[0m\u001b[0m_items\u001b[0m\u001b[0;34m.\u001b[0m\u001b[0mpopleft\u001b[0m\u001b[0;34m(\u001b[0m\u001b[0;34m)\u001b[0m\u001b[0;34m\u001b[0m\u001b[0;34m\u001b[0m\u001b[0m\n",
      "\u001b[0;32m~/anaconda3/lib/python3.6/threading.py\u001b[0m in \u001b[0;36mwait\u001b[0;34m(self, timeout)\u001b[0m\n\u001b[1;32m    293\u001b[0m         \u001b[0;32mtry\u001b[0m\u001b[0;34m:\u001b[0m    \u001b[0;31m# restore state no matter what (e.g., KeyboardInterrupt)\u001b[0m\u001b[0;34m\u001b[0m\u001b[0;34m\u001b[0m\u001b[0m\n\u001b[1;32m    294\u001b[0m             \u001b[0;32mif\u001b[0m \u001b[0mtimeout\u001b[0m \u001b[0;32mis\u001b[0m \u001b[0;32mNone\u001b[0m\u001b[0;34m:\u001b[0m\u001b[0;34m\u001b[0m\u001b[0;34m\u001b[0m\u001b[0m\n\u001b[0;32m--> 295\u001b[0;31m                 \u001b[0mwaiter\u001b[0m\u001b[0;34m.\u001b[0m\u001b[0macquire\u001b[0m\u001b[0;34m(\u001b[0m\u001b[0;34m)\u001b[0m\u001b[0;34m\u001b[0m\u001b[0;34m\u001b[0m\u001b[0m\n\u001b[0m\u001b[1;32m    296\u001b[0m                 \u001b[0mgotit\u001b[0m \u001b[0;34m=\u001b[0m \u001b[0;32mTrue\u001b[0m\u001b[0;34m\u001b[0m\u001b[0;34m\u001b[0m\u001b[0m\n\u001b[1;32m    297\u001b[0m             \u001b[0;32melse\u001b[0m\u001b[0;34m:\u001b[0m\u001b[0;34m\u001b[0m\u001b[0;34m\u001b[0m\u001b[0m\n",
      "\u001b[0;31mKeyboardInterrupt\u001b[0m: "
     ]
    }
   ],
   "source": [
    "full_news = []\n",
    "for key in newsLinks.keys():\n",
    "    param = newsLinks[key]\n",
    "    print(key)\n",
    "    with Pool(cpu_count() * 3) as p:\n",
    "        full_news = list(tqdm(p.imap(getArticle, param), total=len(param)))\n",
    "        try:\n",
    "            full_news.remove(0)\n",
    "        except:\n",
    "            pass\n",
    "    df = pd.DataFrame(data=full_news, columns=['title', 'text', 'location'])\n",
    "    df.to_csv('TOI/%s.csv' % key)"
   ]
  },
  {
   "cell_type": "code",
   "execution_count": 52,
   "metadata": {
    "ExecuteTime": {
     "end_time": "2019-03-25T02:34:00.131725Z",
     "start_time": "2019-03-25T02:34:00.129121Z"
    }
   },
   "outputs": [],
   "source": []
  },
  {
   "cell_type": "code",
   "execution_count": 53,
   "metadata": {
    "ExecuteTime": {
     "end_time": "2019-03-25T02:34:00.163004Z",
     "start_time": "2019-03-25T02:34:00.133581Z"
    }
   },
   "outputs": [
    {
     "data": {
      "text/plain": [
       "78"
      ]
     },
     "execution_count": 53,
     "metadata": {},
     "output_type": "execute_result"
    }
   ],
   "source": [
    "len(full_news)"
   ]
  },
  {
   "cell_type": "code",
   "execution_count": 14,
   "metadata": {
    "ExecuteTime": {
     "end_time": "2019-03-25T02:28:58.687068Z",
     "start_time": "2019-03-25T02:28:57.615950Z"
    }
   },
   "outputs": [
    {
     "data": {
      "text/plain": [
       "('Manipur Congress accuses BJP of putting up insurgent-backed candidate',\n",
       " 'IMPHAL: Congress\\' Manipur unit has accused the BJP of putting up an insurgent-backed candidate for a Lok Sabha seat here and compromising national integrity in a bid to win the upcoming elections at any cost, a charge rejected by the latter as an attempt to malign the party.BJP\\'s candidate H Shukhopao Mate for the Outer Manipur parliamentary constituency, which goes to polls on April 11, has been accused of being backed by insurgent groups in the state — Zomi Re-unification Organisation (ZRO) and Kuki National Organisation (KNO).The two outfits, which have signed \"suspension of operation\" agreement with Government of India (GOI) and are currently in peace talks, are reported to have written separate letters to BJP president Amit Shah, asking Mate be given the party\\'s ticket.Mate is vice-president of the BJP Manipur unit and is incharge of the party\\'s Scheduled Tribe Morcha \"It is not just the Congress but everyone in the state is aware that he (Mate) is backed by insurgent groups. He has been chosen based on just winnability factor and to win at any cost by the BJP,\" Congress Manipur spokesperson M Prithviraj told PTI.He further accused the BJP of \"compromising on the principle of national integrity\" by succumbing to pressure from insurgent groups.\"The BJP giving the ticket to Mate shows that they don\\'t have any such principle and all that they want is to win at all costs, irrespective of the background of the candidate,\" Prithviraj added.The BJP, however, denied the allegations saying that media reports of Mate being backed by insurgent groups were an effort of \"some vested interest\" trying \"to malign the image of the party intentionally\".\"As of now, whether insurgents supported who or whom is not an issue for us. Above that the party did not have any knowledge about issues which you wish to have views of,\" BJP Manipur spokesperson Ch Chidananda Singh said when reached for comments on the Congress\\' allegations.While the Congress is yet to announce its candidates for the two Lok Sabha seats in Manipur, the BJP has made the announcement for both. RK Ranjan has been named as the BJP\\'s candidate for the Inner Manipur parliamentary constituency.',\n",
       " 'IMPHAL')"
      ]
     },
     "execution_count": 14,
     "metadata": {},
     "output_type": "execute_result"
    }
   ],
   "source": [
    "getArticle(param[0])"
   ]
  },
  {
   "cell_type": "code",
   "execution_count": 16,
   "metadata": {
    "ExecuteTime": {
     "end_time": "2019-03-25T02:29:29.377479Z",
     "start_time": "2019-03-25T02:29:29.373341Z"
    }
   },
   "outputs": [],
   "source": [
    "full_news = full_news.remove(None)"
   ]
  },
  {
   "cell_type": "code",
   "execution_count": 17,
   "metadata": {
    "ExecuteTime": {
     "end_time": "2019-03-25T02:29:29.975305Z",
     "start_time": "2019-03-25T02:29:29.970976Z"
    }
   },
   "outputs": [],
   "source": [
    "full_news"
   ]
  },
  {
   "cell_type": "code",
   "execution_count": null,
   "metadata": {
    "ExecuteTime": {
     "end_time": "2019-03-25T02:19:00.459302Z",
     "start_time": "2019-03-25T02:18:59.174924Z"
    }
   },
   "outputs": [],
   "source": [
    "getArticle(newsLinks['2016-01-01'][0])"
   ]
  },
  {
   "cell_type": "code",
   "execution_count": null,
   "metadata": {},
   "outputs": [],
   "source": []
  }
 ],
 "metadata": {
  "kernelspec": {
   "display_name": "Python 3",
   "language": "python",
   "name": "python3"
  },
  "language_info": {
   "codemirror_mode": {
    "name": "ipython",
    "version": 3
   },
   "file_extension": ".py",
   "mimetype": "text/x-python",
   "name": "python",
   "nbconvert_exporter": "python",
   "pygments_lexer": "ipython3",
   "version": "3.6.8"
  }
 },
 "nbformat": 4,
 "nbformat_minor": 2
}
