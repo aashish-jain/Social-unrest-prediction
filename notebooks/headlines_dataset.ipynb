{
 "cells": [
  {
   "cell_type": "code",
   "execution_count": 1,
   "metadata": {
    "ExecuteTime": {
     "end_time": "2019-03-28T18:02:20.567022Z",
     "start_time": "2019-03-28T18:02:16.599248Z"
    }
   },
   "outputs": [
    {
     "name": "stdout",
     "output_type": "stream",
     "text": [
      "Requirement already satisfied: vaderSentiment in /Users/ateendraramesh/anaconda3/lib/python3.6/site-packages (3.2.1)\n",
      "Requirement already satisfied: tabulate in /Users/ateendraramesh/anaconda3/lib/python3.6/site-packages (0.8.2)\n"
     ]
    }
   ],
   "source": [
    "!pip install vaderSentiment\n",
    "!pip install tabulate"
   ]
  },
  {
   "cell_type": "code",
   "execution_count": 2,
   "metadata": {
    "ExecuteTime": {
     "end_time": "2019-03-28T18:02:21.340267Z",
     "start_time": "2019-03-28T18:02:20.568871Z"
    }
   },
   "outputs": [
    {
     "name": "stderr",
     "output_type": "stream",
     "text": [
      "/Users/ateendraramesh/anaconda3/lib/python3.6/site-packages/sklearn/ensemble/weight_boosting.py:29: DeprecationWarning: numpy.core.umath_tests is an internal NumPy module and should not be imported. It will be removed in a future NumPy release.\n",
      "  from numpy.core.umath_tests import inner1d\n"
     ]
    }
   ],
   "source": [
    "import warnings\n",
    "\n",
    "import numpy as np\n",
    "import pandas as pd\n",
    "import matplotlib.pyplot as plt\n",
    "\n",
    "from tabulate import tabulate\n",
    "from collections import Counter\n",
    "from utils import plot_counter, process_acled_csv\n",
    "from sklearn.ensemble import ExtraTreesClassifier\n",
    "from sklearn.metrics import precision_score, recall_score, f1_score\n",
    "from nlp_utils import get_sentiment, get_features, make_predictions\n",
    "from doc_utils import get_docs_by_location, get_docs_by_day, interleave_location_and_date, get_headlines_sentiment"
   ]
  },
  {
   "cell_type": "code",
   "execution_count": 3,
   "metadata": {
    "ExecuteTime": {
     "end_time": "2019-03-28T18:02:24.523323Z",
     "start_time": "2019-03-28T18:02:21.342424Z"
    }
   },
   "outputs": [],
   "source": [
    "df = pd.read_csv(\"../../data/india-news-headlines.csv\")"
   ]
  },
  {
   "cell_type": "code",
   "execution_count": 4,
   "metadata": {
    "ExecuteTime": {
     "end_time": "2019-03-28T18:02:53.200062Z",
     "start_time": "2019-03-28T18:02:24.525061Z"
    }
   },
   "outputs": [
    {
     "name": "stdout",
     "output_type": "stream",
     "text": [
      "Data from 2016-01-01 to 2018-12-31  & Number of days - 1096\n"
     ]
    }
   ],
   "source": [
    "labels = process_acled_csv(\"../../data/1900-01-01-2019-03-23-India.csv\",\n",
    "                           top_locations=30,\n",
    "                           end=\"31-dec-2018\")"
   ]
  },
  {
   "cell_type": "code",
   "execution_count": 5,
   "metadata": {
    "ExecuteTime": {
     "end_time": "2019-03-28T18:02:53.224375Z",
     "start_time": "2019-03-28T18:02:53.201768Z"
    }
   },
   "outputs": [],
   "source": [
    "df[\"created_at\"] = df[\"publish_date\"]\n",
    "del df[\"publish_date\"]"
   ]
  },
  {
   "cell_type": "code",
   "execution_count": 6,
   "metadata": {
    "ExecuteTime": {
     "end_time": "2019-03-28T18:02:53.239582Z",
     "start_time": "2019-03-28T18:02:53.226024Z"
    }
   },
   "outputs": [
    {
     "data": {
      "text/html": [
       "<div>\n",
       "<style scoped>\n",
       "    .dataframe tbody tr th:only-of-type {\n",
       "        vertical-align: middle;\n",
       "    }\n",
       "\n",
       "    .dataframe tbody tr th {\n",
       "        vertical-align: top;\n",
       "    }\n",
       "\n",
       "    .dataframe thead th {\n",
       "        text-align: right;\n",
       "    }\n",
       "</style>\n",
       "<table border=\"1\" class=\"dataframe\">\n",
       "  <thead>\n",
       "    <tr style=\"text-align: right;\">\n",
       "      <th></th>\n",
       "      <th>headline_category</th>\n",
       "      <th>headline_text</th>\n",
       "      <th>created_at</th>\n",
       "    </tr>\n",
       "  </thead>\n",
       "  <tbody>\n",
       "    <tr>\n",
       "      <th>0</th>\n",
       "      <td>sports.wwe</td>\n",
       "      <td>win over cena satisfying but defeating underta...</td>\n",
       "      <td>20010101</td>\n",
       "    </tr>\n",
       "    <tr>\n",
       "      <th>1</th>\n",
       "      <td>bollywood</td>\n",
       "      <td>Raju Chacha</td>\n",
       "      <td>20010102</td>\n",
       "    </tr>\n",
       "    <tr>\n",
       "      <th>2</th>\n",
       "      <td>unknown</td>\n",
       "      <td>Status quo will not be disturbed at Ayodhya; s...</td>\n",
       "      <td>20010102</td>\n",
       "    </tr>\n",
       "    <tr>\n",
       "      <th>3</th>\n",
       "      <td>unknown</td>\n",
       "      <td>Fissures in Hurriyat over Pak visit</td>\n",
       "      <td>20010102</td>\n",
       "    </tr>\n",
       "    <tr>\n",
       "      <th>4</th>\n",
       "      <td>unknown</td>\n",
       "      <td>America's unwanted heading for India?</td>\n",
       "      <td>20010102</td>\n",
       "    </tr>\n",
       "  </tbody>\n",
       "</table>\n",
       "</div>"
      ],
      "text/plain": [
       "  headline_category                                      headline_text  \\\n",
       "0        sports.wwe  win over cena satisfying but defeating underta...   \n",
       "1         bollywood                                        Raju Chacha   \n",
       "2           unknown  Status quo will not be disturbed at Ayodhya; s...   \n",
       "3           unknown                Fissures in Hurriyat over Pak visit   \n",
       "4           unknown              America's unwanted heading for India?   \n",
       "\n",
       "   created_at  \n",
       "0    20010101  \n",
       "1    20010102  \n",
       "2    20010102  \n",
       "3    20010102  \n",
       "4    20010102  "
      ]
     },
     "execution_count": 6,
     "metadata": {},
     "output_type": "execute_result"
    }
   ],
   "source": [
    "df.head(5)"
   ]
  },
  {
   "cell_type": "code",
   "execution_count": 34,
   "metadata": {
    "ExecuteTime": {
     "end_time": "2019-03-28T18:29:46.158856Z",
     "start_time": "2019-03-28T18:29:46.152643Z"
    }
   },
   "outputs": [],
   "source": [
    "plt.rcParams[\"figure.figsize\"] = (20, 5)"
   ]
  },
  {
   "cell_type": "code",
   "execution_count": 45,
   "metadata": {
    "ExecuteTime": {
     "end_time": "2019-03-28T18:32:57.827501Z",
     "start_time": "2019-03-28T18:32:55.954804Z"
    }
   },
   "outputs": [],
   "source": [
    "headline_df = df.headline_category.apply(lambda x : x.split('.')[0] if len(x.split('.')) == 1 else x.split('.')[1])"
   ]
  },
  {
   "cell_type": "code",
   "execution_count": 46,
   "metadata": {
    "ExecuteTime": {
     "end_time": "2019-03-28T18:32:59.340130Z",
     "start_time": "2019-03-28T18:32:58.866096Z"
    },
    "code_folding": [],
    "run_control": {
     "marked": true
    }
   },
   "outputs": [
    {
     "data": {
      "image/png": "[encoded data removed]",
      "text/plain": [
       "<Figure size 1440x720 with 1 Axes>"
      ]
     },
     "metadata": {},
     "output_type": "display_data"
    }
   ],
   "source": [
    "plot_counter(headline_df, \n",
    "             title=\"Number of articles per city\",\n",
    "             xlabel=\"Headline Category\",\n",
    "             ylabel=\"Number of articles\")"
   ]
  },
  {
   "cell_type": "code",
   "execution_count": 8,
   "metadata": {
    "ExecuteTime": {
     "end_time": "2019-03-28T18:02:53.730904Z",
     "start_time": "2019-03-28T18:02:53.719403Z"
    }
   },
   "outputs": [
    {
     "data": {
      "text/html": [
       "<div>\n",
       "<style scoped>\n",
       "    .dataframe tbody tr th:only-of-type {\n",
       "        vertical-align: middle;\n",
       "    }\n",
       "\n",
       "    .dataframe tbody tr th {\n",
       "        vertical-align: top;\n",
       "    }\n",
       "\n",
       "    .dataframe thead th {\n",
       "        text-align: right;\n",
       "    }\n",
       "</style>\n",
       "<table border=\"1\" class=\"dataframe\">\n",
       "  <thead>\n",
       "    <tr style=\"text-align: right;\">\n",
       "      <th></th>\n",
       "      <th>headline_category</th>\n",
       "      <th>headline_text</th>\n",
       "      <th>created_at</th>\n",
       "    </tr>\n",
       "  </thead>\n",
       "  <tbody>\n",
       "    <tr>\n",
       "      <th>0</th>\n",
       "      <td>sports.wwe</td>\n",
       "      <td>win over cena satisfying but defeating underta...</td>\n",
       "      <td>20010101</td>\n",
       "    </tr>\n",
       "    <tr>\n",
       "      <th>1</th>\n",
       "      <td>bollywood</td>\n",
       "      <td>Raju Chacha</td>\n",
       "      <td>20010102</td>\n",
       "    </tr>\n",
       "    <tr>\n",
       "      <th>2</th>\n",
       "      <td>unknown</td>\n",
       "      <td>Status quo will not be disturbed at Ayodhya; s...</td>\n",
       "      <td>20010102</td>\n",
       "    </tr>\n",
       "    <tr>\n",
       "      <th>3</th>\n",
       "      <td>unknown</td>\n",
       "      <td>Fissures in Hurriyat over Pak visit</td>\n",
       "      <td>20010102</td>\n",
       "    </tr>\n",
       "    <tr>\n",
       "      <th>4</th>\n",
       "      <td>unknown</td>\n",
       "      <td>America's unwanted heading for India?</td>\n",
       "      <td>20010102</td>\n",
       "    </tr>\n",
       "  </tbody>\n",
       "</table>\n",
       "</div>"
      ],
      "text/plain": [
       "  headline_category                                      headline_text  \\\n",
       "0        sports.wwe  win over cena satisfying but defeating underta...   \n",
       "1         bollywood                                        Raju Chacha   \n",
       "2           unknown  Status quo will not be disturbed at Ayodhya; s...   \n",
       "3           unknown                Fissures in Hurriyat over Pak visit   \n",
       "4           unknown              America's unwanted heading for India?   \n",
       "\n",
       "   created_at  \n",
       "0    20010101  \n",
       "1    20010102  \n",
       "2    20010102  \n",
       "3    20010102  \n",
       "4    20010102  "
      ]
     },
     "execution_count": 8,
     "metadata": {},
     "output_type": "execute_result"
    }
   ],
   "source": [
    "df.head(5)"
   ]
  },
  {
   "cell_type": "code",
   "execution_count": 9,
   "metadata": {
    "ExecuteTime": {
     "end_time": "2019-03-28T18:02:53.741706Z",
     "start_time": "2019-03-28T18:02:53.733701Z"
    }
   },
   "outputs": [],
   "source": [
    "def convert_to_datetime(df):\n",
    "    \"\"\"\n",
    "    Input - A DF to convert df.publish_dates to to_datetime\n",
    "    Returns - A converted DF\n",
    "    \"\"\"\n",
    "    dates = df.created_at\n",
    "    dates = dates.apply(lambda x: str(x))\n",
    "    dates = pd.to_datetime(dates)\n",
    "    df['created_at'] = dates\n",
    "    return df\n",
    "\n",
    "\n",
    "def filter_headlines(df, keywords):\n",
    "    \"\"\"\n",
    "    Input - A DF for filtering headlines based on\n",
    "            keywords\n",
    "    Returns - Filtered DFA\n",
    "    \"\"\"\n",
    "    assert(keywords != None)\n",
    "    assert(len(keywords) != 0)\n",
    "\n",
    "    if isinstance(keywords, str):\n",
    "        keywords = [keywords]\n",
    "\n",
    "    resultant_df = pd.DataFrame(df.head(1).copy(deep=True), df.columns)\n",
    "\n",
    "    # Iteratively apply the filter for each word\n",
    "    for keyword in keywords:\n",
    "        temp_df = df[df['headline_text'].str.contains(keyword, na=False)]\n",
    "        print(keyword, \"found in\", temp_df.shape[0], \"rows\")\n",
    "        resultant_df = resultant_df.append(temp_df.copy(deep=True))\n",
    "\n",
    "    curr_len = len(resultant_df)\n",
    "    resultant_df.drop_duplicates(inplace=True)\n",
    "\n",
    "    print(\"Dropped\", curr_len - len(resultant_df), \"duplicate rows\")\n",
    "\n",
    "    return resultant_df"
   ]
  },
  {
   "cell_type": "code",
   "execution_count": 10,
   "metadata": {
    "ExecuteTime": {
     "end_time": "2019-03-28T18:03:15.581201Z",
     "start_time": "2019-03-28T18:02:53.743755Z"
    }
   },
   "outputs": [
    {
     "name": "stdout",
     "output_type": "stream",
     "text": [
      "bjp found in 150 rows\n",
      "govt found in 35274 rows\n",
      "government found in 11661 rows\n",
      "elect found in 22416 rows\n",
      "riot found in 5056 rows\n",
      "protest found in 18492 rows\n",
      "unrest found in 532 rows\n",
      "politic found in 10998 rows\n",
      "violen found in 5588 rows\n",
      "scam found in 11700 rows\n",
      "gang found in 9349 rows\n",
      "modi found in 890 rows\n",
      "attac found in 22155 rows\n",
      "Dropped 4634 duplicate rows\n",
      "Current shape: (149630, 3)\n"
     ]
    }
   ],
   "source": [
    "df = convert_to_datetime(df)\n",
    "\n",
    "filtered_df = filter_headlines(\n",
    "    df, ['bjp', 'govt', 'government', 'elect',\n",
    "         'riot', 'protest', 'unrest', 'politic',\n",
    "         'violen', 'scam', 'gang', 'modi', 'attac'])\n",
    "print(\"Current shape:\", filtered_df.shape)"
   ]
  },
  {
   "cell_type": "code",
   "execution_count": 11,
   "metadata": {
    "ExecuteTime": {
     "end_time": "2019-03-28T18:03:15.721060Z",
     "start_time": "2019-03-28T18:03:15.583422Z"
    }
   },
   "outputs": [
    {
     "name": "stdout",
     "output_type": "stream",
     "text": [
      "Current shape: (33832, 3)\n"
     ]
    }
   ],
   "source": [
    "# Get news from 2016 and with city tag\n",
    "filtered_df = filtered_df[filtered_df.headline_category.str.contains('city', na=False)]\n",
    "\n",
    "filtered_df = filtered_df[filtered_df.created_at.dt.year > 2015]\n",
    "print(\"Current shape:\", filtered_df.shape)"
   ]
  },
  {
   "cell_type": "code",
   "execution_count": 12,
   "metadata": {
    "ExecuteTime": {
     "end_time": "2019-03-28T18:03:15.739894Z",
     "start_time": "2019-03-28T18:03:15.722881Z"
    }
   },
   "outputs": [
    {
     "data": {
      "text/html": [
       "<div>\n",
       "<style scoped>\n",
       "    .dataframe tbody tr th:only-of-type {\n",
       "        vertical-align: middle;\n",
       "    }\n",
       "\n",
       "    .dataframe tbody tr th {\n",
       "        vertical-align: top;\n",
       "    }\n",
       "\n",
       "    .dataframe thead th {\n",
       "        text-align: right;\n",
       "    }\n",
       "</style>\n",
       "<table border=\"1\" class=\"dataframe\">\n",
       "  <thead>\n",
       "    <tr style=\"text-align: right;\">\n",
       "      <th></th>\n",
       "      <th>headline_category</th>\n",
       "      <th>headline_text</th>\n",
       "      <th>created_at</th>\n",
       "    </tr>\n",
       "  </thead>\n",
       "  <tbody>\n",
       "    <tr>\n",
       "      <th>2457153</th>\n",
       "      <td>city.ahmedabad</td>\n",
       "      <td>bjp planning to advance gujarat assembly elect...</td>\n",
       "      <td>2016-12-19</td>\n",
       "    </tr>\n",
       "    <tr>\n",
       "      <th>2471496</th>\n",
       "      <td>city.mumbai</td>\n",
       "      <td>bjp silence on bmc pact worries senabjp silent...</td>\n",
       "      <td>2017-01-09</td>\n",
       "    </tr>\n",
       "    <tr>\n",
       "      <th>2475103</th>\n",
       "      <td>city.pune</td>\n",
       "      <td>bjp amp shiv sena hopeful of alliance for pimp...</td>\n",
       "      <td>2017-01-14</td>\n",
       "    </tr>\n",
       "    <tr>\n",
       "      <th>2476394</th>\n",
       "      <td>city.mumbai</td>\n",
       "      <td>hazare bjp mla get legal lessons over pilsanna...</td>\n",
       "      <td>2017-01-16</td>\n",
       "    </tr>\n",
       "    <tr>\n",
       "      <th>2477628</th>\n",
       "      <td>city.dehradun</td>\n",
       "      <td>protesting workers march to party office bjp r...</td>\n",
       "      <td>2017-01-18</td>\n",
       "    </tr>\n",
       "  </tbody>\n",
       "</table>\n",
       "</div>"
      ],
      "text/plain": [
       "        headline_category                                      headline_text  \\\n",
       "2457153    city.ahmedabad  bjp planning to advance gujarat assembly elect...   \n",
       "2471496       city.mumbai  bjp silence on bmc pact worries senabjp silent...   \n",
       "2475103         city.pune  bjp amp shiv sena hopeful of alliance for pimp...   \n",
       "2476394       city.mumbai  hazare bjp mla get legal lessons over pilsanna...   \n",
       "2477628     city.dehradun  protesting workers march to party office bjp r...   \n",
       "\n",
       "        created_at  \n",
       "2457153 2016-12-19  \n",
       "2471496 2017-01-09  \n",
       "2475103 2017-01-14  \n",
       "2476394 2017-01-16  \n",
       "2477628 2017-01-18  "
      ]
     },
     "execution_count": 12,
     "metadata": {},
     "output_type": "execute_result"
    }
   ],
   "source": [
    "filtered_df.head(5)"
   ]
  },
  {
   "cell_type": "code",
   "execution_count": 13,
   "metadata": {
    "ExecuteTime": {
     "end_time": "2019-03-28T18:03:16.149869Z",
     "start_time": "2019-03-28T18:03:15.742756Z"
    }
   },
   "outputs": [
    {
     "data": {
      "image/png": "[encoded data removed]",
      "text/plain": [
       "<Figure size 1440x720 with 1 Axes>"
      ]
     },
     "metadata": {},
     "output_type": "display_data"
    }
   ],
   "source": [
    "filtered_df.sort_values(by=\"created_at\", inplace=True)\n",
    "\n",
    "plot_counter(filtered_df.headline_category, num_elements=15, \n",
    "             title=\"Cities that generated news after filtering\",\n",
    "             xlabel=\"City Name\", ylabel=\"Number of articles\")"
   ]
  },
  {
   "cell_type": "code",
   "execution_count": 14,
   "metadata": {
    "ExecuteTime": {
     "end_time": "2019-03-28T18:03:16.516291Z",
     "start_time": "2019-03-28T18:03:16.153410Z"
    }
   },
   "outputs": [
    {
     "name": "stdout",
     "output_type": "stream",
     "text": [
      "city.chandigarh\n",
      "Min date: 2016-01-01\n",
      "Max date: 2018-12-31\n",
      "\n",
      "city.jaipur\n",
      "Min date: 2016-01-01\n",
      "Max date: 2018-12-31\n",
      "\n",
      "city.nagpur\n",
      "Min date: 2016-01-01\n",
      "Max date: 2018-12-26\n",
      "\n",
      "city.trichy\n",
      "Min date: 2016-01-01\n",
      "Max date: 2018-12-28\n",
      "\n",
      "city.vadodara\n",
      "Min date: 2016-01-01\n",
      "Max date: 2018-12-31\n",
      "\n",
      "city.thiruvananthapuram\n",
      "Min date: 2016-01-01\n",
      "Max date: 2018-12-31\n",
      "\n",
      "city.delhi\n",
      "Min date: 2016-01-01\n",
      "Max date: 2018-12-31\n",
      "\n",
      "city.imphal\n",
      "Min date: 2016-01-01\n",
      "Max date: 2018-12-23\n",
      "\n",
      "city.mumbai\n",
      "Min date: 2016-01-01\n",
      "Max date: 2018-12-29\n",
      "\n",
      "city.chennai\n",
      "Min date: 2016-01-01\n",
      "Max date: 2018-12-31\n",
      "\n",
      "city.indore\n",
      "Min date: 2016-01-01\n",
      "Max date: 2018-12-27\n",
      "\n",
      "city.patna\n",
      "Min date: 2016-01-01\n",
      "Max date: 2018-12-31\n",
      "\n",
      "city.hyderabad\n",
      "Min date: 2016-01-01\n",
      "Max date: 2018-12-30\n",
      "\n",
      "city.gurgaon\n",
      "Min date: 2016-01-01\n",
      "Max date: 2018-12-29\n",
      "\n",
      "city.goa\n",
      "Min date: 2016-01-01\n",
      "Max date: 2018-12-31\n",
      "\n",
      "city.lucknow\n",
      "Min date: 2016-01-01\n",
      "Max date: 2018-12-31\n",
      "\n",
      "city.pune\n",
      "Min date: 2016-01-02\n",
      "Max date: 2018-12-31\n",
      "\n",
      "city.jamshedpur\n",
      "Min date: 2016-01-02\n",
      "Max date: 2018-12-03\n",
      "\n",
      "city.ahmedabad\n",
      "Min date: 2016-01-02\n",
      "Max date: 2018-12-31\n",
      "\n",
      "city.kozhikode\n",
      "Min date: 2016-01-02\n",
      "Max date: 2018-12-25\n",
      "\n",
      "city.bhubaneswar\n",
      "Min date: 2016-01-02\n",
      "Max date: 2018-12-26\n",
      "\n",
      "city.visakhapatnam\n",
      "Min date: 2016-01-02\n",
      "Max date: 2018-12-20\n",
      "\n",
      "city.navi-mumbai\n",
      "Min date: 2016-01-02\n",
      "Max date: 2018-12-29\n",
      "\n",
      "city.kanpur\n",
      "Min date: 2016-01-02\n",
      "Max date: 2018-12-27\n",
      "\n",
      "city.cuttack\n",
      "Min date: 2016-01-02\n",
      "Max date: 2018-12-25\n",
      "\n",
      "city.kolkata\n",
      "Min date: 2016-01-02\n",
      "Max date: 2018-12-31\n",
      "\n",
      "city.ludhiana\n",
      "Min date: 2016-01-02\n",
      "Max date: 2018-12-31\n",
      "\n",
      "city.madurai\n",
      "Min date: 2016-01-02\n",
      "Max date: 2018-12-31\n",
      "\n",
      "city.aurangabad\n",
      "Min date: 2016-01-03\n",
      "Max date: 2018-12-26\n",
      "\n",
      "city.jammu\n",
      "Min date: 2016-01-03\n",
      "Max date: 2018-11-18\n",
      "\n",
      "city.bhopal\n",
      "Min date: 2016-01-03\n",
      "Max date: 2018-12-31\n",
      "\n",
      "city.noida\n",
      "Min date: 2016-01-03\n",
      "Max date: 2018-12-28\n",
      "\n",
      "city.ranchi\n",
      "Min date: 2016-01-03\n",
      "Max date: 2018-12-14\n",
      "\n",
      "city.bengaluru\n",
      "Min date: 2016-01-03\n",
      "Max date: 2018-12-31\n",
      "\n",
      "city.srinagar\n",
      "Min date: 2016-01-03\n",
      "Max date: 2018-10-30\n",
      "\n",
      "city.surat\n",
      "Min date: 2016-01-03\n",
      "Max date: 2018-12-31\n",
      "\n",
      "city.agartala\n",
      "Min date: 2016-01-03\n",
      "Max date: 2018-12-30\n",
      "\n",
      "city.guwahati\n",
      "Min date: 2016-01-03\n",
      "Max date: 2018-12-24\n",
      "\n",
      "city.kochi\n",
      "Min date: 2016-01-04\n",
      "Max date: 2018-12-30\n",
      "\n",
      "city.shimla\n",
      "Min date: 2016-01-04\n",
      "Max date: 2018-12-30\n",
      "\n",
      "city.jind\n",
      "Min date: 2016-01-04\n",
      "Max date: 2018-12-17\n",
      "\n",
      "city.coimbatore\n",
      "Min date: 2016-01-04\n",
      "Max date: 2018-12-30\n",
      "\n",
      "city.thane\n",
      "Min date: 2016-01-05\n",
      "Max date: 2018-12-28\n",
      "\n",
      "city.raipur\n",
      "Min date: 2016-01-05\n",
      "Max date: 2018-12-22\n",
      "\n",
      "city.kolhapur\n",
      "Min date: 2016-01-05\n",
      "Max date: 2018-12-29\n",
      "\n",
      "city.salem\n",
      "Min date: 2016-01-05\n",
      "Max date: 2018-12-24\n",
      "\n",
      "city.dehradun\n",
      "Min date: 2016-01-05\n",
      "Max date: 2018-12-31\n",
      "\n",
      "city.vijayawada\n",
      "Min date: 2016-01-05\n",
      "Max date: 2018-12-29\n",
      "\n",
      "city.shillong\n",
      "Min date: 2016-01-06\n",
      "Max date: 2018-11-11\n",
      "\n",
      "city.hubballi\n",
      "Min date: 2016-01-09\n",
      "Max date: 2018-12-25\n",
      "\n",
      "city.amritsar\n",
      "Min date: 2016-01-09\n",
      "Max date: 2018-12-31\n",
      "\n",
      "city.meerut\n",
      "Min date: 2016-01-11\n",
      "Max date: 2018-12-31\n",
      "\n",
      "city.varanasi\n",
      "Min date: 2016-01-11\n",
      "Max date: 2018-12-30\n",
      "\n",
      "city.mysuru\n",
      "Min date: 2016-01-11\n",
      "Max date: 2018-12-31\n",
      "\n",
      "city.erode\n",
      "Min date: 2016-01-12\n",
      "Max date: 2018-12-18\n",
      "\n",
      "city.allahabad\n",
      "Min date: 2016-01-16\n",
      "Max date: 2018-12-25\n",
      "\n",
      "city.faridabad\n",
      "Min date: 2016-01-19\n",
      "Max date: 2018-11-04\n",
      "\n",
      "city.mangaluru\n",
      "Min date: 2016-01-26\n",
      "Max date: 2018-12-28\n",
      "\n",
      "city.nashik\n",
      "Min date: 2016-01-30\n",
      "Max date: 2018-12-27\n",
      "\n",
      "city.puducherry\n",
      "Min date: 2016-02-01\n",
      "Max date: 2018-12-30\n",
      "\n",
      "city.rajkot\n",
      "Min date: 2016-02-02\n",
      "Max date: 2018-12-26\n",
      "\n",
      "city.rajahmundry\n",
      "Min date: 2016-02-04\n",
      "Max date: 2017-07-10\n",
      "\n",
      "city.agra\n",
      "Min date: 2016-02-28\n",
      "Max date: 2018-12-29\n",
      "\n",
      "city.bareilly\n",
      "Min date: 2016-03-10\n",
      "Max date: 2018-12-30\n",
      "\n",
      "city.ghaziabad\n",
      "Min date: 2016-04-30\n",
      "Max date: 2018-12-31\n",
      "\n",
      "city.itanagar\n",
      "Min date: 2016-05-14\n",
      "Max date: 2018-11-24\n",
      "\n",
      "city.kohima\n",
      "Min date: 2016-05-16\n",
      "Max date: 2018-08-29\n",
      "\n",
      "city.ajmer\n",
      "Min date: 2016-05-16\n",
      "Max date: 2018-12-13\n",
      "\n",
      "city.jodhpur\n",
      "Min date: 2016-07-04\n",
      "Max date: 2018-12-16\n",
      "\n",
      "city.udaipur\n",
      "Min date: 2016-07-20\n",
      "Max date: 2018-12-12\n",
      "\n",
      "city.gaya\n",
      "Min date: 2016-08-26\n",
      "Max date: 2018-12-25\n",
      "\n",
      "city.amaravati\n",
      "Min date: 2016-12-05\n",
      "Max date: 2018-12-30\n",
      "\n",
      "city.navi-mumbai.govt-to-transfer-cash-for-tribal-kids-in-their-a\n",
      "Min date: 2017-04-28\n",
      "Max date: 2017-04-28\n",
      "\n",
      "city.lucknow-plist\n",
      "Min date: 2017-09-24\n",
      "Max date: 2017-09-24\n",
      "\n"
     ]
    }
   ],
   "source": [
    "cities = pd.unique(filtered_df.headline_category)\n",
    "for city in cities:\n",
    "    if \".\" in city:\n",
    "        city_df = filtered_df[filtered_df.headline_category == city]\n",
    "        print(city)\n",
    "        print(\"Min date:\", city_df.iloc[0][\"created_at\"].date())\n",
    "        print(\"Max date:\", city_df.iloc[-1][\"created_at\"].date())\n",
    "        print()"
   ]
  },
  {
   "cell_type": "code",
   "execution_count": 15,
   "metadata": {
    "ExecuteTime": {
     "end_time": "2019-03-28T18:03:16.523364Z",
     "start_time": "2019-03-28T18:03:16.518174Z"
    }
   },
   "outputs": [],
   "source": [
    "# Dictify cities\n",
    "cities = {x: (x.split(\".\")[1]).title() for x in cities if \".\" in x}\n",
    "\n",
    "# Delhi fix\n",
    "cities[\"Delhi\"] = \"Delhi-New Delhi\""
   ]
  },
  {
   "cell_type": "code",
   "execution_count": 16,
   "metadata": {
    "ExecuteTime": {
     "end_time": "2019-03-28T18:03:16.536243Z",
     "start_time": "2019-03-28T18:03:16.528550Z"
    }
   },
   "outputs": [],
   "source": [
    "cities_set = set(cities.values())\n",
    "acled_set = set(labels.keys())\n",
    "common_locations = cities_set & acled_set"
   ]
  },
  {
   "cell_type": "code",
   "execution_count": 17,
   "metadata": {
    "ExecuteTime": {
     "end_time": "2019-03-28T18:04:06.110989Z",
     "start_time": "2019-03-28T18:03:16.541560Z"
    },
    "scrolled": true
   },
   "outputs": [],
   "source": [
    "warnings.filterwarnings(\"ignore\")\n",
    "start_date, end_date = filtered_df.iloc[0]['created_at'], filtered_df.iloc[-1]['created_at']\n",
    "\n",
    "try:\n",
    "    temp = filtered_df.headline_category\n",
    "    filtered_df[\"finallocation\"] = temp\n",
    "    del filtered_df[\"headline_category\"]\n",
    "except:\n",
    "    pass\n",
    "\n",
    "filtered_df = get_headlines_sentiment(filtered_df)\n",
    "\n",
    "location_date_dict = interleave_location_and_date(filtered_df, start_date, end_date)\n",
    "warnings.filterwarnings(\"default\")"
   ]
  },
  {
   "cell_type": "code",
   "execution_count": 18,
   "metadata": {
    "ExecuteTime": {
     "end_time": "2019-03-28T18:04:27.987750Z",
     "start_time": "2019-03-28T18:04:06.112646Z"
    }
   },
   "outputs": [
    {
     "name": "stdout",
     "output_type": "stream",
     "text": [
      "Chandigarh done\n",
      "Jaipur done\n",
      "Thiruvananthapuram done\n",
      "Imphal done\n",
      "Chennai done\n",
      "Patna done\n",
      "Hyderabad done\n",
      "Gurgaon done\n",
      "Lucknow done\n",
      "Ahmedabad done\n",
      "Bhubaneswar done\n",
      "Kolkata done\n",
      "Ludhiana done\n",
      "Jammu done\n",
      "Ranchi done\n",
      "Bengaluru done\n",
      "Srinagar done\n",
      "Agartala done\n",
      "Guwahati done\n",
      "Shimla done\n",
      "Coimbatore done\n",
      "Dehradun done\n",
      "Amritsar done\n",
      "Puducherry done\n"
     ]
    }
   ],
   "source": [
    "location_feature_dict = {}\n",
    "for location in location_date_dict:\n",
    "    city = cities.get(location)\n",
    "    if city is not None and city in common_locations:\n",
    "        location_feature_dict[city] = get_features(location_date_dict[location])\n",
    "        print(city, \"done\")"
   ]
  },
  {
   "cell_type": "code",
   "execution_count": 19,
   "metadata": {
    "ExecuteTime": {
     "end_time": "2019-03-28T18:04:30.874020Z",
     "start_time": "2019-03-28T18:04:27.989786Z"
    }
   },
   "outputs": [
    {
     "name": "stdout",
     "output_type": "stream",
     "text": [
      "╒════════════════════╤══════════════════╤═════════════════╤═════════════╤══════════╤════════════╕\n",
      "│      Location      │   Train Accuracy │   Test Accuracy │   Precision │   Recall │   F1 Score │\n",
      "╞════════════════════╪══════════════════╪═════════════════╪═════════════╪══════════╪════════════╡\n",
      "│      Agartala      │             0.6  │            0.45 │        0.33 │     0.01 │       0.03 │\n",
      "├────────────────────┼──────────────────┼─────────────────┼─────────────┼──────────┼────────────┤\n",
      "│     Ahmedabad      │             0.74 │            0.49 │        0.47 │     0.67 │       0.55 │\n",
      "├────────────────────┼──────────────────┼─────────────────┼─────────────┼──────────┼────────────┤\n",
      "│      Amritsar      │             0.85 │            0.95 │        0.97 │     0.97 │       0.97 │\n",
      "├────────────────────┼──────────────────┼─────────────────┼─────────────┼──────────┼────────────┤\n",
      "│     Bengaluru      │             0.78 │            0.66 │        0.82 │     0.76 │       0.79 │\n",
      "├────────────────────┼──────────────────┼─────────────────┼─────────────┼──────────┼────────────┤\n",
      "│    Bhubaneswar     │             0.69 │            0.69 │        0.72 │     0.93 │       0.81 │\n",
      "├────────────────────┼──────────────────┼─────────────────┼─────────────┼──────────┼────────────┤\n",
      "│     Chandigarh     │             0.98 │            0.95 │        0.96 │     0.98 │       0.97 │\n",
      "├────────────────────┼──────────────────┼─────────────────┼─────────────┼──────────┼────────────┤\n",
      "│      Chennai       │             0.86 │            0.7  │        0.8  │     0.84 │       0.82 │\n",
      "├────────────────────┼──────────────────┼─────────────────┼─────────────┼──────────┼────────────┤\n",
      "│     Coimbatore     │             0.7  │            0.6  │        0.7  │     0.73 │       0.72 │\n",
      "├────────────────────┼──────────────────┼─────────────────┼─────────────┼──────────┼────────────┤\n",
      "│      Dehradun      │             0.83 │            0.68 │        0.68 │     0.99 │       0.81 │\n",
      "├────────────────────┼──────────────────┼─────────────────┼─────────────┼──────────┼────────────┤\n",
      "│      Gurgaon       │             0.7  │            0.47 │        0.59 │     0.29 │       0.39 │\n",
      "├────────────────────┼──────────────────┼─────────────────┼─────────────┼──────────┼────────────┤\n",
      "│      Guwahati      │             0.71 │            0.83 │        0.88 │     0.93 │       0.91 │\n",
      "├────────────────────┼──────────────────┼─────────────────┼─────────────┼──────────┼────────────┤\n",
      "│     Hyderabad      │             0.77 │            0.6  │        0.72 │     0.74 │       0.73 │\n",
      "├────────────────────┼──────────────────┼─────────────────┼─────────────┼──────────┼────────────┤\n",
      "│       Imphal       │             0.66 │            0.92 │        0.93 │     1    │       0.96 │\n",
      "├────────────────────┼──────────────────┼─────────────────┼─────────────┼──────────┼────────────┤\n",
      "│       Jaipur       │             0.81 │            0.56 │        0.6  │     0.76 │       0.67 │\n",
      "├────────────────────┼──────────────────┼─────────────────┼─────────────┼──────────┼────────────┤\n",
      "│       Jammu        │             0.95 │            1    │        1    │     1    │       1    │\n",
      "├────────────────────┼──────────────────┼─────────────────┼─────────────┼──────────┼────────────┤\n",
      "│      Kolkata       │             0.82 │            0.77 │        0.8  │     0.95 │       0.87 │\n",
      "├────────────────────┼──────────────────┼─────────────────┼─────────────┼──────────┼────────────┤\n",
      "│      Lucknow       │             0.89 │            0.81 │        0.82 │     0.99 │       0.9  │\n",
      "├────────────────────┼──────────────────┼─────────────────┼─────────────┼──────────┼────────────┤\n",
      "│      Ludhiana      │             0.88 │            0.95 │        0.95 │     1    │       0.97 │\n",
      "├────────────────────┼──────────────────┼─────────────────┼─────────────┼──────────┼────────────┤\n",
      "│       Patna        │             0.68 │            0.42 │        0.69 │     0.4  │       0.5  │\n",
      "├────────────────────┼──────────────────┼─────────────────┼─────────────┼──────────┼────────────┤\n",
      "│     Puducherry     │             0.57 │            0.48 │        0.47 │     0.97 │       0.64 │\n",
      "├────────────────────┼──────────────────┼─────────────────┼─────────────┼──────────┼────────────┤\n",
      "│       Ranchi       │             0.67 │            0.63 │        0.64 │     0.98 │       0.77 │\n",
      "├────────────────────┼──────────────────┼─────────────────┼─────────────┼──────────┼────────────┤\n",
      "│       Shimla       │             0.6  │            0.5  │        0.4  │     0.15 │       0.22 │\n",
      "├────────────────────┼──────────────────┼─────────────────┼─────────────┼──────────┼────────────┤\n",
      "│      Srinagar      │             0.98 │            1    │        1    │     1    │       1    │\n",
      "├────────────────────┼──────────────────┼─────────────────┼─────────────┼──────────┼────────────┤\n",
      "│ Thiruvananthapuram │             0.66 │            0.6  │        0.62 │     0.91 │       0.74 │\n",
      "├────────────────────┼──────────────────┼─────────────────┼─────────────┼──────────┼────────────┤\n",
      "│      Average       │             0.77 │            0.7  │        0.73 │     0.79 │       0.74 │\n",
      "╘════════════════════╧══════════════════╧═════════════════╧═════════════╧══════════╧════════════╛\n"
     ]
    }
   ],
   "source": [
    "make_predictions(location_feature_dict, labels)"
   ]
  },
  {
   "cell_type": "code",
   "execution_count": null,
   "metadata": {},
   "outputs": [],
   "source": []
  }
 ],
 "metadata": {
  "kernelspec": {
   "display_name": "Python 3",
   "language": "python",
   "name": "python3"
  },
  "language_info": {
   "codemirror_mode": {
    "name": "ipython",
    "version": 3
   },
   "file_extension": ".py",
   "mimetype": "text/x-python",
   "name": "python",
   "nbconvert_exporter": "python",
   "pygments_lexer": "ipython3",
   "version": "3.6.5"
  }
 },
 "nbformat": 4,
 "nbformat_minor": 2
}
