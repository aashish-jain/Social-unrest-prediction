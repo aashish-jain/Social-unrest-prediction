{
 "cells": [
  {
   "cell_type": "code",
   "execution_count": 1,
   "metadata": {
    "ExecuteTime": {
     "end_time": "2019-03-28T00:19:13.888889Z",
     "start_time": "2019-03-28T00:19:12.494398Z"
    }
   },
   "outputs": [
    {
     "name": "stderr",
     "output_type": "stream",
     "text": [
      "/Users/ateendraramesh/anaconda3/lib/python3.6/site-packages/sklearn/ensemble/weight_boosting.py:29: DeprecationWarning: numpy.core.umath_tests is an internal NumPy module and should not be imported. It will be removed in a future NumPy release.\n",
      "  from numpy.core.umath_tests import inner1d\n"
     ]
    }
   ],
   "source": [
    "import warnings\n",
    "\n",
    "import numpy as np\n",
    "import pandas as pd\n",
    "import matplotlib.pyplot as plt\n",
    "\n",
    "from tabulate import tabulate\n",
    "from collections import Counter\n",
    "from utils import plot_counter, process_acled_csv\n",
    "from sklearn.ensemble import ExtraTreesClassifier\n",
    "from nlp_utils import get_sentiment, get_features, make_predictions\n",
    "from sklearn.metrics import precision_score, recall_score, f1_score\n",
    "from doc_utils import get_docs_by_location, get_docs_by_day, interleave_location_and_date\n",
    "%load_ext autoreload"
   ]
  },
  {
   "cell_type": "code",
   "execution_count": 2,
   "metadata": {
    "ExecuteTime": {
     "end_time": "2019-03-28T00:19:17.154257Z",
     "start_time": "2019-03-28T00:19:13.890852Z"
    }
   },
   "outputs": [],
   "source": [
    "df = pd.read_csv(\"../../data/india-news-headlines.csv\")"
   ]
  },
  {
   "cell_type": "code",
   "execution_count": 3,
   "metadata": {
    "ExecuteTime": {
     "end_time": "2019-03-28T00:19:48.618842Z",
     "start_time": "2019-03-28T00:19:17.156221Z"
    }
   },
   "outputs": [
    {
     "name": "stdout",
     "output_type": "stream",
     "text": [
      "Data from 2016-01-01 to 2018-12-31  & Number of days - 1096\n"
     ]
    }
   ],
   "source": [
    "labels = process_acled_csv(\"../../data/1900-01-01-2019-03-23-India.csv\",\n",
    "                           top_locations=30,\n",
    "                           end=\"31-dec-2018\")"
   ]
  },
  {
   "cell_type": "code",
   "execution_count": 4,
   "metadata": {
    "ExecuteTime": {
     "end_time": "2019-03-28T00:19:48.642404Z",
     "start_time": "2019-03-28T00:19:48.620610Z"
    }
   },
   "outputs": [],
   "source": [
    "df[\"created_at\"] = df[\"publish_date\"]\n",
    "del df[\"publish_date\"]"
   ]
  },
  {
   "cell_type": "code",
   "execution_count": 5,
   "metadata": {
    "ExecuteTime": {
     "end_time": "2019-03-28T00:19:48.664350Z",
     "start_time": "2019-03-28T00:19:48.644360Z"
    }
   },
   "outputs": [
    {
     "data": {
      "text/html": [
       "<div>\n",
       "<style scoped>\n",
       "    .dataframe tbody tr th:only-of-type {\n",
       "        vertical-align: middle;\n",
       "    }\n",
       "\n",
       "    .dataframe tbody tr th {\n",
       "        vertical-align: top;\n",
       "    }\n",
       "\n",
       "    .dataframe thead th {\n",
       "        text-align: right;\n",
       "    }\n",
       "</style>\n",
       "<table border=\"1\" class=\"dataframe\">\n",
       "  <thead>\n",
       "    <tr style=\"text-align: right;\">\n",
       "      <th></th>\n",
       "      <th>headline_category</th>\n",
       "      <th>headline_text</th>\n",
       "      <th>created_at</th>\n",
       "    </tr>\n",
       "  </thead>\n",
       "  <tbody>\n",
       "    <tr>\n",
       "      <th>0</th>\n",
       "      <td>sports.wwe</td>\n",
       "      <td>win over cena satisfying but defeating underta...</td>\n",
       "      <td>20010101</td>\n",
       "    </tr>\n",
       "    <tr>\n",
       "      <th>1</th>\n",
       "      <td>bollywood</td>\n",
       "      <td>Raju Chacha</td>\n",
       "      <td>20010102</td>\n",
       "    </tr>\n",
       "    <tr>\n",
       "      <th>2</th>\n",
       "      <td>unknown</td>\n",
       "      <td>Status quo will not be disturbed at Ayodhya; s...</td>\n",
       "      <td>20010102</td>\n",
       "    </tr>\n",
       "    <tr>\n",
       "      <th>3</th>\n",
       "      <td>unknown</td>\n",
       "      <td>Fissures in Hurriyat over Pak visit</td>\n",
       "      <td>20010102</td>\n",
       "    </tr>\n",
       "    <tr>\n",
       "      <th>4</th>\n",
       "      <td>unknown</td>\n",
       "      <td>America's unwanted heading for India?</td>\n",
       "      <td>20010102</td>\n",
       "    </tr>\n",
       "  </tbody>\n",
       "</table>\n",
       "</div>"
      ],
      "text/plain": [
       "  headline_category                                      headline_text  \\\n",
       "0        sports.wwe  win over cena satisfying but defeating underta...   \n",
       "1         bollywood                                        Raju Chacha   \n",
       "2           unknown  Status quo will not be disturbed at Ayodhya; s...   \n",
       "3           unknown                Fissures in Hurriyat over Pak visit   \n",
       "4           unknown              America's unwanted heading for India?   \n",
       "\n",
       "   created_at  \n",
       "0    20010101  \n",
       "1    20010102  \n",
       "2    20010102  \n",
       "3    20010102  \n",
       "4    20010102  "
      ]
     },
     "execution_count": 5,
     "metadata": {},
     "output_type": "execute_result"
    }
   ],
   "source": [
    "df.head(5)"
   ]
  },
  {
   "cell_type": "code",
   "execution_count": 6,
   "metadata": {
    "ExecuteTime": {
     "end_time": "2019-03-28T00:19:49.101437Z",
     "start_time": "2019-03-28T00:19:48.666793Z"
    }
   },
   "outputs": [
    {
     "data": {
      "image/png": "[encoded data removed]",
      "text/plain": [
       "<Figure size 432x288 with 1 Axes>"
      ]
     },
     "metadata": {},
     "output_type": "display_data"
    }
   ],
   "source": [
    "plot_counter(df.headline_category, \n",
    "             title=\"Number of articles per city\",\n",
    "             xlabel=\"Headline Category\",\n",
    "             ylabel=\"Number of articles\")"
   ]
  },
  {
   "cell_type": "code",
   "execution_count": 7,
   "metadata": {
    "ExecuteTime": {
     "end_time": "2019-03-28T00:19:49.116624Z",
     "start_time": "2019-03-28T00:19:49.103653Z"
    }
   },
   "outputs": [
    {
     "data": {
      "text/html": [
       "<div>\n",
       "<style scoped>\n",
       "    .dataframe tbody tr th:only-of-type {\n",
       "        vertical-align: middle;\n",
       "    }\n",
       "\n",
       "    .dataframe tbody tr th {\n",
       "        vertical-align: top;\n",
       "    }\n",
       "\n",
       "    .dataframe thead th {\n",
       "        text-align: right;\n",
       "    }\n",
       "</style>\n",
       "<table border=\"1\" class=\"dataframe\">\n",
       "  <thead>\n",
       "    <tr style=\"text-align: right;\">\n",
       "      <th></th>\n",
       "      <th>headline_category</th>\n",
       "      <th>headline_text</th>\n",
       "      <th>created_at</th>\n",
       "    </tr>\n",
       "  </thead>\n",
       "  <tbody>\n",
       "    <tr>\n",
       "      <th>0</th>\n",
       "      <td>sports.wwe</td>\n",
       "      <td>win over cena satisfying but defeating underta...</td>\n",
       "      <td>20010101</td>\n",
       "    </tr>\n",
       "    <tr>\n",
       "      <th>1</th>\n",
       "      <td>bollywood</td>\n",
       "      <td>Raju Chacha</td>\n",
       "      <td>20010102</td>\n",
       "    </tr>\n",
       "    <tr>\n",
       "      <th>2</th>\n",
       "      <td>unknown</td>\n",
       "      <td>Status quo will not be disturbed at Ayodhya; s...</td>\n",
       "      <td>20010102</td>\n",
       "    </tr>\n",
       "    <tr>\n",
       "      <th>3</th>\n",
       "      <td>unknown</td>\n",
       "      <td>Fissures in Hurriyat over Pak visit</td>\n",
       "      <td>20010102</td>\n",
       "    </tr>\n",
       "    <tr>\n",
       "      <th>4</th>\n",
       "      <td>unknown</td>\n",
       "      <td>America's unwanted heading for India?</td>\n",
       "      <td>20010102</td>\n",
       "    </tr>\n",
       "  </tbody>\n",
       "</table>\n",
       "</div>"
      ],
      "text/plain": [
       "  headline_category                                      headline_text  \\\n",
       "0        sports.wwe  win over cena satisfying but defeating underta...   \n",
       "1         bollywood                                        Raju Chacha   \n",
       "2           unknown  Status quo will not be disturbed at Ayodhya; s...   \n",
       "3           unknown                Fissures in Hurriyat over Pak visit   \n",
       "4           unknown              America's unwanted heading for India?   \n",
       "\n",
       "   created_at  \n",
       "0    20010101  \n",
       "1    20010102  \n",
       "2    20010102  \n",
       "3    20010102  \n",
       "4    20010102  "
      ]
     },
     "execution_count": 7,
     "metadata": {},
     "output_type": "execute_result"
    }
   ],
   "source": [
    "df.head(5)"
   ]
  },
  {
   "cell_type": "code",
   "execution_count": 8,
   "metadata": {
    "ExecuteTime": {
     "end_time": "2019-03-28T00:19:49.140314Z",
     "start_time": "2019-03-28T00:19:49.119405Z"
    }
   },
   "outputs": [],
   "source": [
    "def convert_to_datetime(df):\n",
    "    \"\"\"\n",
    "    Input - A DF to convert df.publish_dates to to_datetime\n",
    "    Returns - A converted DF\n",
    "    \"\"\"\n",
    "    dates = df.created_at\n",
    "    dates = dates.apply(lambda x: str(x))\n",
    "    dates = pd.to_datetime(dates)\n",
    "    df['created_at'] = dates\n",
    "    return df\n",
    "\n",
    "\n",
    "def filter_headlines(df, keywords):\n",
    "    \"\"\"\n",
    "    Input - A DF for filtering headlines based on\n",
    "            keywords\n",
    "    Returns - Filtered DFA\n",
    "    \"\"\"\n",
    "    assert(keywords != None)\n",
    "    assert(len(keywords) != 0)\n",
    "\n",
    "    if isinstance(keywords, str):\n",
    "        keywords = [keywords]\n",
    "\n",
    "    resultant_df = pd.DataFrame(df.head(1).copy(deep=True), df.columns)\n",
    "\n",
    "    # Iteratively apply the filter for each word\n",
    "    for keyword in keywords:\n",
    "        temp_df = df[df['headline_text'].str.contains(keyword, na=False)]\n",
    "        print(keyword, \"found in\", temp_df.shape[0], \"rows\")\n",
    "        resultant_df = resultant_df.append(temp_df.copy(deep=True))\n",
    "\n",
    "    curr_len = len(resultant_df)\n",
    "    resultant_df.drop_duplicates(inplace=True)\n",
    "\n",
    "    print(\"Dropped\", curr_len - len(resultant_df), \"duplicate rows\")\n",
    "\n",
    "    return resultant_df"
   ]
  },
  {
   "cell_type": "code",
   "execution_count": 9,
   "metadata": {
    "ExecuteTime": {
     "end_time": "2019-03-28T00:20:13.022118Z",
     "start_time": "2019-03-28T00:19:49.143215Z"
    }
   },
   "outputs": [
    {
     "name": "stdout",
     "output_type": "stream",
     "text": [
      "bjp found in 150 rows\n",
      "govt found in 35274 rows\n",
      "government found in 11661 rows\n",
      "elect found in 22416 rows\n",
      "riot found in 5056 rows\n",
      "protest found in 18492 rows\n",
      "unrest found in 532 rows\n",
      "politic found in 10998 rows\n",
      "violen found in 5588 rows\n",
      "scam found in 11700 rows\n",
      "gang found in 9349 rows\n",
      "modi found in 890 rows\n",
      "attac found in 22155 rows\n",
      "Dropped 4634 duplicate rows\n",
      "Current shape: (149630, 3)\n"
     ]
    }
   ],
   "source": [
    "df = convert_to_datetime(df)\n",
    "\n",
    "filtered_df = filter_headlines(\n",
    "    df, ['bjp', 'govt', 'government', 'elect',\n",
    "         'riot', 'protest', 'unrest', 'politic',\n",
    "         'violen', 'scam', 'gang', 'modi', 'attac'])\n",
    "print(\"Current shape:\", filtered_df.shape)"
   ]
  },
  {
   "cell_type": "code",
   "execution_count": 10,
   "metadata": {
    "ExecuteTime": {
     "end_time": "2019-03-28T00:20:13.792225Z",
     "start_time": "2019-03-28T00:20:13.024316Z"
    }
   },
   "outputs": [
    {
     "name": "stdout",
     "output_type": "stream",
     "text": [
      "Current shape: (33832, 3)\n"
     ]
    }
   ],
   "source": [
    "# Get news from 2016 and with city tag\n",
    "filtered_df = filtered_df[filtered_df.headline_category.str.contains(\n",
    "    'city', na=False)]\n",
    "filtered_df = convert_to_datetime(filtered_df)\n",
    "\n",
    "filtered_df = filtered_df[filtered_df.created_at.dt.year > 2015]\n",
    "print(\"Current shape:\", filtered_df.shape)"
   ]
  },
  {
   "cell_type": "code",
   "execution_count": 11,
   "metadata": {
    "ExecuteTime": {
     "end_time": "2019-03-28T00:20:13.808667Z",
     "start_time": "2019-03-28T00:20:13.796888Z"
    }
   },
   "outputs": [
    {
     "data": {
      "text/html": [
       "<div>\n",
       "<style scoped>\n",
       "    .dataframe tbody tr th:only-of-type {\n",
       "        vertical-align: middle;\n",
       "    }\n",
       "\n",
       "    .dataframe tbody tr th {\n",
       "        vertical-align: top;\n",
       "    }\n",
       "\n",
       "    .dataframe thead th {\n",
       "        text-align: right;\n",
       "    }\n",
       "</style>\n",
       "<table border=\"1\" class=\"dataframe\">\n",
       "  <thead>\n",
       "    <tr style=\"text-align: right;\">\n",
       "      <th></th>\n",
       "      <th>headline_category</th>\n",
       "      <th>headline_text</th>\n",
       "      <th>created_at</th>\n",
       "    </tr>\n",
       "  </thead>\n",
       "  <tbody>\n",
       "    <tr>\n",
       "      <th>2457153</th>\n",
       "      <td>city.ahmedabad</td>\n",
       "      <td>bjp planning to advance gujarat assembly elect...</td>\n",
       "      <td>2016-12-19</td>\n",
       "    </tr>\n",
       "    <tr>\n",
       "      <th>2471496</th>\n",
       "      <td>city.mumbai</td>\n",
       "      <td>bjp silence on bmc pact worries senabjp silent...</td>\n",
       "      <td>2017-01-09</td>\n",
       "    </tr>\n",
       "    <tr>\n",
       "      <th>2475103</th>\n",
       "      <td>city.pune</td>\n",
       "      <td>bjp amp shiv sena hopeful of alliance for pimp...</td>\n",
       "      <td>2017-01-14</td>\n",
       "    </tr>\n",
       "    <tr>\n",
       "      <th>2476394</th>\n",
       "      <td>city.mumbai</td>\n",
       "      <td>hazare bjp mla get legal lessons over pilsanna...</td>\n",
       "      <td>2017-01-16</td>\n",
       "    </tr>\n",
       "    <tr>\n",
       "      <th>2477628</th>\n",
       "      <td>city.dehradun</td>\n",
       "      <td>protesting workers march to party office bjp r...</td>\n",
       "      <td>2017-01-18</td>\n",
       "    </tr>\n",
       "  </tbody>\n",
       "</table>\n",
       "</div>"
      ],
      "text/plain": [
       "        headline_category                                      headline_text  \\\n",
       "2457153    city.ahmedabad  bjp planning to advance gujarat assembly elect...   \n",
       "2471496       city.mumbai  bjp silence on bmc pact worries senabjp silent...   \n",
       "2475103         city.pune  bjp amp shiv sena hopeful of alliance for pimp...   \n",
       "2476394       city.mumbai  hazare bjp mla get legal lessons over pilsanna...   \n",
       "2477628     city.dehradun  protesting workers march to party office bjp r...   \n",
       "\n",
       "        created_at  \n",
       "2457153 2016-12-19  \n",
       "2471496 2017-01-09  \n",
       "2475103 2017-01-14  \n",
       "2476394 2017-01-16  \n",
       "2477628 2017-01-18  "
      ]
     },
     "execution_count": 11,
     "metadata": {},
     "output_type": "execute_result"
    }
   ],
   "source": [
    "filtered_df.head(5)"
   ]
  },
  {
   "cell_type": "code",
   "execution_count": 12,
   "metadata": {
    "ExecuteTime": {
     "end_time": "2019-03-28T00:20:14.260285Z",
     "start_time": "2019-03-28T00:20:13.811303Z"
    }
   },
   "outputs": [
    {
     "data": {
      "image/png": "[encoded data removed]",
      "text/plain": [
       "<Figure size 1440x720 with 1 Axes>"
      ]
     },
     "metadata": {},
     "output_type": "display_data"
    }
   ],
   "source": [
    "filtered_df.sort_values(by=\"created_at\", inplace=True)\n",
    "\n",
    "plot_counter(filtered_df.headline_category, num_elements=15, \n",
    "             title=\"Cities that generated news after filtering\",\n",
    "             xlabel=\"City Name\", ylabel=\"Number of articles\")"
   ]
  },
  {
   "cell_type": "code",
   "execution_count": 13,
   "metadata": {
    "ExecuteTime": {
     "end_time": "2019-03-28T00:20:14.967913Z",
     "start_time": "2019-03-28T00:20:14.265395Z"
    }
   },
   "outputs": [
    {
     "name": "stdout",
     "output_type": "stream",
     "text": [
      "city.chandigarh\n",
      "Min date: 2016-01-01\n",
      "Max date: 2018-12-31\n",
      "\n",
      "city.jaipur\n",
      "Min date: 2016-01-01\n",
      "Max date: 2018-12-31\n",
      "\n",
      "city.nagpur\n",
      "Min date: 2016-01-01\n",
      "Max date: 2018-12-26\n",
      "\n",
      "city.trichy\n",
      "Min date: 2016-01-01\n",
      "Max date: 2018-12-28\n",
      "\n",
      "city.vadodara\n",
      "Min date: 2016-01-01\n",
      "Max date: 2018-12-31\n",
      "\n",
      "city.thiruvananthapuram\n",
      "Min date: 2016-01-01\n",
      "Max date: 2018-12-31\n",
      "\n",
      "city.delhi\n",
      "Min date: 2016-01-01\n",
      "Max date: 2018-12-31\n",
      "\n",
      "city.imphal\n",
      "Min date: 2016-01-01\n",
      "Max date: 2018-12-23\n",
      "\n",
      "city.mumbai\n",
      "Min date: 2016-01-01\n",
      "Max date: 2018-12-29\n",
      "\n",
      "city.chennai\n",
      "Min date: 2016-01-01\n",
      "Max date: 2018-12-31\n",
      "\n",
      "city.indore\n",
      "Min date: 2016-01-01\n",
      "Max date: 2018-12-27\n",
      "\n",
      "city.patna\n",
      "Min date: 2016-01-01\n",
      "Max date: 2018-12-31\n",
      "\n",
      "city.hyderabad\n",
      "Min date: 2016-01-01\n",
      "Max date: 2018-12-30\n",
      "\n",
      "city.gurgaon\n",
      "Min date: 2016-01-01\n",
      "Max date: 2018-12-29\n",
      "\n",
      "city.goa\n",
      "Min date: 2016-01-01\n",
      "Max date: 2018-12-31\n",
      "\n",
      "city.lucknow\n",
      "Min date: 2016-01-01\n",
      "Max date: 2018-12-31\n",
      "\n",
      "city.pune\n",
      "Min date: 2016-01-02\n",
      "Max date: 2018-12-31\n",
      "\n",
      "city.jamshedpur\n",
      "Min date: 2016-01-02\n",
      "Max date: 2018-12-03\n",
      "\n",
      "city.ahmedabad\n",
      "Min date: 2016-01-02\n",
      "Max date: 2018-12-31\n",
      "\n",
      "city.kozhikode\n",
      "Min date: 2016-01-02\n",
      "Max date: 2018-12-25\n",
      "\n",
      "city.bhubaneswar\n",
      "Min date: 2016-01-02\n",
      "Max date: 2018-12-26\n",
      "\n",
      "city.visakhapatnam\n",
      "Min date: 2016-01-02\n",
      "Max date: 2018-12-20\n",
      "\n",
      "city.navi-mumbai\n",
      "Min date: 2016-01-02\n",
      "Max date: 2018-12-29\n",
      "\n",
      "city.kanpur\n",
      "Min date: 2016-01-02\n",
      "Max date: 2018-12-27\n",
      "\n",
      "city.cuttack\n",
      "Min date: 2016-01-02\n",
      "Max date: 2018-12-25\n",
      "\n",
      "city.kolkata\n",
      "Min date: 2016-01-02\n",
      "Max date: 2018-12-31\n",
      "\n",
      "city.ludhiana\n",
      "Min date: 2016-01-02\n",
      "Max date: 2018-12-31\n",
      "\n",
      "city.madurai\n",
      "Min date: 2016-01-02\n",
      "Max date: 2018-12-31\n",
      "\n",
      "city.aurangabad\n",
      "Min date: 2016-01-03\n",
      "Max date: 2018-12-26\n",
      "\n",
      "city.jammu\n",
      "Min date: 2016-01-03\n",
      "Max date: 2018-11-18\n",
      "\n",
      "city.bhopal\n",
      "Min date: 2016-01-03\n",
      "Max date: 2018-12-31\n",
      "\n",
      "city.noida\n",
      "Min date: 2016-01-03\n",
      "Max date: 2018-12-28\n",
      "\n",
      "city.ranchi\n",
      "Min date: 2016-01-03\n",
      "Max date: 2018-12-14\n",
      "\n",
      "city.bengaluru\n",
      "Min date: 2016-01-03\n",
      "Max date: 2018-12-31\n",
      "\n",
      "city.srinagar\n",
      "Min date: 2016-01-03\n",
      "Max date: 2018-10-30\n",
      "\n",
      "city.surat\n",
      "Min date: 2016-01-03\n",
      "Max date: 2018-12-31\n",
      "\n",
      "city.agartala\n",
      "Min date: 2016-01-03\n",
      "Max date: 2018-12-30\n",
      "\n",
      "city.guwahati\n",
      "Min date: 2016-01-03\n",
      "Max date: 2018-12-24\n",
      "\n",
      "city.kochi\n",
      "Min date: 2016-01-04\n",
      "Max date: 2018-12-30\n",
      "\n",
      "city.shimla\n",
      "Min date: 2016-01-04\n",
      "Max date: 2018-12-30\n",
      "\n",
      "city.jind\n",
      "Min date: 2016-01-04\n",
      "Max date: 2018-12-17\n",
      "\n",
      "city.coimbatore\n",
      "Min date: 2016-01-04\n",
      "Max date: 2018-12-30\n",
      "\n",
      "city.thane\n",
      "Min date: 2016-01-05\n",
      "Max date: 2018-12-28\n",
      "\n",
      "city.raipur\n",
      "Min date: 2016-01-05\n",
      "Max date: 2018-12-22\n",
      "\n",
      "city.kolhapur\n",
      "Min date: 2016-01-05\n",
      "Max date: 2018-12-29\n",
      "\n",
      "city.salem\n",
      "Min date: 2016-01-05\n",
      "Max date: 2018-12-24\n",
      "\n",
      "city.dehradun\n",
      "Min date: 2016-01-05\n",
      "Max date: 2018-12-31\n",
      "\n",
      "city.vijayawada\n",
      "Min date: 2016-01-05\n",
      "Max date: 2018-12-29\n",
      "\n",
      "city.shillong\n",
      "Min date: 2016-01-06\n",
      "Max date: 2018-11-11\n",
      "\n",
      "city.hubballi\n",
      "Min date: 2016-01-09\n",
      "Max date: 2018-12-25\n",
      "\n",
      "city.amritsar\n",
      "Min date: 2016-01-09\n",
      "Max date: 2018-12-31\n",
      "\n",
      "city.meerut\n",
      "Min date: 2016-01-11\n",
      "Max date: 2018-12-31\n",
      "\n",
      "city.varanasi\n",
      "Min date: 2016-01-11\n",
      "Max date: 2018-12-30\n",
      "\n",
      "city.mysuru\n",
      "Min date: 2016-01-11\n",
      "Max date: 2018-12-31\n",
      "\n",
      "city.erode\n",
      "Min date: 2016-01-12\n",
      "Max date: 2018-12-18\n",
      "\n",
      "city.allahabad\n",
      "Min date: 2016-01-16\n",
      "Max date: 2018-12-25\n",
      "\n",
      "city.faridabad\n",
      "Min date: 2016-01-19\n",
      "Max date: 2018-11-04\n",
      "\n",
      "city.mangaluru\n",
      "Min date: 2016-01-26\n",
      "Max date: 2018-12-28\n",
      "\n",
      "city.nashik\n",
      "Min date: 2016-01-30\n",
      "Max date: 2018-12-27\n",
      "\n",
      "city.puducherry\n",
      "Min date: 2016-02-01\n",
      "Max date: 2018-12-30\n",
      "\n",
      "city.rajkot\n",
      "Min date: 2016-02-02\n",
      "Max date: 2018-12-26\n",
      "\n",
      "city.rajahmundry\n",
      "Min date: 2016-02-04\n",
      "Max date: 2017-07-10\n",
      "\n",
      "city.agra\n",
      "Min date: 2016-02-28\n",
      "Max date: 2018-12-29\n",
      "\n",
      "city.bareilly\n",
      "Min date: 2016-03-10\n",
      "Max date: 2018-12-30\n",
      "\n",
      "city.ghaziabad\n",
      "Min date: 2016-04-30\n",
      "Max date: 2018-12-31\n",
      "\n",
      "city.itanagar\n",
      "Min date: 2016-05-14\n",
      "Max date: 2018-11-24\n",
      "\n",
      "city.kohima\n",
      "Min date: 2016-05-16\n",
      "Max date: 2018-08-29\n",
      "\n",
      "city.ajmer\n",
      "Min date: 2016-05-16\n",
      "Max date: 2018-12-13\n",
      "\n",
      "city.jodhpur\n",
      "Min date: 2016-07-04\n",
      "Max date: 2018-12-16\n",
      "\n",
      "city.udaipur\n",
      "Min date: 2016-07-20\n",
      "Max date: 2018-12-12\n",
      "\n",
      "city.gaya\n",
      "Min date: 2016-08-26\n",
      "Max date: 2018-12-25\n",
      "\n",
      "city.amaravati\n",
      "Min date: 2016-12-05\n",
      "Max date: 2018-12-30\n",
      "\n",
      "city.navi-mumbai.govt-to-transfer-cash-for-tribal-kids-in-their-a\n",
      "Min date: 2017-04-28\n",
      "Max date: 2017-04-28\n",
      "\n",
      "city.lucknow-plist\n",
      "Min date: 2017-09-24\n",
      "Max date: 2017-09-24\n",
      "\n"
     ]
    }
   ],
   "source": [
    "cities = pd.unique(filtered_df.headline_category)\n",
    "for city in cities:\n",
    "    if \".\" in city:\n",
    "        city_df = filtered_df[filtered_df.headline_category == city]\n",
    "        print(city)\n",
    "        print(\"Min date:\", min(city_df.created_at).date())\n",
    "        print(\"Max date:\", max(city_df.created_at).date())\n",
    "        print()"
   ]
  },
  {
   "cell_type": "code",
   "execution_count": 14,
   "metadata": {
    "ExecuteTime": {
     "end_time": "2019-03-28T00:20:14.975767Z",
     "start_time": "2019-03-28T00:20:14.970335Z"
    }
   },
   "outputs": [],
   "source": [
    "# Dictify cities\n",
    "cities = {x: (x.split(\".\")[1]).title() for x in cities if \".\" in x}\n",
    "\n",
    "# Delhi fix\n",
    "cities[\"Delhi\"] = \"Delhi-New Delhi\""
   ]
  },
  {
   "cell_type": "code",
   "execution_count": 15,
   "metadata": {
    "ExecuteTime": {
     "end_time": "2019-03-28T00:20:14.988284Z",
     "start_time": "2019-03-28T00:20:14.980942Z"
    }
   },
   "outputs": [],
   "source": [
    "cities_set = set(cities.values())\n",
    "acled_set = set(labels.keys())\n",
    "common_locations = cities_set & acled_set"
   ]
  },
  {
   "cell_type": "code",
   "execution_count": 16,
   "metadata": {
    "ExecuteTime": {
     "end_time": "2019-03-28T00:20:15.007945Z",
     "start_time": "2019-03-28T00:20:14.999780Z"
    }
   },
   "outputs": [],
   "source": [
    "def get_headlines_sentiment(df):\n",
    "    \"\"\"\n",
    "    Input - A dataframe of tweets from the CSV file\n",
    "    Returns - A df with an extra sentiment column\n",
    "    TODO - Process only for unique tweets\n",
    "    \"\"\"\n",
    "    docs = df['headline_text']\n",
    "    doc_ids = range(len(df))\n",
    "        \n",
    "    sentiment_dict = get_sentiment(docs, doc_ids)\n",
    "\n",
    "    neg, pos, neu, compound = [], [], [], []\n",
    "\n",
    "    for i in range(len(df)):\n",
    "        row = df.iloc[i]\n",
    "        doc_id = doc_ids[i]\n",
    "        sentiment = sentiment_dict[doc_id]\n",
    "        neg.append(sentiment['neg'])\n",
    "        pos.append(sentiment['pos'])\n",
    "        neu.append(sentiment['neu'])\n",
    "        compound.append(sentiment['compound'])\n",
    "    \n",
    "    df['neg'] = neg\n",
    "    df['neu'] = neu\n",
    "    df['pos'] = pos\n",
    "    df['compound'] = compound\n",
    "    return df\n"
   ]
  },
  {
   "cell_type": "code",
   "execution_count": null,
   "metadata": {
    "ExecuteTime": {
     "start_time": "2019-03-28T00:19:12.505Z"
    },
    "scrolled": true
   },
   "outputs": [
    {
     "name": "stdout",
     "output_type": "stream",
     "text": [
      "2016-01-01 00:00:00 2018-12-31 00:00:00\n",
      "city.chandigarh\n"
     ]
    },
    {
     "name": "stderr",
     "output_type": "stream",
     "text": [
      "/Users/ateendraramesh/Desktop/CSE635/Election-Violence-Prediction/notebooks/doc_utils.py:92: SettingWithCopyWarning: \n",
      "A value is trying to be set on a copy of a slice from a DataFrame.\n",
      "Try using .loc[row_indexer,col_indexer] = value instead\n",
      "\n",
      "See the caveats in the documentation: http://pandas.pydata.org/pandas-docs/stable/indexing.html#indexing-view-versus-copy\n",
      "  df['date'] = dates\n"
     ]
    },
    {
     "name": "stdout",
     "output_type": "stream",
     "text": [
      "city.jaipur\n",
      "city.nagpur\n",
      "city.trichy\n",
      "city.vadodara\n",
      "city.thiruvananthapuram\n",
      "city.delhi\n",
      "city.imphal\n",
      "city.mumbai\n",
      "city.chennai\n",
      "city.indore\n",
      "city.patna\n",
      "city.hyderabad\n",
      "city.gurgaon\n",
      "city.goa\n",
      "city.lucknow\n",
      "city.pune\n",
      "city.jamshedpur\n",
      "city.ahmedabad\n",
      "city.kozhikode\n",
      "city.bhubaneswar\n",
      "city.visakhapatnam\n",
      "city.navi-mumbai\n",
      "city.kanpur\n",
      "city.cuttack\n",
      "city.kolkata\n",
      "city.ludhiana\n",
      "city.madurai\n",
      "city.aurangabad\n",
      "city.jammu\n",
      "city.bhopal\n",
      "city.noida\n"
     ]
    }
   ],
   "source": [
    "start_date, end_date = filtered_df.iloc[0]['created_at'], filtered_df.iloc[-1]['created_at']\n",
    "\n",
    "try:\n",
    "    temp = filtered_df.headline_category\n",
    "    filtered_df[\"finallocation\"] = temp\n",
    "    del filtered_df[\"headline_category\"]\n",
    "except:\n",
    "    pass\n",
    "\n",
    "filtered_df = get_headlines_sentiment(filtered_df)\n",
    "\n",
    "location_date_dict = interleave_location_and_date(filtered_df, start_date, end_date)"
   ]
  },
  {
   "cell_type": "code",
   "execution_count": null,
   "metadata": {
    "ExecuteTime": {
     "start_time": "2019-03-28T00:19:12.509Z"
    }
   },
   "outputs": [],
   "source": [
    "location_feature_dict = {}\n",
    "for location in location_date_dict:\n",
    "    city = cities.get(location)\n",
    "    if city is not None and city in common_locations:\n",
    "        location_feature_dict[city] = get_features(location_date_dict[location])\n",
    "        print(city, \"done\")"
   ]
  },
  {
   "cell_type": "code",
   "execution_count": null,
   "metadata": {
    "ExecuteTime": {
     "start_time": "2019-03-28T00:19:12.516Z"
    }
   },
   "outputs": [],
   "source": [
    "make_predictions(location_feature_dict, labels)"
   ]
  },
  {
   "cell_type": "code",
   "execution_count": null,
   "metadata": {},
   "outputs": [],
   "source": []
  },
  {
   "cell_type": "code",
   "execution_count": null,
   "metadata": {},
   "outputs": [],
   "source": []
  }
 ],
 "metadata": {
  "kernelspec": {
   "display_name": "Python 3",
   "language": "python",
   "name": "python3"
  },
  "language_info": {
   "codemirror_mode": {
    "name": "ipython",
    "version": 3
   },
   "file_extension": ".py",
   "mimetype": "text/x-python",
   "name": "python",
   "nbconvert_exporter": "python",
   "pygments_lexer": "ipython3",
   "version": "3.6.5"
  }
 },
 "nbformat": 4,
 "nbformat_minor": 2
}
