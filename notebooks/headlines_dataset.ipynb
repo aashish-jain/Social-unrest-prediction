{
 "cells": [
  {
   "cell_type": "code",
   "execution_count": 89,
   "metadata": {
    "ExecuteTime": {
     "end_time": "2019-03-25T20:36:31.739965Z",
     "start_time": "2019-03-25T20:36:31.733829Z"
    }
   },
   "outputs": [
    {
     "name": "stdout",
     "output_type": "stream",
     "text": [
      "The autoreload extension is already loaded. To reload it, use:\n",
      "  %reload_ext autoreload\n"
     ]
    }
   ],
   "source": [
    "from collections import Counter\n",
    "import numpy as np\n",
    "import pandas as pd\n",
    "import matplotlib.pyplot as plt\n",
    "\n",
    "from utils import plot_counter\n",
    "%load_ext autoreload"
   ]
  },
  {
   "cell_type": "code",
   "execution_count": 90,
   "metadata": {
    "ExecuteTime": {
     "end_time": "2019-03-25T20:36:35.142441Z",
     "start_time": "2019-03-25T20:36:31.938000Z"
    }
   },
   "outputs": [],
   "source": [
    "df = pd.read_csv(\"../../data/india-news-headlines.csv\")"
   ]
  },
  {
   "cell_type": "code",
   "execution_count": 119,
   "metadata": {
    "ExecuteTime": {
     "end_time": "2019-03-25T21:06:41.542934Z",
     "start_time": "2019-03-25T21:06:41.531933Z"
    }
   },
   "outputs": [
    {
     "data": {
      "text/html": [
       "<div>\n",
       "<style scoped>\n",
       "    .dataframe tbody tr th:only-of-type {\n",
       "        vertical-align: middle;\n",
       "    }\n",
       "\n",
       "    .dataframe tbody tr th {\n",
       "        vertical-align: top;\n",
       "    }\n",
       "\n",
       "    .dataframe thead th {\n",
       "        text-align: right;\n",
       "    }\n",
       "</style>\n",
       "<table border=\"1\" class=\"dataframe\">\n",
       "  <thead>\n",
       "    <tr style=\"text-align: right;\">\n",
       "      <th></th>\n",
       "      <th>publish_date</th>\n",
       "      <th>headline_category</th>\n",
       "      <th>headline_text</th>\n",
       "    </tr>\n",
       "  </thead>\n",
       "  <tbody>\n",
       "    <tr>\n",
       "      <th>0</th>\n",
       "      <td>20010101</td>\n",
       "      <td>sports.wwe</td>\n",
       "      <td>win over cena satisfying but defeating underta...</td>\n",
       "    </tr>\n",
       "    <tr>\n",
       "      <th>1</th>\n",
       "      <td>20010102</td>\n",
       "      <td>bollywood</td>\n",
       "      <td>Raju Chacha</td>\n",
       "    </tr>\n",
       "    <tr>\n",
       "      <th>2</th>\n",
       "      <td>20010102</td>\n",
       "      <td>unknown</td>\n",
       "      <td>Status quo will not be disturbed at Ayodhya; s...</td>\n",
       "    </tr>\n",
       "    <tr>\n",
       "      <th>3</th>\n",
       "      <td>20010102</td>\n",
       "      <td>unknown</td>\n",
       "      <td>Fissures in Hurriyat over Pak visit</td>\n",
       "    </tr>\n",
       "    <tr>\n",
       "      <th>4</th>\n",
       "      <td>20010102</td>\n",
       "      <td>unknown</td>\n",
       "      <td>America's unwanted heading for India?</td>\n",
       "    </tr>\n",
       "  </tbody>\n",
       "</table>\n",
       "</div>"
      ],
      "text/plain": [
       "   publish_date headline_category  \\\n",
       "0      20010101        sports.wwe   \n",
       "1      20010102         bollywood   \n",
       "2      20010102           unknown   \n",
       "3      20010102           unknown   \n",
       "4      20010102           unknown   \n",
       "\n",
       "                                       headline_text  \n",
       "0  win over cena satisfying but defeating underta...  \n",
       "1                                        Raju Chacha  \n",
       "2  Status quo will not be disturbed at Ayodhya; s...  \n",
       "3                Fissures in Hurriyat over Pak visit  \n",
       "4              America's unwanted heading for India?  "
      ]
     },
     "execution_count": 119,
     "metadata": {},
     "output_type": "execute_result"
    }
   ],
   "source": [
    "df.head(5)"
   ]
  },
  {
   "cell_type": "code",
   "execution_count": 92,
   "metadata": {
    "ExecuteTime": {
     "end_time": "2019-03-25T20:36:35.670124Z",
     "start_time": "2019-03-25T20:36:35.157402Z"
    }
   },
   "outputs": [
    {
     "data": {
      "image/png": "[encoded data removed]",
      "text/plain": [
       "<Figure size 1440x720 with 1 Axes>"
      ]
     },
     "metadata": {},
     "output_type": "display_data"
    }
   ],
   "source": [
    "plot_counter(df.headline_category, xlabel=\"Headline Category\",\n",
    "             ylabel=\"Number of articles\")"
   ]
  },
  {
   "cell_type": "code",
   "execution_count": 138,
   "metadata": {
    "ExecuteTime": {
     "end_time": "2019-03-25T21:23:00.226109Z",
     "start_time": "2019-03-25T21:23:00.216712Z"
    }
   },
   "outputs": [
    {
     "data": {
      "text/html": [
       "<div>\n",
       "<style scoped>\n",
       "    .dataframe tbody tr th:only-of-type {\n",
       "        vertical-align: middle;\n",
       "    }\n",
       "\n",
       "    .dataframe tbody tr th {\n",
       "        vertical-align: top;\n",
       "    }\n",
       "\n",
       "    .dataframe thead th {\n",
       "        text-align: right;\n",
       "    }\n",
       "</style>\n",
       "<table border=\"1\" class=\"dataframe\">\n",
       "  <thead>\n",
       "    <tr style=\"text-align: right;\">\n",
       "      <th></th>\n",
       "      <th>publish_date</th>\n",
       "      <th>headline_category</th>\n",
       "      <th>headline_text</th>\n",
       "    </tr>\n",
       "  </thead>\n",
       "  <tbody>\n",
       "    <tr>\n",
       "      <th>0</th>\n",
       "      <td>20010101</td>\n",
       "      <td>sports.wwe</td>\n",
       "      <td>win over cena satisfying but defeating underta...</td>\n",
       "    </tr>\n",
       "    <tr>\n",
       "      <th>1</th>\n",
       "      <td>20010102</td>\n",
       "      <td>bollywood</td>\n",
       "      <td>Raju Chacha</td>\n",
       "    </tr>\n",
       "    <tr>\n",
       "      <th>2</th>\n",
       "      <td>20010102</td>\n",
       "      <td>unknown</td>\n",
       "      <td>Status quo will not be disturbed at Ayodhya; s...</td>\n",
       "    </tr>\n",
       "    <tr>\n",
       "      <th>3</th>\n",
       "      <td>20010102</td>\n",
       "      <td>unknown</td>\n",
       "      <td>Fissures in Hurriyat over Pak visit</td>\n",
       "    </tr>\n",
       "    <tr>\n",
       "      <th>4</th>\n",
       "      <td>20010102</td>\n",
       "      <td>unknown</td>\n",
       "      <td>America's unwanted heading for India?</td>\n",
       "    </tr>\n",
       "  </tbody>\n",
       "</table>\n",
       "</div>"
      ],
      "text/plain": [
       "   publish_date headline_category  \\\n",
       "0      20010101        sports.wwe   \n",
       "1      20010102         bollywood   \n",
       "2      20010102           unknown   \n",
       "3      20010102           unknown   \n",
       "4      20010102           unknown   \n",
       "\n",
       "                                       headline_text  \n",
       "0  win over cena satisfying but defeating underta...  \n",
       "1                                        Raju Chacha  \n",
       "2  Status quo will not be disturbed at Ayodhya; s...  \n",
       "3                Fissures in Hurriyat over Pak visit  \n",
       "4              America's unwanted heading for India?  "
      ]
     },
     "execution_count": 138,
     "metadata": {},
     "output_type": "execute_result"
    }
   ],
   "source": [
    "df.head(5)"
   ]
  },
  {
   "cell_type": "code",
   "execution_count": 139,
   "metadata": {
    "ExecuteTime": {
     "end_time": "2019-03-25T21:23:02.883355Z",
     "start_time": "2019-03-25T21:23:02.865248Z"
    }
   },
   "outputs": [],
   "source": [
    "def convert_to_datetime(df):\n",
    "    \"\"\"\n",
    "    Input - A DF to convert df.publish_dates to to_datetime\n",
    "    Returns - A converted DF\n",
    "    \"\"\"\n",
    "    dates = df.publish_date\n",
    "    dates = dates.apply(lambda x: str(x))\n",
    "    dates = pd.to_datetime(dates)\n",
    "    df.publish_date = dates\n",
    "    return df\n",
    "\n",
    "\n",
    "def filter_headlines(df, keywords):\n",
    "    \"\"\"\n",
    "    Input - A DF for filtering headlines based on\n",
    "            keywords\n",
    "    Returns - Filtered DF\n",
    "    \"\"\"\n",
    "    assert(keywords != None)\n",
    "    assert(len(keywords) != 0)\n",
    "\n",
    "    if isinstance(keywords, str):\n",
    "        keywords = [keywords]\n",
    "\n",
    "    resultant_df = pd.DataFrame(df.head(1).copy(deep=True), df.columns)\n",
    "\n",
    "    # Iteratively apply the filter for each word\n",
    "    for keyword in keywords:\n",
    "        temp_df = df[df['headline_text'].str.contains(keyword, na=False)]\n",
    "        print(keyword, \"found in\", temp_df.shape[0], \"rows\")\n",
    "        resultant_df = resultant_df.append(temp_df.copy(deep=True))\n",
    "\n",
    "    curr_len = len(resultant_df)\n",
    "    resultant_df.drop_duplicates(inplace=True)\n",
    "\n",
    "    print(\"Dropped\", curr_len - len(resultant_df), \"duplicate rows\")\n",
    "\n",
    "    return resultant_df"
   ]
  },
  {
   "cell_type": "code",
   "execution_count": 146,
   "metadata": {
    "ExecuteTime": {
     "end_time": "2019-03-25T21:25:27.657469Z",
     "start_time": "2019-03-25T21:25:04.992402Z"
    }
   },
   "outputs": [
    {
     "name": "stdout",
     "output_type": "stream",
     "text": [
      "bjp found in 150 rows\n",
      "govt found in 35274 rows\n",
      "government found in 11661 rows\n",
      "election found in 12708 rows\n",
      "riot found in 5056 rows\n",
      "protest found in 18492 rows\n",
      "unrest found in 532 rows\n",
      "Dropped 1457 duplicate rows\n",
      "Current shape: (82419, 3)\n"
     ]
    }
   ],
   "source": [
    "df = convert_to_datetime(df)\n",
    "filtered_df = filter_headlines(\n",
    "    df, ['bjp', 'govt', 'government', 'election', 'riot', 'protest', 'unrest'])\n",
    "print(\"Current shape:\", filtered_df.shape)"
   ]
  },
  {
   "cell_type": "code",
   "execution_count": 147,
   "metadata": {
    "ExecuteTime": {
     "end_time": "2019-03-25T21:25:28.039221Z",
     "start_time": "2019-03-25T21:25:27.659641Z"
    }
   },
   "outputs": [
    {
     "name": "stdout",
     "output_type": "stream",
     "text": [
      "Current shape: (20298, 3)\n"
     ]
    }
   ],
   "source": [
    "# Get news from 2016 and with city tag\n",
    "filtered_df = filtered_df[filtered_df.headline_category.str.contains(\n",
    "    'city', na=False)]\n",
    "filtered_df = convert_to_datetime(filtered_df)\n",
    "\n",
    "filtered_df = filtered_df[filtered_df.publish_date.dt.year > 2015]\n",
    "print(\"Current shape:\", filtered_df.shape)"
   ]
  },
  {
   "cell_type": "code",
   "execution_count": 153,
   "metadata": {
    "ExecuteTime": {
     "end_time": "2019-03-25T21:28:56.306465Z",
     "start_time": "2019-03-25T21:28:56.082845Z"
    }
   },
   "outputs": [
    {
     "data": {
      "image/png": "[encoded data removed]",
      "text/plain": [
       "<Figure size 1440x720 with 1 Axes>"
      ]
     },
     "metadata": {},
     "output_type": "display_data"
    }
   ],
   "source": [
    "filtered_df.head(5)\n",
    "filtered_df.sort_values(by=\"publish_date\", inplace=True)\n",
    "\n",
    "plot_counter(filtered_df.headline_category, title=\"Cities that generated news\",\n",
    "             xlabel=\"City Name\", ylabel=\"Number of articles\")"
   ]
  },
  {
   "cell_type": "code",
   "execution_count": null,
   "metadata": {},
   "outputs": [],
   "source": []
  }
 ],
 "metadata": {
  "kernelspec": {
   "display_name": "Python 3",
   "language": "python",
   "name": "python3"
  },
  "language_info": {
   "codemirror_mode": {
    "name": "ipython",
    "version": 3
   },
   "file_extension": ".py",
   "mimetype": "text/x-python",
   "name": "python",
   "nbconvert_exporter": "python",
   "pygments_lexer": "ipython3",
   "version": "3.6.5"
  }
 },
 "nbformat": 4,
 "nbformat_minor": 2
}
