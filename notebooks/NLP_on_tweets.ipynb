{
 "cells": [
  {
   "cell_type": "code",
   "execution_count": 1,
   "metadata": {
    "ExecuteTime": {
     "end_time": "2019-03-22T04:14:09.680249Z",
     "start_time": "2019-03-22T04:14:07.267563Z"
    }
   },
   "outputs": [
    {
     "name": "stdout",
     "output_type": "stream",
     "text": [
      "Requirement already satisfied: vaderSentiment in /Users/ateendraramesh/anaconda3/lib/python3.6/site-packages (3.2.1)\r\n"
     ]
    }
   ],
   "source": [
    "!pip install vaderSentiment"
   ]
  },
  {
   "cell_type": "code",
   "execution_count": 2,
   "metadata": {
    "ExecuteTime": {
     "end_time": "2019-03-22T04:14:11.609457Z",
     "start_time": "2019-03-22T04:14:09.683095Z"
    },
    "run_control": {
     "marked": false
    }
   },
   "outputs": [],
   "source": [
    "import textblob\n",
    "import numpy as np\n",
    "import pandas as pd\n",
    "import matplotlib.pyplot as plt\n",
    "from collections import Counter\n",
    "from vaderSentiment.vaderSentiment import SentimentIntensityAnalyzer\n",
    "plt.rcParams['figure.figsize'] = [20, 8]"
   ]
  },
  {
   "cell_type": "code",
   "execution_count": 3,
   "metadata": {
    "ExecuteTime": {
     "end_time": "2019-03-22T04:14:12.670872Z",
     "start_time": "2019-03-22T04:14:11.612167Z"
    },
    "run_control": {
     "marked": false
    }
   },
   "outputs": [
    {
     "name": "stderr",
     "output_type": "stream",
     "text": [
      "/Users/ateendraramesh/anaconda3/lib/python3.6/site-packages/IPython/core/interactiveshell.py:2785: DtypeWarning: Columns (0,8,18,23,24,26,27,29,31,40,44) have mixed types. Specify dtype option on import or set low_memory=False.\n",
      "  interactivity=interactivity, compiler=compiler, result=result)\n"
     ]
    }
   ],
   "source": [
    "plt.rcParams['figure.figsize'] = [20, 8]\n",
    "\n",
    "# Read tweets csv\n",
    "df = pd.read_csv(\"../../data/Tweets3Weeks.csv\")\n",
    "\n",
    "# Drop all-null rows if any\n",
    "df.dropna(how='all', inplace=True)\n",
    "df.drop(columns=['Unnamed: 0'], inplace=True)"
   ]
  },
  {
   "cell_type": "code",
   "execution_count": 4,
   "metadata": {
    "ExecuteTime": {
     "end_time": "2019-03-22T04:14:12.689224Z",
     "start_time": "2019-03-22T04:14:12.672858Z"
    },
    "code_folding": []
   },
   "outputs": [],
   "source": [
    "# Vader sentiment\n",
    "vader = SentimentIntensityAnalyzer()"
   ]
  },
  {
   "cell_type": "code",
   "execution_count": 5,
   "metadata": {
    "ExecuteTime": {
     "end_time": "2019-03-22T04:14:12.706793Z",
     "start_time": "2019-03-22T04:14:12.691175Z"
    }
   },
   "outputs": [],
   "source": [
    "def clean_df(df):\n",
    "    \"\"\"\n",
    "    Input: A df of tweets\n",
    "    Returns: A df that cleans the input \n",
    "             df and returns it.\n",
    "    \"\"\"\n",
    "    rows_to_drop = []\n",
    "    for i in range(len(df)):\n",
    "        curr_row = df.iloc[i]\n",
    "        if (pd.isna(curr_row['full_text'])) or pd.isna(curr_row['created_at']) or not str(curr_row['created_at']).endswith(\"2019\"):\n",
    "            rows_to_drop.append(i)\n",
    "    print (\"Dropping\", len(rows_to_drop), \"rows!\")\n",
    "    if len(rows_to_drop) == 0:\n",
    "        return df\n",
    "    return df.drop(rows_to_drop)\n",
    "        \n",
    "def add_sentiment_to_df(df):\n",
    "    # Sentiment values\n",
    "    neg, pos, neu, compound = [], [], [], []\n",
    "    \n",
    "    # Failed entries for debugging laters\n",
    "    failed = []\n",
    "    for i, text in enumerate(df['full_text']):\n",
    "        try:\n",
    "            sentiment_dict = vader.polarity_scores(text)\n",
    "            neg.append(sentiment_dict['neg'])\n",
    "            neu.append(sentiment_dict['neu'])\n",
    "            pos.append(sentiment_dict['pos'])\n",
    "            compound.append(sentiment_dict['compound'])     \n",
    "        except:\n",
    "            failed.append(i)\n",
    "    assert(len(failed) == 0)\n",
    "    df['neg'] = neg\n",
    "    df['neu'] = neu\n",
    "    df['pos'] = pos\n",
    "    df['compound'] = compound\n",
    "    return df"
   ]
  },
  {
   "cell_type": "code",
   "execution_count": 6,
   "metadata": {
    "ExecuteTime": {
     "end_time": "2019-03-22T04:14:30.847726Z",
     "start_time": "2019-03-22T04:14:12.709156Z"
    }
   },
   "outputs": [
    {
     "name": "stdout",
     "output_type": "stream",
     "text": [
      "Dropping 2 rows!\n"
     ]
    }
   ],
   "source": [
    "df = clean_df(df)\n",
    "df = add_sentiment_to_df(df)"
   ]
  },
  {
   "cell_type": "code",
   "execution_count": 7,
   "metadata": {
    "ExecuteTime": {
     "end_time": "2019-03-22T04:14:31.033026Z",
     "start_time": "2019-03-22T04:14:30.849625Z"
    }
   },
   "outputs": [
    {
     "data": {
      "image/png": "[encoded data removed]",
      "text/plain": [
       "<Figure size 1440x576 with 1 Axes>"
      ]
     },
     "metadata": {},
     "output_type": "display_data"
    }
   ],
   "source": [
    "lang_count = Counter(df['lang'])\n",
    "del lang_count['<a href=\"http://twitter.com/download/android\" rel=\"nofollow\">Twitter for Android</a>']\n",
    "lang_count = sorted(lang_count.items(), key=lambda x: -x[1])\n",
    "\n",
    "counter = np.array(lang_count)[:10]\n",
    "places, counts = counter[:, 0].tolist(), counter[:, 1].astype(np.float32)\n",
    "indices = np.arange(len(counts))\n",
    "width = 1\n",
    "\n",
    "plt.xlabel(\"Language\")\n",
    "plt.ylabel(\"Number of articles\")\n",
    "plt.interactive(True)\n",
    "\n",
    "plt.xticks(indices, places)\n",
    "plt.title(\"Languages and # of Tweets\")\n",
    "_ = plt.bar(indices, counts, 0.5)"
   ]
  },
  {
   "cell_type": "code",
   "execution_count": 8,
   "metadata": {
    "ExecuteTime": {
     "end_time": "2019-03-22T04:14:35.914139Z",
     "start_time": "2019-03-22T04:14:31.036659Z"
    }
   },
   "outputs": [],
   "source": [
    "df['created_at'] = pd.to_datetime(df['created_at'])\n",
    "# Sort by time created\n",
    "df.sort_values(by=['created_at'], inplace=True)"
   ]
  },
  {
   "cell_type": "code",
   "execution_count": 9,
   "metadata": {
    "ExecuteTime": {
     "end_time": "2019-03-22T04:14:35.921624Z",
     "start_time": "2019-03-22T04:14:35.916105Z"
    }
   },
   "outputs": [],
   "source": [
    "def tweets_by_day(df):\n",
    "    \"\"\"\n",
    "    Input: A df with created_at column\n",
    "           converted by pd.to_datetime\n",
    "    Returns: A dict with date as key and\n",
    "             tweets on that date as values\n",
    "    \"\"\"\n",
    "    min_date = min(df['created_at']).date()\n",
    "    max_date = max(df['created_at']).date()\n",
    "    \n",
    "    date_dict = {}\n",
    "    \n",
    "    assert(max_date > min_date)\n",
    "    \n",
    "    date_range = pd.date_range(min_date, max_date)\n",
    "    \n",
    "    dates = [x.date() for x in df['created_at']]\n",
    "    \n",
    "    df['date'] = dates\n",
    "    \n",
    "    for date in dates:\n",
    "        date_dict[str(date)] = df[df['date'] == date]\n",
    "    del df['date']\n",
    "    return date_dict"
   ]
  },
  {
   "cell_type": "code",
   "execution_count": 10,
   "metadata": {
    "ExecuteTime": {
     "end_time": "2019-03-22T04:15:57.104498Z",
     "start_time": "2019-03-22T04:14:35.923443Z"
    }
   },
   "outputs": [],
   "source": [
    "date_dict = tweets_by_day(df)"
   ]
  },
  {
   "cell_type": "code",
   "execution_count": 11,
   "metadata": {
    "ExecuteTime": {
     "end_time": "2019-03-22T04:15:57.118327Z",
     "start_time": "2019-03-22T04:15:57.107340Z"
    }
   },
   "outputs": [
    {
     "name": "stdout",
     "output_type": "stream",
     "text": [
      "[['2019-02-23' '172']\n",
      " ['2019-02-24' '642']\n",
      " ['2019-02-25' '752']\n",
      " ['2019-02-26' '704']\n",
      " ['2019-02-27' '464']\n",
      " ['2019-02-28' '1629']\n",
      " ['2019-03-01' '990']\n",
      " ['2019-03-02' '1552']\n",
      " ['2019-03-03' '2065']\n",
      " ['2019-03-04' '2189']\n",
      " ['2019-03-05' '1338']\n",
      " ['2019-03-06' '1339']\n",
      " ['2019-03-07' '1293']\n",
      " ['2019-03-08' '954']\n",
      " ['2019-03-09' '1019']\n",
      " ['2019-03-10' '1522']\n",
      " ['2019-03-11' '1967']\n",
      " ['2019-03-12' '1403']\n",
      " ['2019-03-13' '1491']\n",
      " ['2019-03-14' '1278']\n",
      " ['2019-03-15' '998']\n",
      " ['2019-03-16' '935']\n",
      " ['2019-03-17' '1401']\n",
      " ['2019-03-18' '1324']\n",
      " ['2019-03-19' '1592']]\n"
     ]
    }
   ],
   "source": [
    "num_tweets = np.array([[x, int(len(date_dict[x]))] for x in date_dict])\n",
    "print(num_tweets)"
   ]
  },
  {
   "cell_type": "markdown",
   "metadata": {},
   "source": [
    "### Current Features\n",
    "   * Number of tweets each day\n",
    "   * Average pos, neg, neu and compound features\n",
    "   * Tweet count with neg sentiment\n",
    "\n",
    "### TODO\n",
    "   * Hate speech\n",
    "   * Violent speech"
   ]
  },
  {
   "cell_type": "code",
   "execution_count": 17,
   "metadata": {
    "ExecuteTime": {
     "end_time": "2019-03-22T04:18:57.255079Z",
     "start_time": "2019-03-22T04:18:57.250855Z"
    },
    "code_folding": []
   },
   "outputs": [],
   "source": [
    "def get_features(date_dict):\n",
    "    \"\"\"\n",
    "    Input: date_dict to compute features for each date\n",
    "    Returns: Features for each date\n",
    "    \"\"\"\n",
    "    features = []\n",
    "    for date in date_dict:\n",
    "        feature_row = []\n",
    "        tweets = date_dict[date]\n",
    "        \n",
    "        feature_row.append(len(tweets))\n",
    "        mean = tweets.mean()\n",
    "        \n",
    "        feature_row.extend([mean['pos'], mean['neg'], mean['neu'], mean['compound']])\n",
    "        feature_row.append(len(tweets[tweets['neg'] > 0]))\n",
    "        \n",
    "        features.append(feature_row)\n",
    "    return features"
   ]
  },
  {
   "cell_type": "code",
   "execution_count": 19,
   "metadata": {
    "ExecuteTime": {
     "end_time": "2019-03-22T04:28:24.393380Z",
     "start_time": "2019-03-22T04:23:44.990096Z"
    }
   },
   "outputs": [],
   "source": [
    "features = get_features(date_dict)"
   ]
  },
  {
   "cell_type": "code",
   "execution_count": 20,
   "metadata": {
    "ExecuteTime": {
     "end_time": "2019-03-22T04:29:15.806340Z",
     "start_time": "2019-03-22T04:29:15.797284Z"
    }
   },
   "outputs": [],
   "source": [
    "np.save(\"features.npy\", features)"
   ]
  },
  {
   "cell_type": "code",
   "execution_count": null,
   "metadata": {},
   "outputs": [],
   "source": []
  }
 ],
 "metadata": {
  "kernelspec": {
   "display_name": "Python 3",
   "language": "python",
   "name": "python3"
  },
  "language_info": {
   "codemirror_mode": {
    "name": "ipython",
    "version": 3
   },
   "file_extension": ".py",
   "mimetype": "text/x-python",
   "name": "python",
   "nbconvert_exporter": "python",
   "pygments_lexer": "ipython3",
   "version": "3.6.5"
  }
 },
 "nbformat": 4,
 "nbformat_minor": 2
}
