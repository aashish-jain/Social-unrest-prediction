{
 "cells": [
  {
   "cell_type": "code",
   "execution_count": 70,
   "metadata": {
    "ExecuteTime": {
     "end_time": "2019-03-27T20:29:51.332507Z",
     "start_time": "2019-03-27T20:29:46.254007Z"
    }
   },
   "outputs": [
    {
     "name": "stdout",
     "output_type": "stream",
     "text": [
      "Requirement already satisfied: vaderSentiment in /Users/ateendraramesh/anaconda3/lib/python3.6/site-packages (3.2.1)\n",
      "Requirement already satisfied: tabulate in /Users/ateendraramesh/anaconda3/lib/python3.6/site-packages (0.8.2)\n"
     ]
    }
   ],
   "source": [
    "!pip install vaderSentiment\n",
    "!pip install tabulate"
   ]
  },
  {
   "cell_type": "code",
   "execution_count": 71,
   "metadata": {
    "ExecuteTime": {
     "end_time": "2019-03-27T20:29:51.341516Z",
     "start_time": "2019-03-27T20:29:51.335926Z"
    }
   },
   "outputs": [],
   "source": [
    "from utils import *\n",
    "from doc_utils import *"
   ]
  },
  {
   "cell_type": "code",
   "execution_count": 72,
   "metadata": {
    "ExecuteTime": {
     "end_time": "2019-03-27T20:29:52.045300Z",
     "start_time": "2019-03-27T20:29:52.040742Z"
    },
    "run_control": {
     "marked": false
    }
   },
   "outputs": [],
   "source": [
    "import warnings\n",
    "import textblob\n",
    "\n",
    "import numpy as np\n",
    "import pandas as pd\n",
    "import matplotlib.pyplot as plt\n",
    "\n",
    "from tabulate import tabulate\n",
    "from collections import Counter\n",
    "from sklearn.ensemble import ExtraTreesClassifier\n",
    "from sklearn.metrics import precision_score, recall_score, f1_score\n",
    "from vaderSentiment.vaderSentiment import SentimentIntensityAnalyzer\n",
    "\n",
    "plt.rcParams['figure.figsize'] = [20, 8]"
   ]
  },
  {
   "cell_type": "code",
   "execution_count": 73,
   "metadata": {
    "ExecuteTime": {
     "end_time": "2019-03-27T20:29:54.208009Z",
     "start_time": "2019-03-27T20:29:52.534516Z"
    },
    "run_control": {
     "marked": false
    }
   },
   "outputs": [
    {
     "name": "stderr",
     "output_type": "stream",
     "text": [
      "/Users/ateendraramesh/anaconda3/lib/python3.6/site-packages/IPython/core/interactiveshell.py:2785: DtypeWarning: Columns (18,27,29,31,40,44) have mixed types. Specify dtype option on import or set low_memory=False.\n",
      "  interactivity=interactivity, compiler=compiler, result=result)\n"
     ]
    }
   ],
   "source": [
    "plt.rcParams['figure.figsize'] = [20, 8]\n",
    "\n",
    "# Read tweets csv\n",
    "df = pd.read_csv(\"../../data/Tweets3WeeksLocations.csv\")\n",
    "\n",
    "# Drop all-null rows if any\n",
    "df.dropna(how='all', inplace=True)\n",
    "df.drop(columns=['Unnamed: 0'], inplace=True)"
   ]
  },
  {
   "cell_type": "code",
   "execution_count": 74,
   "metadata": {
    "ExecuteTime": {
     "end_time": "2019-03-27T20:30:08.306024Z",
     "start_time": "2019-03-27T20:29:54.210899Z"
    }
   },
   "outputs": [
    {
     "name": "stdout",
     "output_type": "stream",
     "text": [
      "Data from 2019-02-23 00:00:00 to 2019-03-19 00:00:00  & Number of days - 25\n"
     ]
    }
   ],
   "source": [
    "lead_days = 2\n",
    "days_window = 5\n",
    "\n",
    "labels = process_acled_csv(\"../../data/1900-01-01-2019-03-23-India.csv\", \n",
    "                           top_locations=-1, \n",
    "                           start=\"23-feb-2019\", \n",
    "                           end=\"19-mar-2019\",\n",
    "                          lead_days=lead_days,\n",
    "                          days_window = days_window)"
   ]
  },
  {
   "cell_type": "code",
   "execution_count": 76,
   "metadata": {
    "ExecuteTime": {
     "end_time": "2019-03-27T20:30:18.800064Z",
     "start_time": "2019-03-27T20:30:08.316048Z"
    }
   },
   "outputs": [
    {
     "name": "stdout",
     "output_type": "stream",
     "text": [
      "Dropping 1 rows!\n"
     ]
    }
   ],
   "source": [
    "clean = False\n",
    "if not clean:\n",
    "    df = clean_df(df)\n",
    "    clean = True"
   ]
  },
  {
   "cell_type": "code",
   "execution_count": 77,
   "metadata": {
    "ExecuteTime": {
     "end_time": "2019-03-27T20:30:18.853367Z",
     "start_time": "2019-03-27T20:30:18.802193Z"
    }
   },
   "outputs": [
    {
     "data": {
      "text/html": [
       "<div>\n",
       "<style scoped>\n",
       "    .dataframe tbody tr th:only-of-type {\n",
       "        vertical-align: middle;\n",
       "    }\n",
       "\n",
       "    .dataframe tbody tr th {\n",
       "        vertical-align: top;\n",
       "    }\n",
       "\n",
       "    .dataframe thead th {\n",
       "        text-align: right;\n",
       "    }\n",
       "</style>\n",
       "<table border=\"1\" class=\"dataframe\">\n",
       "  <thead>\n",
       "    <tr style=\"text-align: right;\">\n",
       "      <th></th>\n",
       "      <th>contributors</th>\n",
       "      <th>coordinates</th>\n",
       "      <th>created_at</th>\n",
       "      <th>display_text_range</th>\n",
       "      <th>entities</th>\n",
       "      <th>extended_entities</th>\n",
       "      <th>favorite_count</th>\n",
       "      <th>favorited</th>\n",
       "      <th>full_text</th>\n",
       "      <th>geo</th>\n",
       "      <th>...</th>\n",
       "      <th>userfriends_count</th>\n",
       "      <th>userlisted_count</th>\n",
       "      <th>userfavourites_count</th>\n",
       "      <th>userverified</th>\n",
       "      <th>userstatuses_count</th>\n",
       "      <th>userfollowing</th>\n",
       "      <th>userfollow_request_sent</th>\n",
       "      <th>usercontributors_enabled</th>\n",
       "      <th>extractedlocation</th>\n",
       "      <th>finallocation</th>\n",
       "    </tr>\n",
       "  </thead>\n",
       "  <tbody>\n",
       "    <tr>\n",
       "      <th>0</th>\n",
       "      <td>NaN</td>\n",
       "      <td>NaN</td>\n",
       "      <td>Tue Mar 05 04:05:13 +0000 2019</td>\n",
       "      <td>[26, 264]</td>\n",
       "      <td>{'hashtags': [{'text': 'Telangana', 'indices':...</td>\n",
       "      <td>NaN</td>\n",
       "      <td>3.0</td>\n",
       "      <td>False</td>\n",
       "      <td>@Tejaswini7 @picchapakodi Telangana voters iss...</td>\n",
       "      <td>NaN</td>\n",
       "      <td>...</td>\n",
       "      <td>1378.0</td>\n",
       "      <td>22.0</td>\n",
       "      <td>2757.0</td>\n",
       "      <td>False</td>\n",
       "      <td>4178.0</td>\n",
       "      <td>NaN</td>\n",
       "      <td>NaN</td>\n",
       "      <td>False</td>\n",
       "      <td>india, telangana</td>\n",
       "      <td>Hyderabad</td>\n",
       "    </tr>\n",
       "    <tr>\n",
       "      <th>1</th>\n",
       "      <td>NaN</td>\n",
       "      <td>NaN</td>\n",
       "      <td>Tue Mar 05 04:05:13 +0000 2019</td>\n",
       "      <td>[26, 264]</td>\n",
       "      <td>{'hashtags': [{'text': 'Telangana', 'indices':...</td>\n",
       "      <td>NaN</td>\n",
       "      <td>3.0</td>\n",
       "      <td>False</td>\n",
       "      <td>@Tejaswini7 @picchapakodi Telangana voters iss...</td>\n",
       "      <td>NaN</td>\n",
       "      <td>...</td>\n",
       "      <td>1378.0</td>\n",
       "      <td>22.0</td>\n",
       "      <td>2757.0</td>\n",
       "      <td>False</td>\n",
       "      <td>4178.0</td>\n",
       "      <td>NaN</td>\n",
       "      <td>NaN</td>\n",
       "      <td>False</td>\n",
       "      <td>india, telangana</td>\n",
       "      <td>India</td>\n",
       "    </tr>\n",
       "    <tr>\n",
       "      <th>2</th>\n",
       "      <td>NaN</td>\n",
       "      <td>NaN</td>\n",
       "      <td>Mon Mar 04 14:20:40 +0000 2019</td>\n",
       "      <td>[0, 277]</td>\n",
       "      <td>{'hashtags': [], 'symbols': [], 'user_mentions...</td>\n",
       "      <td>{'media': [{'id': 1102574234897924096, 'id_str...</td>\n",
       "      <td>3.0</td>\n",
       "      <td>False</td>\n",
       "      <td>This kind of Atrocities are being faced by BJP...</td>\n",
       "      <td>NaN</td>\n",
       "      <td>...</td>\n",
       "      <td>1540.0</td>\n",
       "      <td>9.0</td>\n",
       "      <td>10906.0</td>\n",
       "      <td>False</td>\n",
       "      <td>32019.0</td>\n",
       "      <td>NaN</td>\n",
       "      <td>NaN</td>\n",
       "      <td>False</td>\n",
       "      <td>west bengal</td>\n",
       "      <td>Kolkata</td>\n",
       "    </tr>\n",
       "    <tr>\n",
       "      <th>3</th>\n",
       "      <td>NaN</td>\n",
       "      <td>NaN</td>\n",
       "      <td>Mon Mar 04 17:56:29 +0000 2019</td>\n",
       "      <td>[0, 264]</td>\n",
       "      <td>{'hashtags': [], 'symbols': [], 'user_mentions...</td>\n",
       "      <td>{'media': [{'id': 1102628641668763650, 'id_str...</td>\n",
       "      <td>2.0</td>\n",
       "      <td>False</td>\n",
       "      <td>Pro-Naxal Forum Takes Out Anti-war Rally in Ko...</td>\n",
       "      <td>NaN</td>\n",
       "      <td>...</td>\n",
       "      <td>4.0</td>\n",
       "      <td>35.0</td>\n",
       "      <td>45.0</td>\n",
       "      <td>False</td>\n",
       "      <td>17589.0</td>\n",
       "      <td>NaN</td>\n",
       "      <td>NaN</td>\n",
       "      <td>False</td>\n",
       "      <td>kolkata, west bengal</td>\n",
       "      <td>Kolkata</td>\n",
       "    </tr>\n",
       "    <tr>\n",
       "      <th>4</th>\n",
       "      <td>NaN</td>\n",
       "      <td>NaN</td>\n",
       "      <td>Mon Mar 04 06:42:10 +0000 2019</td>\n",
       "      <td>[0, 123]</td>\n",
       "      <td>{'hashtags': [], 'symbols': [], 'user_mentions...</td>\n",
       "      <td>NaN</td>\n",
       "      <td>0.0</td>\n",
       "      <td>False</td>\n",
       "      <td>West Bengal police baton-charges BJP workers t...</td>\n",
       "      <td>NaN</td>\n",
       "      <td>...</td>\n",
       "      <td>747.0</td>\n",
       "      <td>2.0</td>\n",
       "      <td>0.0</td>\n",
       "      <td>False</td>\n",
       "      <td>10009.0</td>\n",
       "      <td>NaN</td>\n",
       "      <td>NaN</td>\n",
       "      <td>False</td>\n",
       "      <td>west bengal</td>\n",
       "      <td>Kolkata</td>\n",
       "    </tr>\n",
       "  </tbody>\n",
       "</table>\n",
       "<p>5 rows × 46 columns</p>\n",
       "</div>"
      ],
      "text/plain": [
       "   contributors coordinates                      created_at  \\\n",
       "0           NaN         NaN  Tue Mar 05 04:05:13 +0000 2019   \n",
       "1           NaN         NaN  Tue Mar 05 04:05:13 +0000 2019   \n",
       "2           NaN         NaN  Mon Mar 04 14:20:40 +0000 2019   \n",
       "3           NaN         NaN  Mon Mar 04 17:56:29 +0000 2019   \n",
       "4           NaN         NaN  Mon Mar 04 06:42:10 +0000 2019   \n",
       "\n",
       "  display_text_range                                           entities  \\\n",
       "0          [26, 264]  {'hashtags': [{'text': 'Telangana', 'indices':...   \n",
       "1          [26, 264]  {'hashtags': [{'text': 'Telangana', 'indices':...   \n",
       "2           [0, 277]  {'hashtags': [], 'symbols': [], 'user_mentions...   \n",
       "3           [0, 264]  {'hashtags': [], 'symbols': [], 'user_mentions...   \n",
       "4           [0, 123]  {'hashtags': [], 'symbols': [], 'user_mentions...   \n",
       "\n",
       "                                   extended_entities  favorite_count  \\\n",
       "0                                                NaN             3.0   \n",
       "1                                                NaN             3.0   \n",
       "2  {'media': [{'id': 1102574234897924096, 'id_str...             3.0   \n",
       "3  {'media': [{'id': 1102628641668763650, 'id_str...             2.0   \n",
       "4                                                NaN             0.0   \n",
       "\n",
       "   favorited                                          full_text  geo  \\\n",
       "0      False  @Tejaswini7 @picchapakodi Telangana voters iss...  NaN   \n",
       "1      False  @Tejaswini7 @picchapakodi Telangana voters iss...  NaN   \n",
       "2      False  This kind of Atrocities are being faced by BJP...  NaN   \n",
       "3      False  Pro-Naxal Forum Takes Out Anti-war Rally in Ko...  NaN   \n",
       "4      False  West Bengal police baton-charges BJP workers t...  NaN   \n",
       "\n",
       "       ...       userfriends_count  userlisted_count userfavourites_count  \\\n",
       "0      ...                  1378.0              22.0               2757.0   \n",
       "1      ...                  1378.0              22.0               2757.0   \n",
       "2      ...                  1540.0               9.0              10906.0   \n",
       "3      ...                     4.0              35.0                 45.0   \n",
       "4      ...                   747.0               2.0                  0.0   \n",
       "\n",
       "   userverified  userstatuses_count  userfollowing  userfollow_request_sent  \\\n",
       "0         False              4178.0            NaN                      NaN   \n",
       "1         False              4178.0            NaN                      NaN   \n",
       "2         False             32019.0            NaN                      NaN   \n",
       "3         False             17589.0            NaN                      NaN   \n",
       "4         False             10009.0            NaN                      NaN   \n",
       "\n",
       "  usercontributors_enabled     extractedlocation finallocation  \n",
       "0                    False      india, telangana     Hyderabad  \n",
       "1                    False      india, telangana         India  \n",
       "2                    False           west bengal       Kolkata  \n",
       "3                    False  kolkata, west bengal       Kolkata  \n",
       "4                    False           west bengal       Kolkata  \n",
       "\n",
       "[5 rows x 46 columns]"
      ]
     },
     "execution_count": 77,
     "metadata": {},
     "output_type": "execute_result"
    }
   ],
   "source": [
    "df.head(5)"
   ]
  },
  {
   "cell_type": "code",
   "execution_count": 78,
   "metadata": {
    "ExecuteTime": {
     "end_time": "2019-03-27T20:30:37.329376Z",
     "start_time": "2019-03-27T20:30:18.860684Z"
    }
   },
   "outputs": [],
   "source": [
    "df = get_tweet_sentiment(df)"
   ]
  },
  {
   "cell_type": "code",
   "execution_count": 79,
   "metadata": {
    "ExecuteTime": {
     "end_time": "2019-03-27T20:30:37.516880Z",
     "start_time": "2019-03-27T20:30:37.331424Z"
    }
   },
   "outputs": [
    {
     "data": {
      "image/png": "[encoded data removed]",
      "text/plain": [
       "<Figure size 1440x576 with 1 Axes>"
      ]
     },
     "metadata": {},
     "output_type": "display_data"
    }
   ],
   "source": [
    "plot_counter(df['lang'], num_elements=10, xlabel=\"Language\", ylabel=\"Number of Tweets\", title=\"Language Distribution\")"
   ]
  },
  {
   "cell_type": "code",
   "execution_count": 80,
   "metadata": {
    "ExecuteTime": {
     "end_time": "2019-03-27T20:30:45.095915Z",
     "start_time": "2019-03-27T20:30:37.518986Z"
    }
   },
   "outputs": [],
   "source": [
    "df['created_at'] = pd.to_datetime(df['created_at'])\n",
    "# Sort by time created\n",
    "df.sort_values(by=['created_at'], inplace=True)"
   ]
  },
  {
   "cell_type": "code",
   "execution_count": 81,
   "metadata": {
    "ExecuteTime": {
     "end_time": "2019-03-27T20:30:47.867558Z",
     "start_time": "2019-03-27T20:30:45.098060Z"
    },
    "scrolled": true
   },
   "outputs": [
    {
     "name": "stdout",
     "output_type": "stream",
     "text": [
      "2019-02-23 05:35:52 2019-03-19 23:52:51\n",
      "Bathinda\n",
      "Chandigarh\n",
      "Ludhiana\n",
      "Amritsar\n"
     ]
    },
    {
     "name": "stderr",
     "output_type": "stream",
     "text": [
      "/Users/ateendraramesh/Desktop/CSE635/Election-Violence-Prediction/notebooks/doc_utils.py:83: SettingWithCopyWarning: \n",
      "A value is trying to be set on a copy of a slice from a DataFrame.\n",
      "Try using .loc[row_indexer,col_indexer] = value instead\n",
      "\n",
      "See the caveats in the documentation: http://pandas.pydata.org/pandas-docs/stable/indexing.html#indexing-view-versus-copy\n",
      "  df['date'] = dates\n"
     ]
    },
    {
     "name": "stdout",
     "output_type": "stream",
     "text": [
      "Jalandhar\n",
      "Patiala\n",
      "Sangrur\n",
      "Bengaluru\n",
      "Delhi-New Delhi\n",
      "Karnal\n",
      "Gurgaon\n",
      "India\n",
      "Thiruvananthapuram\n",
      "Dehradun\n",
      "Lucknow\n",
      "Pulwama\n",
      "Hyderabad\n",
      "Kolkata\n",
      "Ahmedabad\n",
      "Guwahati\n",
      "Chennai\n",
      "Tiruchirappalli\n",
      "Coimbatore\n",
      "Madurai\n",
      "Salem\n",
      "Puducherry\n",
      "Imphal\n",
      "Agartala\n",
      "Jammu\n",
      "Ranchi\n",
      "Shimla\n",
      "Patna\n",
      "Jaipur\n",
      "Srinagar\n"
     ]
    }
   ],
   "source": [
    "start_date, end_date = df.iloc[0]['created_at'], df.iloc[-1]['created_at']\n",
    "print(start_date, end_date)\n",
    "\n",
    "location_date_dict = interleave_location_and_date(df, start_date, end_date)"
   ]
  },
  {
   "cell_type": "markdown",
   "metadata": {},
   "source": [
    "### Current Features\n",
    "   * Number of tweets each day\n",
    "   * Average pos, neg, neu and compound features\n",
    "   * Tweet count with neg sentiment\n",
    "\n",
    "### TODO\n",
    "   * Hate speech\n",
    "   * Violent speech"
   ]
  },
  {
   "cell_type": "code",
   "execution_count": 82,
   "metadata": {
    "ExecuteTime": {
     "end_time": "2019-03-27T20:30:47.875432Z",
     "start_time": "2019-03-27T20:30:47.869331Z"
    },
    "code_folding": []
   },
   "outputs": [],
   "source": [
    "def get_features(date_dict):\n",
    "    \"\"\"\n",
    "    Input: date_dict to compute features for each date\n",
    "    Returns: Features for each date\n",
    "    \"\"\"\n",
    "    features = []\n",
    "    for date in date_dict:\n",
    "        feature_row = []\n",
    "        tweets = date_dict[date]\n",
    "        if tweets is None:\n",
    "            feature_row = [0] * 6\n",
    "        else:\n",
    "            feature_row.append(len(tweets))\n",
    "            mean = tweets.mean()\n",
    "\n",
    "            feature_row.extend([mean['pos'], mean['neg'], mean['neu'], mean['compound']])\n",
    "            feature_row.append(len(tweets[tweets['neg'] > 0]))\n",
    "\n",
    "        features.append(feature_row)\n",
    "    return features"
   ]
  },
  {
   "cell_type": "code",
   "execution_count": 83,
   "metadata": {
    "ExecuteTime": {
     "end_time": "2019-03-27T20:31:59.399015Z",
     "start_time": "2019-03-27T20:30:47.877604Z"
    }
   },
   "outputs": [
    {
     "name": "stdout",
     "output_type": "stream",
     "text": [
      "Bathinda done\n",
      "Chandigarh done\n",
      "Ludhiana done\n",
      "Amritsar done\n",
      "Jalandhar done\n",
      "Patiala done\n",
      "Sangrur done\n",
      "Bengaluru done\n",
      "Delhi-New Delhi done\n",
      "Karnal done\n",
      "Gurgaon done\n",
      "India done\n",
      "Thiruvananthapuram done\n",
      "Dehradun done\n",
      "Lucknow done\n",
      "Pulwama done\n",
      "Hyderabad done\n",
      "Kolkata done\n",
      "Ahmedabad done\n",
      "Guwahati done\n",
      "Chennai done\n",
      "Tiruchirappalli done\n",
      "Coimbatore done\n",
      "Madurai done\n",
      "Salem done\n",
      "Puducherry done\n",
      "Imphal done\n",
      "Agartala done\n",
      "Jammu done\n",
      "Ranchi done\n",
      "Shimla done\n",
      "Patna done\n",
      "Jaipur done\n",
      "Srinagar done\n"
     ]
    }
   ],
   "source": [
    "location_features_dict = {}\n",
    "for location in location_date_dict:\n",
    "    location_features_dict[location] = get_features(location_date_dict[location])\n",
    "    print(location, \"done\")"
   ]
  },
  {
   "cell_type": "code",
   "execution_count": 96,
   "metadata": {
    "ExecuteTime": {
     "end_time": "2019-03-27T20:40:03.688874Z",
     "start_time": "2019-03-27T20:40:03.670450Z"
    }
   },
   "outputs": [],
   "source": [
    "def make_predictions(location_features_dict, labels, model=None, permute=False):\n",
    "    \"\"\"\n",
    "    Input - \n",
    "            location_features_dict - The dict mapping from location to features\n",
    "            labels - Label dict generated from process_acled_csv(..)\n",
    "            model - Specific sklearn model to evaluate/benchmark performance\n",
    "            permute - Permute the data before train-test split\n",
    "    Returns - None\n",
    "    \n",
    "    TODO - Integrate with nlp_utils.py\n",
    "    \"\"\"\n",
    "    # Table for presenting on tabulate\n",
    "    result_table = []\n",
    "    \n",
    "    # Suppress warnings for divide-by-zero error\n",
    "    warnings.filterwarnings(\"ignore\")\n",
    "    \n",
    "    # Compute intersection for locations present on both dicts\n",
    "    common_locations = set(location_features_dict.keys()) & set(labels.keys())\n",
    "    \n",
    "    # Sorted for clarity\n",
    "    common_locations = sorted(list(common_locations))\n",
    "    \n",
    "    for common_location in common_locations:\n",
    "        # Get data and labels\n",
    "        X, y = location_features_dict[common_location], labels[common_location]\n",
    "        X, y = np.array(X), np.array(y)\n",
    "\n",
    "        # Eliminate last days to match labels.shape\n",
    "        X = X[:-(lead_days + days_window)]\n",
    "\n",
    "        # Permute randomly if specified\n",
    "        if permute:\n",
    "            p = np.random.permutation(len(X))\n",
    "            X, y = X[p], y[p]\n",
    "\n",
    "        # Split data into train & test - 75% & 25%\n",
    "        split = int(0.75 * len(X))\n",
    "        xtrain, ytrain = X[:split], y[:split]\n",
    "        xtest, ytest = X[split:], y[split:]\n",
    "        \n",
    "        # Default model\n",
    "        if model is None:\n",
    "            model = ExtraTreesClassifier(n_estimators=100)\n",
    "\n",
    "        # Fit the train data\n",
    "        model.fit(xtrain, ytrain)\n",
    "    \n",
    "        # Make predictions\n",
    "        ypred = model.predict(xtest)\n",
    "            \n",
    "        # Compute metrics\n",
    "        train_acc = model.score(xtrain, ytrain)\n",
    "        test_acc = model.score(xtest, ytest)\n",
    "        precision = precision_score(ytest, ypred)\n",
    "        recall = recall_score(ytest, ypred)\n",
    "        f1 = f1_score(ytest, ypred)\n",
    "\n",
    "        # Add row to result_table\n",
    "        result_row = [common_location,\n",
    "                      np.round(train_acc, 2), np.round(test_acc, 2),\n",
    "                      np.round(precision, 2), np.round(recall, 2),\n",
    "                      np.round(f1, 2)]\n",
    "        result_table.append(result_row)\n",
    "\n",
    "    # Average stats\n",
    "    # Turns out median is kind of useless\n",
    "    result_table_copy = (np.array(result_table)[:, 1:]).astype(np.float32)\n",
    "    averages = np.round(np.mean(result_table_copy, axis=0), 2)\n",
    "    \n",
    "    # Add them to the existing result table\n",
    "    result_table.append([\"Average\"] + averages.tolist())\n",
    "    \n",
    "    print(tabulate(result_table,\n",
    "               [\"Location\", \"Train Accuracy\", \"Test Accuracy\",\n",
    "                   \"Precision\", \"Recall\", \"F1 Score\"],\n",
    "               tablefmt=\"fancy_grid\",\n",
    "               stralign=\"center\"))\n",
    "\n",
    "    \n",
    "    # Unsuppress warning\n",
    "    warnings.filterwarnings(\"default\")"
   ]
  },
  {
   "cell_type": "code",
   "execution_count": 97,
   "metadata": {
    "ExecuteTime": {
     "end_time": "2019-03-27T20:40:07.003735Z",
     "start_time": "2019-03-27T20:40:04.180777Z"
    }
   },
   "outputs": [
    {
     "name": "stdout",
     "output_type": "stream",
     "text": [
      "╒════════════════════╤══════════════════╤═════════════════╤═════════════╤══════════╤════════════╕\n",
      "│      Location      │   Train Accuracy │   Test Accuracy │   Precision │   Recall │   F1 Score │\n",
      "╞════════════════════╪══════════════════╪═════════════════╪═════════════╪══════════╪════════════╡\n",
      "│      Agartala      │             1    │            0.4  │        0.4  │     1    │       0.57 │\n",
      "├────────────────────┼──────────────────┼─────────────────┼─────────────┼──────────┼────────────┤\n",
      "│     Ahmedabad      │             1    │            0.6  │        0    │     0    │       0    │\n",
      "├────────────────────┼──────────────────┼─────────────────┼─────────────┼──────────┼────────────┤\n",
      "│      Amritsar      │             1    │            1    │        1    │     1    │       1    │\n",
      "├────────────────────┼──────────────────┼─────────────────┼─────────────┼──────────┼────────────┤\n",
      "│      Bathinda      │             1    │            1    │        1    │     1    │       1    │\n",
      "├────────────────────┼──────────────────┼─────────────────┼─────────────┼──────────┼────────────┤\n",
      "│     Bengaluru      │             1    │            1    │        1    │     1    │       1    │\n",
      "├────────────────────┼──────────────────┼─────────────────┼─────────────┼──────────┼────────────┤\n",
      "│     Chandigarh     │             1    │            1    │        1    │     1    │       1    │\n",
      "├────────────────────┼──────────────────┼─────────────────┼─────────────┼──────────┼────────────┤\n",
      "│      Chennai       │             1    │            1    │        1    │     1    │       1    │\n",
      "├────────────────────┼──────────────────┼─────────────────┼─────────────┼──────────┼────────────┤\n",
      "│     Coimbatore     │             1    │            1    │        1    │     1    │       1    │\n",
      "├────────────────────┼──────────────────┼─────────────────┼─────────────┼──────────┼────────────┤\n",
      "│      Dehradun      │             1    │            0    │        0    │     0    │       0    │\n",
      "├────────────────────┼──────────────────┼─────────────────┼─────────────┼──────────┼────────────┤\n",
      "│  Delhi-New Delhi   │             1    │            1    │        1    │     1    │       1    │\n",
      "├────────────────────┼──────────────────┼─────────────────┼─────────────┼──────────┼────────────┤\n",
      "│      Gurgaon       │             1    │            1    │        0    │     0    │       0    │\n",
      "├────────────────────┼──────────────────┼─────────────────┼─────────────┼──────────┼────────────┤\n",
      "│      Guwahati      │             1    │            1    │        1    │     1    │       1    │\n",
      "├────────────────────┼──────────────────┼─────────────────┼─────────────┼──────────┼────────────┤\n",
      "│     Hyderabad      │             1    │            1    │        1    │     1    │       1    │\n",
      "├────────────────────┼──────────────────┼─────────────────┼─────────────┼──────────┼────────────┤\n",
      "│       Imphal       │             1    │            0.4  │        0.4  │     1    │       0.57 │\n",
      "├────────────────────┼──────────────────┼─────────────────┼─────────────┼──────────┼────────────┤\n",
      "│       Jaipur       │             0.92 │            1    │        0    │     0    │       0    │\n",
      "├────────────────────┼──────────────────┼─────────────────┼─────────────┼──────────┼────────────┤\n",
      "│     Jalandhar      │             1    │            0.6  │        1    │     0.6  │       0.75 │\n",
      "├────────────────────┼──────────────────┼─────────────────┼─────────────┼──────────┼────────────┤\n",
      "│       Jammu        │             1    │            1    │        1    │     1    │       1    │\n",
      "├────────────────────┼──────────────────┼─────────────────┼─────────────┼──────────┼────────────┤\n",
      "│       Karnal       │             1    │            0.6  │        0    │     0    │       0    │\n",
      "├────────────────────┼──────────────────┼─────────────────┼─────────────┼──────────┼────────────┤\n",
      "│      Kolkata       │             1    │            1    │        1    │     1    │       1    │\n",
      "├────────────────────┼──────────────────┼─────────────────┼─────────────┼──────────┼────────────┤\n",
      "│      Lucknow       │             1    │            0.4  │        0.25 │     1    │       0.4  │\n",
      "├────────────────────┼──────────────────┼─────────────────┼─────────────┼──────────┼────────────┤\n",
      "│      Ludhiana      │             1    │            1    │        1    │     1    │       1    │\n",
      "├────────────────────┼──────────────────┼─────────────────┼─────────────┼──────────┼────────────┤\n",
      "│      Madurai       │             1    │            1    │        1    │     1    │       1    │\n",
      "├────────────────────┼──────────────────┼─────────────────┼─────────────┼──────────┼────────────┤\n",
      "│      Patiala       │             1    │            1    │        1    │     1    │       1    │\n",
      "├────────────────────┼──────────────────┼─────────────────┼─────────────┼──────────┼────────────┤\n",
      "│       Patna        │             0.85 │            0.4  │        0    │     0    │       0    │\n",
      "├────────────────────┼──────────────────┼─────────────────┼─────────────┼──────────┼────────────┤\n",
      "│     Puducherry     │             1    │            1    │        1    │     1    │       1    │\n",
      "├────────────────────┼──────────────────┼─────────────────┼─────────────┼──────────┼────────────┤\n",
      "│      Pulwama       │             1    │            0.6  │        0    │     0    │       0    │\n",
      "├────────────────────┼──────────────────┼─────────────────┼─────────────┼──────────┼────────────┤\n",
      "│       Ranchi       │             0.77 │            0    │        0    │     0    │       0    │\n",
      "├────────────────────┼──────────────────┼─────────────────┼─────────────┼──────────┼────────────┤\n",
      "│       Salem        │             1    │            1    │        1    │     1    │       1    │\n",
      "├────────────────────┼──────────────────┼─────────────────┼─────────────┼──────────┼────────────┤\n",
      "│      Sangrur       │             1    │            1    │        1    │     1    │       1    │\n",
      "├────────────────────┼──────────────────┼─────────────────┼─────────────┼──────────┼────────────┤\n",
      "│       Shimla       │             0.69 │            0.6  │        0    │     0    │       0    │\n",
      "├────────────────────┼──────────────────┼─────────────────┼─────────────┼──────────┼────────────┤\n",
      "│      Srinagar      │             1    │            1    │        1    │     1    │       1    │\n",
      "├────────────────────┼──────────────────┼─────────────────┼─────────────┼──────────┼────────────┤\n",
      "│ Thiruvananthapuram │             1    │            0.4  │        0.4  │     1    │       0.57 │\n",
      "├────────────────────┼──────────────────┼─────────────────┼─────────────┼──────────┼────────────┤\n",
      "│  Tiruchirappalli   │             1    │            0.8  │        0.8  │     1    │       0.89 │\n",
      "├────────────────────┼──────────────────┼─────────────────┼─────────────┼──────────┼────────────┤\n",
      "│      Average       │             0.98 │            0.78 │        0.64 │     0.72 │       0.66 │\n",
      "╘════════════════════╧══════════════════╧═════════════════╧═════════════╧══════════╧════════════╛\n"
     ]
    }
   ],
   "source": [
    "make_predictions(location_features_dict, labels)"
   ]
  },
  {
   "cell_type": "code",
   "execution_count": null,
   "metadata": {},
   "outputs": [],
   "source": []
  }
 ],
 "metadata": {
  "kernelspec": {
   "display_name": "Python 3",
   "language": "python",
   "name": "python3"
  },
  "language_info": {
   "codemirror_mode": {
    "name": "ipython",
    "version": 3
   },
   "file_extension": ".py",
   "mimetype": "text/x-python",
   "name": "python",
   "nbconvert_exporter": "python",
   "pygments_lexer": "ipython3",
   "version": "3.6.5"
  }
 },
 "nbformat": 4,
 "nbformat_minor": 2
}
