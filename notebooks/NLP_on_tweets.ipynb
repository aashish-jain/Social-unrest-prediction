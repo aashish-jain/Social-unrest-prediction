{
 "cells": [
  {
   "cell_type": "code",
   "execution_count": 15,
   "metadata": {
    "ExecuteTime": {
     "end_time": "2019-03-21T16:03:06.871277Z",
     "start_time": "2019-03-21T16:03:03.545428Z"
    }
   },
   "outputs": [
    {
     "name": "stdout",
     "output_type": "stream",
     "text": [
      "Collecting vaderSentiment\n",
      "\u001b[?25l  Downloading https://files.pythonhosted.org/packages/86/9e/c53e1fc61aac5ee490a6ac5e21b1ac04e55a7c2aba647bb8411c9aadf24e/vaderSentiment-3.2.1-py2.py3-none-any.whl (125kB)\n",
      "\u001b[K    100% |████████████████████████████████| 133kB 4.5MB/s ta 0:00:01\n",
      "\u001b[?25hInstalling collected packages: vaderSentiment\n",
      "Successfully installed vaderSentiment-3.2.1\n"
     ]
    }
   ],
   "source": [
    "!pip install vaderSentiment"
   ]
  },
  {
   "cell_type": "code",
   "execution_count": 78,
   "metadata": {
    "ExecuteTime": {
     "end_time": "2019-03-21T18:59:06.108954Z",
     "start_time": "2019-03-21T18:59:06.104422Z"
    },
    "run_control": {
     "marked": false
    }
   },
   "outputs": [],
   "source": [
    "import textblob\n",
    "import numpy as np\n",
    "import pandas as pd\n",
    "import matplotlib.pyplot as plt\n",
    "from collections import Counter\n",
    "from vaderSentiment.vaderSentiment import SentimentIntensityAnalyzer\n",
    "plt.rcParams['figure.figsize'] = [20, 20]"
   ]
  },
  {
   "cell_type": "code",
   "execution_count": 151,
   "metadata": {
    "ExecuteTime": {
     "end_time": "2019-03-21T19:50:06.853467Z",
     "start_time": "2019-03-21T19:50:05.818302Z"
    },
    "run_control": {
     "marked": false
    }
   },
   "outputs": [
    {
     "name": "stderr",
     "output_type": "stream",
     "text": [
      "/Users/ateendraramesh/anaconda3/lib/python3.6/site-packages/IPython/core/interactiveshell.py:2785: DtypeWarning: Columns (0,8,18,23,24,26,27,29,31,40,44) have mixed types. Specify dtype option on import or set low_memory=False.\n",
      "  interactivity=interactivity, compiler=compiler, result=result)\n"
     ]
    }
   ],
   "source": [
    "plt.rcParams['figure.figsize'] = [20, 20]\n",
    "\n",
    "# Read tweets csv\n",
    "df = pd.read_csv(\"../../data/Tweets3Weeks.csv\")\n",
    "\n",
    "# Drop all-null rows if any\n",
    "df.dropna(how='all', inplace=True)\n",
    "df.drop(columns=['Unnamed: 0'], inplace=True)"
   ]
  },
  {
   "cell_type": "code",
   "execution_count": 152,
   "metadata": {
    "ExecuteTime": {
     "end_time": "2019-03-21T19:50:06.876300Z",
     "start_time": "2019-03-21T19:50:06.857940Z"
    },
    "code_folding": []
   },
   "outputs": [],
   "source": [
    "# Vader sentiment\n",
    "vader = SentimentIntensityAnalyzer()"
   ]
  },
  {
   "cell_type": "code",
   "execution_count": 173,
   "metadata": {
    "ExecuteTime": {
     "end_time": "2019-03-21T19:57:22.804564Z",
     "start_time": "2019-03-21T19:57:22.798047Z"
    }
   },
   "outputs": [],
   "source": [
    "def clean_df(df):\n",
    "    \"\"\"\n",
    "    Input: A df of tweets\n",
    "    Returns: A df that cleans the input \n",
    "             df and returns it.\n",
    "    \"\"\"\n",
    "    rows_to_drop = []\n",
    "    for i in range(len(df)):\n",
    "        curr_row = df.iloc[i]\n",
    "        if (pd.isna(curr_row['full_text'])) or pd.isna(curr_row['created_at']) or not str(curr_row['created_at']).endswith(\"2019\"):\n",
    "            rows_to_drop.append(i)\n",
    "    print (\"Dropping\", len(rows_to_drop), \"rows!\")\n",
    "    if len(rows_to_drop) == 0:\n",
    "        return df\n",
    "    return df.drop(rows_to_drop)\n",
    "        \n",
    "def add_sentiment_to_df(df):\n",
    "    # Sentiment values\n",
    "    neg, pos, neu, compound = [], [], [], []\n",
    "    \n",
    "    # Failed entries for debugging laters\n",
    "    failed = []\n",
    "    for i, text in enumerate(df['full_text']):\n",
    "        try:\n",
    "            sentiment_dict = vader.polarity_scores(text)\n",
    "            neg.append(sentiment_dict['neg'])\n",
    "            neu.append(sentiment_dict['neu'])\n",
    "            pos.append(sentiment_dict['pos'])\n",
    "            compound.append(sentiment_dict['compound'])     \n",
    "        except:\n",
    "            failed.append(i)\n",
    "    assert(len(failed) == 0)\n",
    "    df['neg'] = neg\n",
    "    df['neu'] = neu\n",
    "    df['pos'] = pos\n",
    "    df['compound'] = compound\n",
    "    return df"
   ]
  },
  {
   "cell_type": "code",
   "execution_count": 174,
   "metadata": {
    "ExecuteTime": {
     "end_time": "2019-03-21T19:57:41.681883Z",
     "start_time": "2019-03-21T19:57:23.580152Z"
    }
   },
   "outputs": [
    {
     "name": "stdout",
     "output_type": "stream",
     "text": [
      "Dropping 0 rows!\n"
     ]
    }
   ],
   "source": [
    "df = clean_df(df)\n",
    "df = add_sentiment_to_df(df)"
   ]
  },
  {
   "cell_type": "code",
   "execution_count": 175,
   "metadata": {
    "ExecuteTime": {
     "end_time": "2019-03-21T19:57:45.251341Z",
     "start_time": "2019-03-21T19:57:44.933653Z"
    }
   },
   "outputs": [
    {
     "data": {
      "image/png": "[encoded data removed]",
      "text/plain": [
       "<Figure size 1440x1440 with 1 Axes>"
      ]
     },
     "metadata": {},
     "output_type": "display_data"
    }
   ],
   "source": [
    "lang_count = Counter(df['lang'])\n",
    "del lang_count['<a href=\"http://twitter.com/download/android\" rel=\"nofollow\">Twitter for Android</a>']\n",
    "lang_count = sorted(lang_count.items(), key=lambda x: -x[1])\n",
    "\n",
    "counter = np.array(lang_count)[:10]\n",
    "places, counts = counter[:, 0].tolist(), counter[:, 1].astype(np.float32)\n",
    "indices = np.arange(len(counts))\n",
    "width = 1\n",
    "\n",
    "plt.xlabel(\"Language\")\n",
    "plt.ylabel(\"Number of articles\")\n",
    "plt.interactive(True)\n",
    "\n",
    "plt.xticks(indices, places)\n",
    "plt.title(\"Languages and # of Tweets\")\n",
    "_ = plt.bar(indices, counts, 0.5)"
   ]
  },
  {
   "cell_type": "code",
   "execution_count": 179,
   "metadata": {
    "ExecuteTime": {
     "end_time": "2019-03-21T19:59:19.310545Z",
     "start_time": "2019-03-21T19:59:19.275406Z"
    }
   },
   "outputs": [],
   "source": [
    "df['created_at'] = pd.to_datetime(df['created_at'])\n",
    "# Sort by time created\n",
    "df.sort_values(by=['created_at'], inplace=True)"
   ]
  },
  {
   "cell_type": "code",
   "execution_count": 180,
   "metadata": {
    "ExecuteTime": {
     "end_time": "2019-03-21T19:59:25.558369Z",
     "start_time": "2019-03-21T19:59:25.529233Z"
    }
   },
   "outputs": [
    {
     "data": {
      "text/html": [
       "<div>\n",
       "<style scoped>\n",
       "    .dataframe tbody tr th:only-of-type {\n",
       "        vertical-align: middle;\n",
       "    }\n",
       "\n",
       "    .dataframe tbody tr th {\n",
       "        vertical-align: top;\n",
       "    }\n",
       "\n",
       "    .dataframe thead th {\n",
       "        text-align: right;\n",
       "    }\n",
       "</style>\n",
       "<table border=\"1\" class=\"dataframe\">\n",
       "  <thead>\n",
       "    <tr style=\"text-align: right;\">\n",
       "      <th></th>\n",
       "      <th>contributors</th>\n",
       "      <th>coordinates</th>\n",
       "      <th>created_at</th>\n",
       "      <th>display_text_range</th>\n",
       "      <th>entities</th>\n",
       "      <th>extended_entities</th>\n",
       "      <th>favorite_count</th>\n",
       "      <th>favorited</th>\n",
       "      <th>full_text</th>\n",
       "      <th>geo</th>\n",
       "      <th>...</th>\n",
       "      <th>userfavourites_count</th>\n",
       "      <th>userverified</th>\n",
       "      <th>userstatuses_count</th>\n",
       "      <th>userfollowing</th>\n",
       "      <th>userfollow_request_sent</th>\n",
       "      <th>usercontributors_enabled</th>\n",
       "      <th>neg</th>\n",
       "      <th>neu</th>\n",
       "      <th>pos</th>\n",
       "      <th>compound</th>\n",
       "    </tr>\n",
       "  </thead>\n",
       "  <tbody>\n",
       "    <tr>\n",
       "      <th>8468</th>\n",
       "      <td>NaN</td>\n",
       "      <td>NaN</td>\n",
       "      <td>2019-02-23 05:35:52</td>\n",
       "      <td>[14, 184]</td>\n",
       "      <td>{'hashtags': [], 'symbols': [], 'user_mentions...</td>\n",
       "      <td>NaN</td>\n",
       "      <td>1.0</td>\n",
       "      <td>False</td>\n",
       "      <td>@OmarAbdullah Fake news . You are just spreadi...</td>\n",
       "      <td>NaN</td>\n",
       "      <td>...</td>\n",
       "      <td>12185.0</td>\n",
       "      <td>False</td>\n",
       "      <td>14069.0</td>\n",
       "      <td>NaN</td>\n",
       "      <td>NaN</td>\n",
       "      <td>False</td>\n",
       "      <td>0.187</td>\n",
       "      <td>0.813</td>\n",
       "      <td>0.000</td>\n",
       "      <td>-0.7351</td>\n",
       "    </tr>\n",
       "    <tr>\n",
       "      <th>8456</th>\n",
       "      <td>NaN</td>\n",
       "      <td>NaN</td>\n",
       "      <td>2019-02-23 05:45:40</td>\n",
       "      <td>[0, 247]</td>\n",
       "      <td>{'hashtags': [], 'symbols': [], 'user_mentions...</td>\n",
       "      <td>{'media': [{'id': 1099183468586532865, 'id_str...</td>\n",
       "      <td>1.0</td>\n",
       "      <td>False</td>\n",
       "      <td>We had a fruitful discussion on 06.02.2019 wit...</td>\n",
       "      <td>NaN</td>\n",
       "      <td>...</td>\n",
       "      <td>15.0</td>\n",
       "      <td>False</td>\n",
       "      <td>301.0</td>\n",
       "      <td>NaN</td>\n",
       "      <td>NaN</td>\n",
       "      <td>False</td>\n",
       "      <td>0.000</td>\n",
       "      <td>1.000</td>\n",
       "      <td>0.000</td>\n",
       "      <td>0.0000</td>\n",
       "    </tr>\n",
       "    <tr>\n",
       "      <th>8481</th>\n",
       "      <td>NaN</td>\n",
       "      <td>NaN</td>\n",
       "      <td>2019-02-23 06:23:47</td>\n",
       "      <td>[0, 209]</td>\n",
       "      <td>{'hashtags': [], 'symbols': [], 'user_mentions...</td>\n",
       "      <td>{'media': [{'id': 1099193063925149696, 'id_str...</td>\n",
       "      <td>2.0</td>\n",
       "      <td>False</td>\n",
       "      <td>Haryana ki janta college ki pure India ko safa...</td>\n",
       "      <td>NaN</td>\n",
       "      <td>...</td>\n",
       "      <td>144.0</td>\n",
       "      <td>False</td>\n",
       "      <td>151.0</td>\n",
       "      <td>NaN</td>\n",
       "      <td>NaN</td>\n",
       "      <td>False</td>\n",
       "      <td>0.000</td>\n",
       "      <td>1.000</td>\n",
       "      <td>0.000</td>\n",
       "      <td>0.0000</td>\n",
       "    </tr>\n",
       "    <tr>\n",
       "      <th>822</th>\n",
       "      <td>NaN</td>\n",
       "      <td>NaN</td>\n",
       "      <td>2019-02-23 06:33:16</td>\n",
       "      <td>[0, 272]</td>\n",
       "      <td>{'hashtags': [], 'symbols': [], 'user_mentions...</td>\n",
       "      <td>NaN</td>\n",
       "      <td>1.0</td>\n",
       "      <td>False</td>\n",
       "      <td>250 castes under the OBC category along with m...</td>\n",
       "      <td>NaN</td>\n",
       "      <td>...</td>\n",
       "      <td>87.0</td>\n",
       "      <td>True</td>\n",
       "      <td>37800.0</td>\n",
       "      <td>NaN</td>\n",
       "      <td>NaN</td>\n",
       "      <td>False</td>\n",
       "      <td>0.081</td>\n",
       "      <td>0.832</td>\n",
       "      <td>0.087</td>\n",
       "      <td>0.0772</td>\n",
       "    </tr>\n",
       "    <tr>\n",
       "      <th>8449</th>\n",
       "      <td>NaN</td>\n",
       "      <td>NaN</td>\n",
       "      <td>2019-02-23 06:33:16</td>\n",
       "      <td>[0, 272]</td>\n",
       "      <td>{'hashtags': [], 'symbols': [], 'user_mentions...</td>\n",
       "      <td>NaN</td>\n",
       "      <td>1.0</td>\n",
       "      <td>False</td>\n",
       "      <td>250 castes under the OBC category along with m...</td>\n",
       "      <td>NaN</td>\n",
       "      <td>...</td>\n",
       "      <td>87.0</td>\n",
       "      <td>True</td>\n",
       "      <td>37800.0</td>\n",
       "      <td>NaN</td>\n",
       "      <td>NaN</td>\n",
       "      <td>False</td>\n",
       "      <td>0.081</td>\n",
       "      <td>0.832</td>\n",
       "      <td>0.087</td>\n",
       "      <td>0.0772</td>\n",
       "    </tr>\n",
       "  </tbody>\n",
       "</table>\n",
       "<p>5 rows × 48 columns</p>\n",
       "</div>"
      ],
      "text/plain": [
       "      contributors coordinates          created_at display_text_range  \\\n",
       "8468           NaN         NaN 2019-02-23 05:35:52          [14, 184]   \n",
       "8456           NaN         NaN 2019-02-23 05:45:40           [0, 247]   \n",
       "8481           NaN         NaN 2019-02-23 06:23:47           [0, 209]   \n",
       "822            NaN         NaN 2019-02-23 06:33:16           [0, 272]   \n",
       "8449           NaN         NaN 2019-02-23 06:33:16           [0, 272]   \n",
       "\n",
       "                                               entities  \\\n",
       "8468  {'hashtags': [], 'symbols': [], 'user_mentions...   \n",
       "8456  {'hashtags': [], 'symbols': [], 'user_mentions...   \n",
       "8481  {'hashtags': [], 'symbols': [], 'user_mentions...   \n",
       "822   {'hashtags': [], 'symbols': [], 'user_mentions...   \n",
       "8449  {'hashtags': [], 'symbols': [], 'user_mentions...   \n",
       "\n",
       "                                      extended_entities  favorite_count  \\\n",
       "8468                                                NaN             1.0   \n",
       "8456  {'media': [{'id': 1099183468586532865, 'id_str...             1.0   \n",
       "8481  {'media': [{'id': 1099193063925149696, 'id_str...             2.0   \n",
       "822                                                 NaN             1.0   \n",
       "8449                                                NaN             1.0   \n",
       "\n",
       "     favorited                                          full_text  geo  \\\n",
       "8468     False  @OmarAbdullah Fake news . You are just spreadi...  NaN   \n",
       "8456     False  We had a fruitful discussion on 06.02.2019 wit...  NaN   \n",
       "8481     False  Haryana ki janta college ki pure India ko safa...  NaN   \n",
       "822      False  250 castes under the OBC category along with m...  NaN   \n",
       "8449     False  250 castes under the OBC category along with m...  NaN   \n",
       "\n",
       "       ...     userfavourites_count  userverified userstatuses_count  \\\n",
       "8468   ...                  12185.0         False            14069.0   \n",
       "8456   ...                     15.0         False              301.0   \n",
       "8481   ...                    144.0         False              151.0   \n",
       "822    ...                     87.0          True            37800.0   \n",
       "8449   ...                     87.0          True            37800.0   \n",
       "\n",
       "      userfollowing  userfollow_request_sent  usercontributors_enabled    neg  \\\n",
       "8468            NaN                      NaN                     False  0.187   \n",
       "8456            NaN                      NaN                     False  0.000   \n",
       "8481            NaN                      NaN                     False  0.000   \n",
       "822             NaN                      NaN                     False  0.081   \n",
       "8449            NaN                      NaN                     False  0.081   \n",
       "\n",
       "        neu    pos compound  \n",
       "8468  0.813  0.000  -0.7351  \n",
       "8456  1.000  0.000   0.0000  \n",
       "8481  1.000  0.000   0.0000  \n",
       "822   0.832  0.087   0.0772  \n",
       "8449  0.832  0.087   0.0772  \n",
       "\n",
       "[5 rows x 48 columns]"
      ]
     },
     "execution_count": 180,
     "metadata": {},
     "output_type": "execute_result"
    }
   ],
   "source": [
    "df.head(5)"
   ]
  },
  {
   "cell_type": "code",
   "execution_count": null,
   "metadata": {},
   "outputs": [],
   "source": []
  }
 ],
 "metadata": {
  "kernelspec": {
   "display_name": "Python 3",
   "language": "python",
   "name": "python3"
  },
  "language_info": {
   "codemirror_mode": {
    "name": "ipython",
    "version": 3
   },
   "file_extension": ".py",
   "mimetype": "text/x-python",
   "name": "python",
   "nbconvert_exporter": "python",
   "pygments_lexer": "ipython3",
   "version": "3.6.5"
  }
 },
 "nbformat": 4,
 "nbformat_minor": 2
}
