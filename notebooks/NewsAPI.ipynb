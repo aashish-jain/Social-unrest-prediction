{
 "cells": [
  {
   "cell_type": "code",
   "execution_count": 1,
   "metadata": {
    "ExecuteTime": {
     "end_time": "2019-03-20T22:09:47.393273Z",
     "start_time": "2019-03-20T22:09:47.388541Z"
    },
    "code_folding": []
   },
   "outputs": [],
   "source": [
    "# Run this code once \n",
    "# !pip install newsapi-python newspaper3l"
   ]
  },
  {
   "cell_type": "code",
   "execution_count": 2,
   "metadata": {
    "ExecuteTime": {
     "end_time": "2019-03-20T22:09:48.064138Z",
     "start_time": "2019-03-20T22:09:47.669957Z"
    }
   },
   "outputs": [],
   "source": [
    "from newsapi import NewsApiClient\n",
    "from newspaper import Article\n",
    "import credentials\n",
    "import pickle\n",
    "from tqdm import tqdm_notebook as tqdm"
   ]
  },
  {
   "cell_type": "code",
   "execution_count": 3,
   "metadata": {
    "ExecuteTime": {
     "end_time": "2019-03-20T22:09:48.072641Z",
     "start_time": "2019-03-20T22:09:48.066573Z"
    }
   },
   "outputs": [],
   "source": [
    "keywords = ['riot','riots','clash','clashed','clashes','violence', 'violent','election', 'elections', 'politician', 'politics', 'government', 'policy', 'rule', 'law', 'policies', 'rule', 'killed', 'kill', 'demonstration','India','Indonesia','Thailand', 'threatened', 'hate']\n",
    "sources = ['the-hindu', 'google-news-in', 'the-times-of-india']"
   ]
  },
  {
   "cell_type": "code",
   "execution_count": 4,
   "metadata": {
    "ExecuteTime": {
     "end_time": "2019-03-20T22:09:49.885666Z",
     "start_time": "2019-03-20T22:09:49.879838Z"
    }
   },
   "outputs": [],
   "source": [
    "def getArticle(url, return_text_only = True):\n",
    "    article = Article(url)\n",
    "    article.download()\n",
    "    article.parse()\n",
    "    if return_text_only:\n",
    "        return article.text\n",
    "    return article"
   ]
  },
  {
   "cell_type": "code",
   "execution_count": 5,
   "metadata": {
    "ExecuteTime": {
     "end_time": "2019-03-20T22:09:50.992160Z",
     "start_time": "2019-03-20T22:09:50.988150Z"
    }
   },
   "outputs": [],
   "source": [
    "newsapi = NewsApiClient(credentials.retrieve_credential('news_api','aashish'))"
   ]
  },
  {
   "cell_type": "code",
   "execution_count": 6,
   "metadata": {
    "ExecuteTime": {
     "end_time": "2019-03-20T22:09:51.635374Z",
     "start_time": "2019-03-20T22:09:51.633203Z"
    }
   },
   "outputs": [],
   "source": [
    "dataset = []"
   ]
  },
  {
   "cell_type": "code",
   "execution_count": null,
   "metadata": {
    "ExecuteTime": {
     "end_time": "2019-03-20T21:44:15.912714Z",
     "start_time": "2019-03-20T21:43:19.304387Z"
    }
   },
   "outputs": [],
   "source": [
    "per_page = 100\n",
    "max_pages_allowed = 11\n",
    "for k in keywords:\n",
    "    query_result = newsapi.get_everything(q = k, page_size=per_page, from_param='2019-02-21', sort_by='publishedAt', sources=','.join(sources), page = 1)\n",
    "    dataset.append(query_result)\n",
    "    print('looking up for ', k, 'found = ', query_result['totalResults'])\n",
    "    for n in range(2, min(query_result['totalResults']//100 + 1, max_pages_allowed)):\n",
    "        print('fetching page = ', n)\n",
    "        query_result = newsapi.get_everything(q = k, page_size=per_page, from_param='2019-02-21', sort_by='publishedAt', sources=','.join(sources), page = n)\n",
    "        dataset.append(query_result)\n",
    "    print('Done')"
   ]
  },
  {
   "cell_type": "code",
   "execution_count": null,
   "metadata": {
    "ExecuteTime": {
     "end_time": "2019-03-20T21:45:44.761717Z",
     "start_time": "2019-03-20T21:45:44.707539Z"
    }
   },
   "outputs": [],
   "source": [
    "# pickle.dump(dataset, open('captured_news_dump.csv','wb'))"
   ]
  },
  {
   "cell_type": "code",
   "execution_count": 7,
   "metadata": {
    "ExecuteTime": {
     "end_time": "2019-03-20T22:10:11.346073Z",
     "start_time": "2019-03-20T22:10:11.285610Z"
    }
   },
   "outputs": [],
   "source": [
    "dataset = pickle.load(open('captured_news_dump.csv','rb'))"
   ]
  },
  {
   "cell_type": "code",
   "execution_count": 8,
   "metadata": {
    "ExecuteTime": {
     "end_time": "2019-03-20T22:10:12.868607Z",
     "start_time": "2019-03-20T22:10:12.866049Z"
    }
   },
   "outputs": [],
   "source": [
    "new_dataset = []"
   ]
  },
  {
   "cell_type": "code",
   "execution_count": 12,
   "metadata": {
    "ExecuteTime": {
     "end_time": "2019-03-20T22:11:44.863577Z",
     "start_time": "2019-03-20T22:11:44.857588Z"
    }
   },
   "outputs": [],
   "source": [
    "for n in range(len(dataset)):\n",
    "    new_dataset.extend(dataset[n]['articles'])"
   ]
  },
  {
   "cell_type": "code",
   "execution_count": 13,
   "metadata": {
    "ExecuteTime": {
     "end_time": "2019-03-20T22:12:43.923333Z",
     "start_time": "2019-03-20T22:12:43.859781Z"
    }
   },
   "outputs": [],
   "source": [
    "# pickle.dump(new_dataset, open('list_of_articles.pkl','wb'))"
   ]
  },
  {
   "cell_type": "code",
   "execution_count": 11,
   "metadata": {
    "ExecuteTime": {
     "end_time": "2019-03-20T22:11:28.801638Z",
     "start_time": "2019-03-20T22:11:09.841365Z"
    }
   },
   "outputs": [
    {
     "data": {
      "application/vnd.jupyter.widget-view+json": {
       "model_id": "b329716d4bd449a1be032f8f8247d4b5",
       "version_major": 2,
       "version_minor": 0
      },
      "text/plain": [
       "HBox(children=(IntProgress(value=0, max=25), HTML(value='')))"
      ]
     },
     "metadata": {},
     "output_type": "display_data"
    },
    {
     "name": "stdout",
     "output_type": "stream",
     "text": [
      "\n",
      "13 ['https://www.thehindu.com/sport/cricket/excited-by-the-thought-of-playing-in-world-cup-yuzvendra-chahal/article26583260.ece', 'https://www.thehindu.com/news/top-news-of-the-day-new-goa-cm-pramod-sawant-seeks-floor-test-tomorrow-several-feared-trapped-in-dharwad-building-collapse-and-more/article26580316.ece', 'https://www.thehindu.com/news/national/no-riots-in-up-since-bjp-came-to-power-cm-adityanath/article26576608.ece', 'https://www.thehindu.com/opinion/interview/ups-law-and-order-has-become-a-model-for-the-country/article26571575.ece', 'https://www.thehindu.com/society/history-and-culture/the-nawabs-played-holi/article26567896.ece', 'https://www.thehindu.com/elections/lok-sabha-2019/modi-has-no-concern-for-the-poor-oppressed-farmers-ajit-singh/article26561218.ece', 'https://www.thehindu.com/news/national/tamil-nadu/case-booked-against-stalins-son-in-law/article26538070.ece', 'https://www.thehindu.com/society/history-and-culture/seeking-to-protect-the-tradition/article26531965.ece', 'https://www.thehindu.com/sport/football/a-1-0-win-in-the-second-leg-not-enough-for-mumbai-city-as-fc-goa-progresses/article26515057.ece', 'https://www.thehindu.com/news/cities/Madurai/commission-inquiry-resumes-thoothukudi/article26513577.ece', 'https://www.thehindu.com/news/international/more-blackouts-hit-venezuela-as-opposition-government-rally/article26486078.ece', 'https://www.thehindu.com/news/national/kerala/constitution-is-supreme-and-above-all-the-customs-and-beliefs-kerala-cm-pinarayi-vijayan/article26459728.ece', 'https://www.thehindu.com/thread/sports/no-hopers-to-conquerors-when-sri-lanka-set-the-rainbow-nation-alight-in-whites/article26455598.ece']\n"
     ]
    }
   ],
   "source": [
    "error = 0\n",
    "error_urls = []\n",
    "for i in tqdm(range(len(new_dataset[:25]))):\n",
    "    try:\n",
    "        new_dataset[i]['content'] = getArticle(new_dataset[i]['url'])\n",
    "    except:\n",
    "        error+=1\n",
    "        error_urls.append(new_dataset[i]['url'])\n",
    "print(error, error_urls)"
   ]
  },
  {
   "cell_type": "code",
   "execution_count": null,
   "metadata": {
    "ExecuteTime": {
     "end_time": "2019-03-20T21:58:14.628771Z",
     "start_time": "2019-03-20T21:58:14.620261Z"
    }
   },
   "outputs": [],
   "source": [
    "new_dataset[0]"
   ]
  },
  {
   "cell_type": "code",
   "execution_count": null,
   "metadata": {},
   "outputs": [],
   "source": []
  }
 ],
 "metadata": {
  "kernelspec": {
   "display_name": "Python 3",
   "language": "python",
   "name": "python3"
  },
  "language_info": {
   "codemirror_mode": {
    "name": "ipython",
    "version": 3
   },
   "file_extension": ".py",
   "mimetype": "text/x-python",
   "name": "python",
   "nbconvert_exporter": "python",
   "pygments_lexer": "ipython3",
   "version": "3.6.8"
  }
 },
 "nbformat": 4,
 "nbformat_minor": 2
}
