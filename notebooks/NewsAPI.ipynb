{
 "cells": [
  {
   "cell_type": "code",
   "execution_count": 1,
   "metadata": {
    "ExecuteTime": {
     "end_time": "2019-03-20T23:13:24.232210Z",
     "start_time": "2019-03-20T23:13:24.229643Z"
    },
    "code_folding": []
   },
   "outputs": [],
   "source": [
    "# Run this code once \n",
    "# !pip install newsapi-python newspaper3l"
   ]
  },
  {
   "cell_type": "code",
   "execution_count": 2,
   "metadata": {
    "ExecuteTime": {
     "end_time": "2019-03-20T23:13:24.974237Z",
     "start_time": "2019-03-20T23:13:24.596904Z"
    }
   },
   "outputs": [],
   "source": [
    "from newsapi import NewsApiClient\n",
    "from newspaper import Article\n",
    "import credentials\n",
    "import pickle\n",
    "from tqdm import tqdm_notebook as tqdm\n",
    "from multiprocessing import Pool, cpu_count\n",
    "from sys import getsizeof"
   ]
  },
  {
   "cell_type": "code",
   "execution_count": 3,
   "metadata": {
    "ExecuteTime": {
     "end_time": "2019-03-20T23:13:35.437838Z",
     "start_time": "2019-03-20T23:13:35.433006Z"
    }
   },
   "outputs": [],
   "source": [
    "keywords = ['riot','riots','clash','clashed','clashes','violence', 'violent','election', 'elections', 'politician', 'politics', 'government', 'policy', 'rule', 'law', 'policies', 'rule', 'killed', 'kill', 'demonstration','India','Indonesia','Thailand', 'threatened', 'hate']\n",
    "sources = ['the-hindu', 'google-news-in', 'the-times-of-india']"
   ]
  },
  {
   "cell_type": "code",
   "execution_count": 4,
   "metadata": {
    "ExecuteTime": {
     "end_time": "2019-03-20T23:13:35.486409Z",
     "start_time": "2019-03-20T23:13:35.483689Z"
    }
   },
   "outputs": [],
   "source": [
    "def getArticle(url, return_text_only = True):\n",
    "    article = Article(url)\n",
    "    article.download()\n",
    "    article.parse()\n",
    "    if return_text_only:\n",
    "        return article.text\n",
    "    return article"
   ]
  },
  {
   "cell_type": "code",
   "execution_count": 5,
   "metadata": {
    "ExecuteTime": {
     "end_time": "2019-03-20T23:14:00.376956Z",
     "start_time": "2019-03-20T23:14:00.292693Z"
    }
   },
   "outputs": [],
   "source": [
    "dataset = []\n",
    "try:\n",
    "    dataset = pickle.load(open('captured_news_dump.csv','rb'))\n",
    "except:\n",
    "    newsapi = NewsApiClient(credentials.retrieve_credential('news_api','aashish'))\n",
    "    per_page = 100\n",
    "    max_pages_allowed = 11\n",
    "    for k in keywords:\n",
    "        query_result = newsapi.get_everything(q = k, page_size=per_page, from_param='2019-02-21', sort_by='publishedAt', sources=','.join(sources), page = 1)\n",
    "        dataset.append(query_result)\n",
    "        print('looking up for ', k, 'found = ', query_result['totalResults'])\n",
    "        for n in range(2, min(query_result['totalResults']//100 + 1, max_pages_allowed)):\n",
    "            print('fetching page = ', n)\n",
    "            query_result = newsapi.get_everything(q = k, page_size=per_page, from_param='2019-02-21', sort_by='publishedAt', sources=','.join(sources), page = n)\n",
    "            dataset.append(query_result)\n",
    "        print('Done')\n",
    "    pickle.dump(dataset, open('captured_news_dump.csv','wb'))"
   ]
  },
  {
   "cell_type": "code",
   "execution_count": 6,
   "metadata": {
    "ExecuteTime": {
     "end_time": "2019-03-20T23:14:00.831814Z",
     "start_time": "2019-03-20T23:14:00.829088Z"
    }
   },
   "outputs": [],
   "source": [
    "new_dataset = []"
   ]
  },
  {
   "cell_type": "code",
   "execution_count": 7,
   "metadata": {
    "ExecuteTime": {
     "end_time": "2019-03-20T23:14:01.676596Z",
     "start_time": "2019-03-20T23:14:01.673465Z"
    }
   },
   "outputs": [],
   "source": [
    "for n in range(len(dataset)):\n",
    "    new_dataset.extend(dataset[n]['articles'])"
   ]
  },
  {
   "cell_type": "code",
   "execution_count": 8,
   "metadata": {
    "ExecuteTime": {
     "end_time": "2019-03-20T23:14:19.768460Z",
     "start_time": "2019-03-20T23:14:19.756627Z"
    }
   },
   "outputs": [],
   "source": [
    "without_hindu = []\n",
    "for n in range(len(new_dataset)):\n",
    "    if 'hindu' in new_dataset[n]['url']:\n",
    "        continue\n",
    "    without_hindu.append(new_dataset[n])"
   ]
  },
  {
   "cell_type": "code",
   "execution_count": 9,
   "metadata": {
    "ExecuteTime": {
     "end_time": "2019-03-20T23:14:20.227098Z",
     "start_time": "2019-03-20T23:14:20.224356Z"
    }
   },
   "outputs": [],
   "source": [
    "del new_dataset, dataset"
   ]
  },
  {
   "cell_type": "code",
   "execution_count": 10,
   "metadata": {
    "ExecuteTime": {
     "end_time": "2019-03-20T23:14:20.892577Z",
     "start_time": "2019-03-20T23:14:20.878048Z"
    }
   },
   "outputs": [
    {
     "data": {
      "text/plain": [
       "7513"
      ]
     },
     "execution_count": 10,
     "metadata": {},
     "output_type": "execute_result"
    }
   ],
   "source": [
    "len(without_hindu)"
   ]
  },
  {
   "cell_type": "code",
   "execution_count": 11,
   "metadata": {
    "ExecuteTime": {
     "end_time": "2019-03-20T23:14:24.715698Z",
     "start_time": "2019-03-20T23:14:24.711564Z"
    }
   },
   "outputs": [],
   "source": [
    "# pickle.dump(new_dataset, open('list_of_articles.pkl','wb'))"
   ]
  },
  {
   "cell_type": "code",
   "execution_count": 12,
   "metadata": {
    "ExecuteTime": {
     "end_time": "2019-03-20T23:34:04.433181Z",
     "start_time": "2019-03-20T23:14:26.492751Z"
    }
   },
   "outputs": [
    {
     "data": {
      "application/vnd.jupyter.widget-view+json": {
       "model_id": "f476cf424b7741a8ae206689df51b943",
       "version_major": 2,
       "version_minor": 0
      },
      "text/plain": [
       "HBox(children=(IntProgress(value=0, max=7513), HTML(value='')))"
      ]
     },
     "metadata": {},
     "output_type": "display_data"
    },
    {
     "name": "stdout",
     "output_type": "stream",
     "text": [
      "\n"
     ]
    }
   ],
   "source": [
    "def fetch_news(article):\n",
    "    try:\n",
    "        article['content'] = getArticle(article['url'])\n",
    "        article['fetched'] = True\n",
    "    except:\n",
    "        pass\n",
    "    return article\n",
    "    \n",
    "nums = 30000\n",
    "full_news = []\n",
    "with Pool(cpu_count()) as p:\n",
    "#           r = list(tqdm(p.imap(_foo, range(30)), total=30))\n",
    "    full_news = list(tqdm(p.imap(fetch_news, without_hindu), total=len(without_hindu)))"
   ]
  },
  {
   "cell_type": "code",
   "execution_count": 13,
   "metadata": {
    "ExecuteTime": {
     "end_time": "2019-03-20T23:34:06.945771Z",
     "start_time": "2019-03-20T23:34:04.435714Z"
    }
   },
   "outputs": [],
   "source": [
    "!say \"Hey, Aashish. It's Done\""
   ]
  },
  {
   "cell_type": "code",
   "execution_count": 14,
   "metadata": {
    "ExecuteTime": {
     "end_time": "2019-03-20T23:34:06.962455Z",
     "start_time": "2019-03-20T23:34:06.952244Z"
    }
   },
   "outputs": [
    {
     "data": {
      "text/plain": [
       "67728"
      ]
     },
     "execution_count": 14,
     "metadata": {},
     "output_type": "execute_result"
    }
   ],
   "source": [
    "getsizeof(full_news)"
   ]
  },
  {
   "cell_type": "code",
   "execution_count": 17,
   "metadata": {
    "ExecuteTime": {
     "end_time": "2019-03-20T23:35:18.618608Z",
     "start_time": "2019-03-20T23:35:18.511932Z"
    }
   },
   "outputs": [],
   "source": [
    "# pickle.dump(full_news, open('news_with_content.pkl','wb'))"
   ]
  },
  {
   "cell_type": "code",
   "execution_count": null,
   "metadata": {},
   "outputs": [],
   "source": []
  }
 ],
 "metadata": {
  "kernelspec": {
   "display_name": "Python 3",
   "language": "python",
   "name": "python3"
  },
  "language_info": {
   "codemirror_mode": {
    "name": "ipython",
    "version": 3
   },
   "file_extension": ".py",
   "mimetype": "text/x-python",
   "name": "python",
   "nbconvert_exporter": "python",
   "pygments_lexer": "ipython3",
   "version": "3.6.8"
  }
 },
 "nbformat": 4,
 "nbformat_minor": 2
}
