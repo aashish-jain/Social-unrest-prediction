{
 "cells": [
  {
   "cell_type": "code",
   "execution_count": null,
   "metadata": {
    "ExecuteTime": {
     "end_time": "2019-03-20T22:09:47.393273Z",
     "start_time": "2019-03-20T22:09:47.388541Z"
    },
    "code_folding": []
   },
   "outputs": [],
   "source": [
    "# Run this code once \n",
    "# !pip install newsapi-python newspaper3l"
   ]
  },
  {
   "cell_type": "code",
   "execution_count": 22,
   "metadata": {
    "ExecuteTime": {
     "end_time": "2019-03-20T22:40:09.522703Z",
     "start_time": "2019-03-20T22:40:09.518579Z"
    }
   },
   "outputs": [],
   "source": [
    "from newsapi import NewsApiClient\n",
    "from newspaper import Article\n",
    "import credentials\n",
    "import pickle\n",
    "from tqdm import tqdm_notebook as tqdm\n",
    "from multiprocessing import Pool, cpu_count"
   ]
  },
  {
   "cell_type": "code",
   "execution_count": 2,
   "metadata": {
    "ExecuteTime": {
     "end_time": "2019-03-20T22:27:23.238761Z",
     "start_time": "2019-03-20T22:27:23.233611Z"
    }
   },
   "outputs": [],
   "source": [
    "keywords = ['riot','riots','clash','clashed','clashes','violence', 'violent','election', 'elections', 'politician', 'politics', 'government', 'policy', 'rule', 'law', 'policies', 'rule', 'killed', 'kill', 'demonstration','India','Indonesia','Thailand', 'threatened', 'hate']\n",
    "sources = ['the-hindu', 'google-news-in', 'the-times-of-india']"
   ]
  },
  {
   "cell_type": "code",
   "execution_count": 3,
   "metadata": {
    "ExecuteTime": {
     "end_time": "2019-03-20T22:27:23.593369Z",
     "start_time": "2019-03-20T22:27:23.590331Z"
    }
   },
   "outputs": [],
   "source": [
    "def getArticle(url, return_text_only = True):\n",
    "    article = Article(url)\n",
    "    article.download()\n",
    "    article.parse()\n",
    "    if return_text_only:\n",
    "        return article.text\n",
    "    return article"
   ]
  },
  {
   "cell_type": "code",
   "execution_count": 4,
   "metadata": {
    "ExecuteTime": {
     "end_time": "2019-03-20T22:27:24.078504Z",
     "start_time": "2019-03-20T22:27:23.987643Z"
    }
   },
   "outputs": [],
   "source": [
    "dataset = []\n",
    "try:\n",
    "    dataset = pickle.load(open('captured_news_dump.csv','rb'))\n",
    "except:\n",
    "    newsapi = NewsApiClient(credentials.retrieve_credential('news_api','aashish'))\n",
    "    per_page = 100\n",
    "    max_pages_allowed = 11\n",
    "    for k in keywords:\n",
    "        query_result = newsapi.get_everything(q = k, page_size=per_page, from_param='2019-02-21', sort_by='publishedAt', sources=','.join(sources), page = 1)\n",
    "        dataset.append(query_result)\n",
    "        print('looking up for ', k, 'found = ', query_result['totalResults'])\n",
    "        for n in range(2, min(query_result['totalResults']//100 + 1, max_pages_allowed)):\n",
    "            print('fetching page = ', n)\n",
    "            query_result = newsapi.get_everything(q = k, page_size=per_page, from_param='2019-02-21', sort_by='publishedAt', sources=','.join(sources), page = n)\n",
    "            dataset.append(query_result)\n",
    "        print('Done')\n",
    "    pickle.dump(dataset, open('captured_news_dump.csv','wb'))"
   ]
  },
  {
   "cell_type": "code",
   "execution_count": 5,
   "metadata": {
    "ExecuteTime": {
     "end_time": "2019-03-20T22:27:24.633993Z",
     "start_time": "2019-03-20T22:27:24.631926Z"
    }
   },
   "outputs": [],
   "source": [
    "new_dataset = []"
   ]
  },
  {
   "cell_type": "code",
   "execution_count": 6,
   "metadata": {
    "ExecuteTime": {
     "end_time": "2019-03-20T22:27:27.196993Z",
     "start_time": "2019-03-20T22:27:27.191993Z"
    }
   },
   "outputs": [],
   "source": [
    "for n in range(len(dataset)):\n",
    "    new_dataset.extend(dataset[n]['articles'])"
   ]
  },
  {
   "cell_type": "code",
   "execution_count": 7,
   "metadata": {
    "ExecuteTime": {
     "end_time": "2019-03-20T22:27:39.996648Z",
     "start_time": "2019-03-20T22:27:39.988397Z"
    }
   },
   "outputs": [],
   "source": [
    "without_hindu = []\n",
    "for n in range(len(new_dataset)):\n",
    "    if 'hindu' in new_dataset[n]['url']:\n",
    "        continue\n",
    "    without_hindu.append(new_dataset[n])"
   ]
  },
  {
   "cell_type": "code",
   "execution_count": 8,
   "metadata": {
    "ExecuteTime": {
     "end_time": "2019-03-20T22:27:40.843699Z",
     "start_time": "2019-03-20T22:27:40.829724Z"
    }
   },
   "outputs": [
    {
     "data": {
      "text/plain": [
       "7513"
      ]
     },
     "execution_count": 8,
     "metadata": {},
     "output_type": "execute_result"
    }
   ],
   "source": [
    "len(without_hindu)"
   ]
  },
  {
   "cell_type": "code",
   "execution_count": null,
   "metadata": {
    "ExecuteTime": {
     "end_time": "2019-03-20T22:23:29.353706Z",
     "start_time": "2019-03-20T22:23:29.351574Z"
    }
   },
   "outputs": [],
   "source": [
    "# pickle.dump(new_dataset, open('list_of_articles.pkl','wb'))"
   ]
  },
  {
   "cell_type": "code",
   "execution_count": null,
   "metadata": {
    "ExecuteTime": {
     "start_time": "2019-03-20T22:40:58.313Z"
    }
   },
   "outputs": [
    {
     "data": {
      "application/vnd.jupyter.widget-view+json": {
       "model_id": "3bdac76e01c447f5ab3dcc547f81452a",
       "version_major": 2,
       "version_minor": 0
      },
      "text/plain": [
       "HBox(children=(IntProgress(value=0, max=7513), HTML(value='')))"
      ]
     },
     "metadata": {},
     "output_type": "display_data"
    }
   ],
   "source": [
    "def fetch_news(article):\n",
    "    try:\n",
    "        article['content'] = getArticle(article['url'])\n",
    "        article['fetched'] = True\n",
    "    except:\n",
    "        pass\n",
    "    \n",
    "nums = 30000\n",
    "full_news = []\n",
    "with Pool(cpu_count()) as p:\n",
    "#           r = list(tqdm(p.imap(_foo, range(30)), total=30))\n",
    "    full_news = list(tqdm(p.imap(fetch_news, without_hindu), total=len(without_hindu)))"
   ]
  },
  {
   "cell_type": "code",
   "execution_count": null,
   "metadata": {
    "ExecuteTime": {
     "start_time": "2019-03-20T22:23:36.745Z"
    }
   },
   "outputs": [],
   "source": [
    "for i in tqdm(range(len(without_hindu))):\n",
    "    try:\n",
    "        without_hindu[i]['content'] = getArticle(without_hindu[i]['url'])\n",
    "    except:\n",
    "        error+=1\n",
    "        error_urls.append(without_hindu[i]['url'])\n",
    "print(error)"
   ]
  },
  {
   "cell_type": "code",
   "execution_count": null,
   "metadata": {
    "ExecuteTime": {
     "end_time": "2019-03-20T21:58:14.628771Z",
     "start_time": "2019-03-20T21:58:14.620261Z"
    }
   },
   "outputs": [],
   "source": [
    "new_dataset[0]"
   ]
  },
  {
   "cell_type": "code",
   "execution_count": null,
   "metadata": {},
   "outputs": [],
   "source": []
  }
 ],
 "metadata": {
  "kernelspec": {
   "display_name": "Python 3",
   "language": "python",
   "name": "python3"
  },
  "language_info": {
   "codemirror_mode": {
    "name": "ipython",
    "version": 3
   },
   "file_extension": ".py",
   "mimetype": "text/x-python",
   "name": "python",
   "nbconvert_exporter": "python",
   "pygments_lexer": "ipython3",
   "version": "3.6.8"
  }
 },
 "nbformat": 4,
 "nbformat_minor": 2
}
