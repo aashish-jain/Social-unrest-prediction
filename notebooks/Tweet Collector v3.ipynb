{
 "cells": [
  {
   "cell_type": "code",
   "execution_count": null,
   "metadata": {},
   "outputs": [],
   "source": [
    "from twython import Twython\n",
    "import pandas as pd\n",
    "import numpy as np\n",
    "import datetime as dt\n",
    "import time"
   ]
  },
  {
   "cell_type": "code",
   "execution_count": null,
   "metadata": {},
   "outputs": [],
   "source": [
    "APP_KEY = 'OumzA854PAnWwA8VNjwZ6O1T1'\n",
    "APP_SECRET = \"aHWN7hVHFYGTJIqLG6d1sUgT2tzelmB7LNxtQjJz0RkmLDIFGW\"\n",
    "\n",
    "twitter = Twython(APP_KEY, APP_SECRET, oauth_version=2)\n",
    "ACCESS_TOKEN = twitter.obtain_access_token()"
   ]
  },
  {
   "cell_type": "code",
   "execution_count": null,
   "metadata": {},
   "outputs": [],
   "source": [
    "twitter = Twython(APP_KEY, access_token=ACCESS_TOKEN)"
   ]
  },
  {
   "cell_type": "code",
   "execution_count": null,
   "metadata": {},
   "outputs": [],
   "source": [
    "locationsTemp=[\"chennai\",\"delhi\",\"india\",\"ahmedabad\",\"gujarat\",\"tamil\",\"jammu\",\"srinagar\",\"imphal\",\"lucknow\",\n",
    "                \"bengaluru\",\"bangalore\",\"bathinda\",\"chandigarh\",\"ludhiana\",\"amritsar\",\"punjab\",\"arunachal\",\"assam\",\n",
    "                \"kolkata\",\"westbengal\",\"kerala\",\"karnataka\",\"andhra\",\"telangana\",\"hyderabad\",\"madhya\",\"uttar\",\n",
    "                \"maharashtra\",\"haryana\",'Jammu','Srinagar','Delhi-NewDelhi','Bathinda','Dehradun','Chandigarh',\n",
    "                'Ludhiana','Amritsar','Imphal','Lucknow','Jalandhar','Kolkata','Guwahati','Chennai','Patiala',\n",
    "                'Bhubaneswar','Bengaluru','Patna','Jaipur','Coimbatore','Hyderabad','Ranchi','Thiruvananthapuram',\n",
    "                'Shimla','Sangrur','Ahmedabad','Karnal','Pulwama','Puducherry','Gurgaon','Agartala','Madurai',\n",
    "                'Tiruchirappalli','Bangkok','Salem']\n",
    "\n",
    "locations = set()\n",
    "for location in locationsTemp:\n",
    "    locations.add(location.lower())\n",
    "locations = pd.DataFrame(list(locations))\n",
    "locations.columns = [\"Locations\"]\n",
    "locations.to_csv(\"Locations of Interest.csv\")"
   ]
  },
  {
   "cell_type": "code",
   "execution_count": null,
   "metadata": {},
   "outputs": [],
   "source": [
    "keywords = ['protest','protests','riot','riots','violence','unrest','clash','bandh','issue','rally','demonstration','election','polls','attac']\n",
    "keywords = pd.DataFrame(keywords)\n",
    "keywords.columns = [\"Keywords\"]\n",
    "keywords.to_csv(\"Keywords.csv\")"
   ]
  },
  {
   "cell_type": "code",
   "execution_count": null,
   "metadata": {},
   "outputs": [],
   "source": [
    "locations = pd.read_csv(\"Locations of Interest.csv\", index_col=0)\n",
    "keywords = pd.read_csv(\"Keywords.csv\", index_col=0)"
   ]
  },
  {
   "cell_type": "code",
   "execution_count": null,
   "metadata": {},
   "outputs": [],
   "source": [
    "keywordsQuery = ''.join(map(str, [keyword+\" OR \" for keyword in list(keywords['Keywords'])]))[:-4]\n",
    "locationsQuery = ''.join(map(str, [location+\" OR \" for location in list(locations['Locations'])]))[:-4]"
   ]
  },
  {
   "cell_type": "code",
   "execution_count": null,
   "metadata": {},
   "outputs": [],
   "source": [
    "locationQueries = []\n",
    "locationsLength = 512 - len(keywordsQuery) - 1\n",
    "\n",
    "if locationsLength > 0:\n",
    "    \n",
    "    while (locationsQuery[locationsLength] not in ['O','R',' ']):\n",
    "        locationsLength=locationsLength-1\n",
    "    locationsLength+=1\n",
    "    locationQueries.append(locationsQuery[locationsLength:])\n",
    "    locationsLength-=1\n",
    "    while (locationsQuery[locationsLength] in ['O','R',' ']):\n",
    "        locationsLength=locationsLength-1\n",
    "    locationsLength+=1\n",
    "    locationQueries.append(locationsQuery[:locationsLength])"
   ]
  },
  {
   "cell_type": "code",
   "execution_count": null,
   "metadata": {},
   "outputs": [],
   "source": [
    "index = 1\n",
    "date = dt.datetime.now()\n",
    "for locationQuery in locationQueries:\n",
    "    tweets = twitter.cursor(twitter.search, q=keywordsQuery + locationQuery + ' -filter:retweets', count=100, tweet_mode = \"extended\")\n",
    "    tweetList = []\n",
    "    cnt = 0\n",
    "    for item in tweets:\n",
    "        tweetList.append(item)\n",
    "        cnt+=1\n",
    "        if cnt > 40000:\n",
    "            time.sleep(60*15+5)\n",
    "            cnt = 0\n",
    "    df = pd.DataFrame(tweetList);\n",
    "    df.to_csv(\"tweets_collected_\"+str(i)+\"_\"+str(date.day)+str(date.strftime(\"%m\"))+\".csv\")\n",
    "    index+= 1\n",
    "    print(index)"
   ]
  },
  {
   "cell_type": "code",
   "execution_count": null,
   "metadata": {},
   "outputs": [],
   "source": [
    "tweetsDF = pd.read_csv(\"Tweets3Weeks.csv\")"
   ]
  },
  {
   "cell_type": "code",
   "execution_count": null,
   "metadata": {},
   "outputs": [],
   "source": [
    "tweetsDF[\"userlocation\"] = \"\"\n",
    "tweetsDF[\"username\"] = \"\"\n",
    "tweetsDF[\"userscreen_name\"] = \"\"\n",
    "tweetsDF[\"userdescription\"] = \"\"\n",
    "tweetsDF[\"userfollowers_count\"] = \"\"\n",
    "tweetsDF[\"userfriends_count\"] = \"\"\n",
    "tweetsDF[\"userlisted_count\"] = \"\"\n",
    "tweetsDF[\"userfavourites_count\"] = \"\"\n",
    "tweetsDF[\"userverified\"] = \"\"\n",
    "tweetsDF[\"userstatuses_count\"] = \"\"\n",
    "tweetsDF[\"userfollowing\"] = \"\"\n",
    "tweetsDF[\"userfollow_request_sent\"] = \"\"\n",
    "tweetsDF[\"usercontributors_enabled\"] = \"\""
   ]
  },
  {
   "cell_type": "code",
   "execution_count": null,
   "metadata": {},
   "outputs": [],
   "source": [
    "for index, row in tweetsDF.iterrows():\n",
    "    if index%1000 == 0: \n",
    "        print(\"Progress: \" + str(index/1000))\n",
    "    tweetsDF.loc[index, \"userlocation\"] = row[\"user\"][\"location\"]\n",
    "    tweetsDF.loc[index, \"username\"] = row[\"user\"][\"name\"]\n",
    "    tweetsDF.loc[index, \"userscreen_name\"] = row[\"user\"][\"screen_name\"]\n",
    "    tweetsDF.loc[index, \"userdescription\"] = row[\"user\"][\"description\"]\n",
    "    tweetsDF.loc[index, \"userfollowers_count\"] = row[\"user\"][\"followers_count\"]\n",
    "    tweetsDF.loc[index, \"userfriends_count\"] = row[\"user\"][\"friends_count\"]\n",
    "    tweetsDF.loc[index, \"userlisted_count\"] = row[\"user\"][\"listed_count\"]\n",
    "    tweetsDF.loc[index, \"userfavourites_count\"] = row[\"user\"][\"favourites_count\"]\n",
    "    tweetsDF.loc[index, \"userverified\"] = row[\"user\"][\"verified\"]\n",
    "    tweetsDF.loc[index, \"userstatuses_count\"] = row[\"user\"][\"statuses_count\"]\n",
    "    tweetsDF.loc[index, \"userfollowing\"] = row[\"user\"][\"following\"]\n",
    "    tweetsDF.loc[index, \"userfollow_request_sent\"] = row[\"user\"][\"follow_request_sent\"]\n",
    "    tweetsDF.loc[index, \"usercontributors_enabled\"] = row[\"user\"][\"contributors_enabled\"]"
   ]
  },
  {
   "cell_type": "code",
   "execution_count": null,
   "metadata": {},
   "outputs": [],
   "source": [
    "tweetsDF[\"extractedlocation\"] = \"\"\n",
    "for index, row in tweetsDF.iterrows():\n",
    "    if index%1000 == 0: \n",
    "        print(\"Progress: \" + str(index/1000))\n",
    "    sepr =  \"\" \n",
    "    for location in locations: \n",
    "        if (location.lower() in str(row[\"full_text\"]).lower()):\n",
    "            tweetsDF.loc[index, \"extractedlocation\"] = tweetsDF.loc[index, \"extractedlocation\"]+sepr+location\n",
    "            sepr = \", \""
   ]
  },
  {
   "cell_type": "code",
   "execution_count": null,
   "metadata": {},
   "outputs": [],
   "source": [
    "tweetsDf = \"finallocation\"\n",
    "finalTweetsDf = tweetsDf.copy()\n",
    "for index, row in tweetsDF.iterrows():\n",
    "    if index%1000 == 0: \n",
    "        print(\"Progress: \" + str(index/1000))\n",
    "    for location in acledLocations: \n",
    "        tempLocation = location\n",
    "        tempLocation2 = location\n",
    "        if (tempLocation == \"Delhi-New Delhi\"):\n",
    "            tempLocation = \"delhi\"\n",
    "        elif (tempLocation == \"Bengaluru\"):\n",
    "            tempLocation = \"bangalore\"\n",
    "            tempLocation2 = \"karnataka\"\n",
    "        elif (tempLocation == \"Kolkata\"):\n",
    "            tempLocation = \"west bengal\"\n",
    "        elif (tempLocation == \"Guwahati\"):\n",
    "            tempLocation = \"assam\"\n",
    "        elif (tempLocation in (\"Lucknow\", \"Dehradun\")):\n",
    "            tempLocation = \"uttar\"\n",
    "        elif (tempLocation in (\"Sangrur\", \"Ludhiana\", \"Amritsar\", \"Chandigarh\", \"Bathinda\", \"Jalandhar\", \"Patiala\")):\n",
    "            tempLocation = \"punjab\"\n",
    "        elif (tempLocation in (\"Karnal\", \"Gurgaon\", \"Chandigarh\"):\n",
    "            tempLocation2 = \"haryana\"\n",
    "        elif (tempLocation == \"Pulwama\"):\n",
    "            tempLocation2 = \"jammu\"\n",
    "        elif (tempLocation == \"Ahmedabad\"):\n",
    "            tempLocation = \"gujarat\"\n",
    "        elif (tempLocation in (\"Chennai\", \"Coimbatore\", \"Madurai\", \"Tiruchirappalli\", \"Salem\")):\n",
    "            tempLocation = \"tamil\"\n",
    "        elif (tempLocation in (\"Imphal\", \"Agartala\")):\n",
    "            tempLocation = \"arunachal\"\n",
    "        elif (tempLocation == \"Hyderabad\"):\n",
    "            tempLocation = \"andhra\"\n",
    "            tempLocation2 = \"telangana\"\n",
    "        elif (tempLocation == \"Thiruvananthapuram\"):\n",
    "            tempLocation = \"kerala\"\n",
    "        if (tempLocation.lower() in row[\"extractedlocation\"] or location.lower() in row[\"extractedlocation\"] or tempLocation2 in row[\"extractedlocation\"]):\n",
    "            tweetsDF.loc[index, \"finallocation\"] = location\n",
    "            finalTweetsDf = finalTweetsDf.append(pd.DataFrame(tweetsDF.loc[index:index]))"
   ]
  },
  {
   "cell_type": "code",
   "execution_count": 1,
   "metadata": {},
   "outputs": [
    {
     "data": {
      "text/plain": [
       "905"
      ]
     },
     "execution_count": 1,
     "metadata": {},
     "output_type": "execute_result"
    }
   ],
   "source": [
    "60*15+5"
   ]
  },
  {
   "cell_type": "code",
   "execution_count": null,
   "metadata": {},
   "outputs": [],
   "source": []
  }
 ],
 "metadata": {
  "kernelspec": {
   "display_name": "Python 3",
   "language": "python",
   "name": "python3"
  },
  "language_info": {
   "codemirror_mode": {
    "name": "ipython",
    "version": 3
   },
   "file_extension": ".py",
   "mimetype": "text/x-python",
   "name": "python",
   "nbconvert_exporter": "python",
   "pygments_lexer": "ipython3",
   "version": "3.6.8"
  }
 },
 "nbformat": 4,
 "nbformat_minor": 2
}
