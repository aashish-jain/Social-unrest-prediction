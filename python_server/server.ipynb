{
 "cells": [
  {
   "cell_type": "code",
   "execution_count": null,
   "metadata": {},
   "outputs": [],
   "source": [
    "!conda install flask=0.12.2\n",
    "!pip install flask_restful"
   ]
  },
  {
   "cell_type": "code",
   "execution_count": 36,
   "metadata": {},
   "outputs": [
    {
     "name": "stderr",
     "output_type": "stream",
     "text": [
      " * Running on http://127.0.0.1:5000/ (Press CTRL+C to quit)\n"
     ]
    },
    {
     "name": "stdout",
     "output_type": "stream",
     "text": [
      "Dei\n"
     ]
    },
    {
     "name": "stderr",
     "output_type": "stream",
     "text": [
      "127.0.0.1 - - [03/May/2019 20:55:28] \"\u001b[37mGET /?date=1/31/2020&location=Chennai HTTP/1.1\u001b[0m\" 200 -\n"
     ]
    },
    {
     "name": "stdout",
     "output_type": "stream",
     "text": [
      "0.5\n"
     ]
    },
    {
     "name": "stderr",
     "output_type": "stream",
     "text": [
      "127.0.0.1 - - [03/May/2019 20:55:31] \"\u001b[37mGET /?date=1/31/2020&location=Bangalore HTTP/1.1\u001b[0m\" 200 -\n"
     ]
    },
    {
     "name": "stdout",
     "output_type": "stream",
     "text": [
      "0.1\n"
     ]
    }
   ],
   "source": [
    "from flask import Flask, request, jsonify\n",
    "from flask_restful import Resource, Api\n",
    "\n",
    "app = Flask(__name__)\n",
    "api = Api(app)\n",
    "\n",
    "results = {\"1/31/2020\": {\"Chennai\" : 0.5, \"Bangalore\" : 0.1, \"Delhi\" : 0.7}, \n",
    "           \"1/30/2020\": {\"Chennai\" : 0.4, \"Bangalore\" : 0.9, \"Delhi\" : 0.6}, \n",
    "           \"1/29/2020\": {\"Chennai\" : 0.3, \"Bangalore\" : 0.8, \"Delhi\" : 0.2}}\n",
    "\n",
    "class Employees(Resource):\n",
    "    def get(self):\n",
    "        date = request.args.get('date')\n",
    "        location = request.args.get('location')\n",
    "        print(results[date][location])\n",
    "        resp = jsonify({'probability': results[date][location]})\n",
    "        resp.headers['Access-Control-Allow-Origin'] = '*'\n",
    "        return resp \n",
    "\n",
    "api.add_resource(Employees, '/') # Route_1\n",
    "\n",
    "if __name__ == '__main__':\n",
    "    print(\"Dei\")\n",
    "    app.run(debug = False)"
   ]
  },
  {
   "cell_type": "code",
   "execution_count": null,
   "metadata": {},
   "outputs": [],
   "source": []
  }
 ],
 "metadata": {
  "kernelspec": {
   "display_name": "Python 3",
   "language": "python",
   "name": "python3"
  },
  "language_info": {
   "codemirror_mode": {
    "name": "ipython",
    "version": 3
   },
   "file_extension": ".py",
   "mimetype": "text/x-python",
   "name": "python",
   "nbconvert_exporter": "python",
   "pygments_lexer": "ipython3",
   "version": "3.6.8"
  }
 },
 "nbformat": 4,
 "nbformat_minor": 2
}
