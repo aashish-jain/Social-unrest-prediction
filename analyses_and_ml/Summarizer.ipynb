{
 "cells": [
  {
   "cell_type": "code",
   "execution_count": null,
   "metadata": {
    "ExecuteTime": {
     "end_time": "2019-03-22T21:16:11.282829Z",
     "start_time": "2019-03-22T21:16:11.279451Z"
    }
   },
   "outputs": [],
   "source": [
    "# !pip install gensim\n",
    "# !pip install geotext"
   ]
  },
  {
   "cell_type": "code",
   "execution_count": 1,
   "metadata": {
    "ExecuteTime": {
     "end_time": "2019-03-22T21:49:39.688989Z",
     "start_time": "2019-03-22T21:49:39.240034Z"
    }
   },
   "outputs": [],
   "source": [
    "from gensim import summarization as summarizer\n",
    "import pickle\n",
    "from geotext import GeoText"
   ]
  },
  {
   "cell_type": "code",
   "execution_count": 2,
   "metadata": {
    "ExecuteTime": {
     "end_time": "2019-03-22T21:49:44.701451Z",
     "start_time": "2019-03-22T21:49:44.608201Z"
    }
   },
   "outputs": [],
   "source": [
    "dataset = pickle.load(open('./news_with_content.pkl','rb'))"
   ]
  },
  {
   "cell_type": "code",
   "execution_count": 4,
   "metadata": {
    "ExecuteTime": {
     "end_time": "2019-03-22T21:49:53.902855Z",
     "start_time": "2019-03-22T21:49:53.888459Z"
    }
   },
   "outputs": [
    {
     "name": "stdout",
     "output_type": "stream",
     "text": [
      "11\n"
     ]
    }
   ],
   "source": [
    "i, popped =0, 0\n",
    "while i < len(dataset):\n",
    "    if dataset[i]['content'] == '':\n",
    "        dataset.pop(i)\n",
    "        popped+=1\n",
    "    else:\n",
    "        i+=1\n",
    "print(popped)"
   ]
  },
  {
   "cell_type": "code",
   "execution_count": 5,
   "metadata": {
    "ExecuteTime": {
     "end_time": "2019-03-22T21:49:56.715946Z",
     "start_time": "2019-03-22T21:49:56.711339Z"
    }
   },
   "outputs": [
    {
     "name": "stdout",
     "output_type": "stream",
     "text": [
      "24 {'source': {'id': 'google-news', 'name': 'Google News'}, 'author': 'Theron Mohamed', 'title': \"Prada's profits sank after Paris riots, trade, and growth fears hit Chinese demand\", 'description': 'Prada\\'s shares slumped 11% after the luxury brand posted lower earnings for the fourth year in a row. Its challenges included the US-China trade war, protests in France, a \"blackface\" scandal, and slowing growth in China. Prada\\'s shares slumped 11% on Monday …', 'url': 'http://feedproxy.google.com/~r/clusterstock/~3/cxIkWVxIWrA/pradas-profits-sank-after-riots-trade-and-fear-hit-chinese-demand-2019-3-1028038302', 'urlToImage': None, 'publishedAt': '2019-03-18T13:59:20Z', 'content': 'REUTERS/Eduardo Munoz\\n\\nPrada\\'s shares slumped 11% after the luxury brand posted lower earnings for the fourth year in a row.\\n\\nIts challenges included the US-China trade war, protests in France, a \"blackface\" scandal, and slowing growth in China.\\n\\nPrada\\'s shares slumped 11% on Monday after the Italian fashion house posted its fourth full-year earnings decline in four years.\\n\\nThe Hong-Kong listed group\\'s operating profits shrunk by a tenth to €323 million ($366 million) in 2018. Sales in China flatlined in the second half of the year, after jumping 17% in the first six months. Prada earns about a third of its revenue in Asia Pacific, according to Walter Woo, an analyst at CMB International Securities.\\n\\nPrada blamed a weaker yuan for tepid demand from Chinese tourists in Hong Kong and Macau. Falling asset prices and slowing economic growth in China and Hong Kong have also tempered consumer confidence, Woo said.\\n\\nOther tailwinds include China\\'s ongoing trade war with the US, protests in France that deterred tourists and shuttered Prada stores, fears of a US downturn, and pressure on US sales after Prada was accused of employing racist \"blackface\" imagery in its Pradamalia trinkets, Woo added.\\n\\nPrada is still adapting to Chinese tastes as well.\\n\\n\"The Chinese market has become more selective than it used to be in the past,\" CEO Patrizio Bertelli said on the company\\'s earnings call. \"We\\'ll have to work on that market more and more intensively.\"\\n\\nPrada\\'s constant-currency sales climbed 6% in 2018 as new handbags and cheaper options in black nylon proved popular with shoppers. However, the group reduced markdowns from 12% to 7% in a bid to bolster its brand image and lift margins.\\n\\nMarketing costs also swelled by 12% as it plowed cash into e-commerce, social media, pop-up shops and parties, according to Bloomberg.\\n\\nWoo forecasts a 4.4% rise in Prada\\'s sales this year. But given the brand\\'s issues and the challenging outlook for the luxury sector, he slashed his earnings-per-share forecasts by more than 16% this year, and downgraded his recommendation to \"Hold.\"', 'fetched': True}\n"
     ]
    }
   ],
   "source": [
    "for i in range(10,len(dataset)):\n",
    "    if dataset[i]['source']['id'] != 'the-times-of-india':\n",
    "        print(i,dataset[i])\n",
    "        break"
   ]
  },
  {
   "cell_type": "code",
   "execution_count": null,
   "metadata": {
    "ExecuteTime": {
     "end_time": "2019-03-22T21:45:08.246147Z",
     "start_time": "2019-03-22T21:45:08.241921Z"
    }
   },
   "outputs": [],
   "source": []
  },
  {
   "cell_type": "code",
   "execution_count": null,
   "metadata": {
    "ExecuteTime": {
     "end_time": "2019-03-22T21:45:21.139072Z",
     "start_time": "2019-03-22T21:45:21.135167Z"
    }
   },
   "outputs": [],
   "source": []
  },
  {
   "cell_type": "code",
   "execution_count": null,
   "metadata": {
    "ExecuteTime": {
     "end_time": "2019-03-22T21:45:56.258173Z",
     "start_time": "2019-03-22T21:45:56.247632Z"
    }
   },
   "outputs": [],
   "source": [
    "places.cities"
   ]
  },
  {
   "cell_type": "code",
   "execution_count": null,
   "metadata": {
    "ExecuteTime": {
     "end_time": "2019-03-22T21:19:28.405137Z",
     "start_time": "2019-03-22T21:19:28.389210Z"
    }
   },
   "outputs": [],
   "source": [
    "summarizer.summarize(dataset[0]['content'], word_count=150)"
   ]
  },
  {
   "cell_type": "code",
   "execution_count": null,
   "metadata": {},
   "outputs": [],
   "source": []
  }
 ],
 "metadata": {
  "kernelspec": {
   "display_name": "Python 3",
   "language": "python",
   "name": "python3"
  },
  "language_info": {
   "codemirror_mode": {
    "name": "ipython",
    "version": 3
   },
   "file_extension": ".py",
   "mimetype": "text/x-python",
   "name": "python",
   "nbconvert_exporter": "python",
   "pygments_lexer": "ipython3",
   "version": "3.6.5"
  }
 },
 "nbformat": 4,
 "nbformat_minor": 2
}
