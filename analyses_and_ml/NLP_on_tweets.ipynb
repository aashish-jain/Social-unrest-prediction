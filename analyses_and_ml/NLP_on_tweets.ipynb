{
 "cells": [
  {
   "cell_type": "code",
   "execution_count": 1,
   "metadata": {
    "ExecuteTime": {
     "end_time": "2019-03-28T18:02:17.101362Z",
     "start_time": "2019-03-28T18:02:12.111967Z"
    }
   },
   "outputs": [
    {
     "name": "stdout",
     "output_type": "stream",
     "text": [
      "Requirement already satisfied: vaderSentiment in /Users/ateendraramesh/anaconda3/lib/python3.6/site-packages (3.2.1)\n",
      "Requirement already satisfied: tabulate in /Users/ateendraramesh/anaconda3/lib/python3.6/site-packages (0.8.2)\n"
     ]
    }
   ],
   "source": [
    "!pip install vaderSentiment\n",
    "!pip install tabulate"
   ]
  },
  {
   "cell_type": "code",
   "execution_count": 1,
   "metadata": {
    "ExecuteTime": {
     "end_time": "2019-04-15T18:28:29.663439Z",
     "start_time": "2019-04-15T18:28:27.102457Z"
    },
    "run_control": {
     "marked": false
    }
   },
   "outputs": [
    {
     "name": "stderr",
     "output_type": "stream",
     "text": [
      "/Users/ateendraramesh/anaconda3/lib/python3.6/site-packages/sklearn/ensemble/weight_boosting.py:29: DeprecationWarning: numpy.core.umath_tests is an internal NumPy module and should not be imported. It will be removed in a future NumPy release.\n",
      "  from numpy.core.umath_tests import inner1d\n"
     ]
    }
   ],
   "source": [
    "import warnings\n",
    "import textblob\n",
    "\n",
    "import numpy as np\n",
    "import pandas as pd\n",
    "import matplotlib.pyplot as plt\n",
    "\n",
    "from utils import *\n",
    "from doc_utils import *\n",
    "from tabulate import tabulate\n",
    "from collections import Counter\n",
    "from sklearn.ensemble import ExtraTreesClassifier\n",
    "from nlp_utils import get_features, make_predictions\n",
    "from sklearn.exceptions import UndefinedMetricWarning\n",
    "from sklearn.metrics import precision_score, recall_score, f1_score\n",
    "from vaderSentiment.vaderSentiment import SentimentIntensityAnalyzer"
   ]
  },
  {
   "cell_type": "code",
   "execution_count": 19,
   "metadata": {
    "ExecuteTime": {
     "end_time": "2019-04-15T18:48:51.116089Z",
     "start_time": "2019-04-15T18:48:30.552036Z"
    },
    "run_control": {
     "marked": false
    }
   },
   "outputs": [],
   "source": [
    "plt.rcParams['figure.figsize'] = [20, 8]\n",
    "\n",
    "# Read tweets csv\n",
    "df = pd.concat([pd.read_csv(\"../../data/Tweets3WeeksLocations.csv\"), pd.read_pickle(\"../../data/Tweets3Weeks_part2.pkl\")]) \n",
    "# Drop all-null rows if any\n",
    "df.dropna(how='all', inplace=True)\n",
    "df.drop(columns=['Unnamed: 0'], inplace=True)"
   ]
  },
  {
   "cell_type": "code",
   "execution_count": 18,
   "metadata": {
    "ExecuteTime": {
     "end_time": "2019-04-15T18:48:30.549969Z",
     "start_time": "2019-04-15T18:47:51.442870Z"
    }
   },
   "outputs": [
    {
     "name": "stdout",
     "output_type": "stream",
     "text": [
      "Data from 2019-02-23 to 2019-04-15  & Number of days - 52\n"
     ]
    }
   ],
   "source": [
    "lead_days = 2\n",
    "days_window = 5\n",
    "\n",
    "start_date = pd.to_datetime(\"23-feb-2019\")\n",
    "end_date = pd.to_datetime(\"15-apr-2019\")\n",
    "\n",
    "\n",
    "labels = process_acled_csv(\"../../data/1900-01-01-2019-04-15-India.csv\", \n",
    "                           top_locations=-1, \n",
    "                           start=start_date, \n",
    "                           end=end_date,\n",
    "                           lead_days=lead_days,\n",
    "                           days_window = days_window)"
   ]
  },
  {
   "cell_type": "code",
   "execution_count": 20,
   "metadata": {
    "ExecuteTime": {
     "end_time": "2019-04-15T18:49:44.540722Z",
     "start_time": "2019-04-15T18:48:51.121367Z"
    }
   },
   "outputs": [
    {
     "name": "stdout",
     "output_type": "stream",
     "text": [
      "Dropping 1 rows!\n"
     ]
    }
   ],
   "source": [
    "clean = False\n",
    "if not clean:\n",
    "    df = clean_df(df)\n",
    "    clean = True"
   ]
  },
  {
   "cell_type": "code",
   "execution_count": 21,
   "metadata": {
    "ExecuteTime": {
     "end_time": "2019-04-15T18:49:44.571597Z",
     "start_time": "2019-04-15T18:49:44.543148Z"
    }
   },
   "outputs": [
    {
     "data": {
      "text/html": [
       "<div>\n",
       "<style scoped>\n",
       "    .dataframe tbody tr th:only-of-type {\n",
       "        vertical-align: middle;\n",
       "    }\n",
       "\n",
       "    .dataframe tbody tr th {\n",
       "        vertical-align: top;\n",
       "    }\n",
       "\n",
       "    .dataframe thead th {\n",
       "        text-align: right;\n",
       "    }\n",
       "</style>\n",
       "<table border=\"1\" class=\"dataframe\">\n",
       "  <thead>\n",
       "    <tr style=\"text-align: right;\">\n",
       "      <th></th>\n",
       "      <th>contributors</th>\n",
       "      <th>coordinates</th>\n",
       "      <th>created_at</th>\n",
       "      <th>display_text_range</th>\n",
       "      <th>entities</th>\n",
       "      <th>extended_entities</th>\n",
       "      <th>extractedlocation</th>\n",
       "      <th>favorite_count</th>\n",
       "      <th>favorited</th>\n",
       "      <th>finallocation</th>\n",
       "      <th>...</th>\n",
       "      <th>userfollowers_count</th>\n",
       "      <th>userfollowing</th>\n",
       "      <th>userfriends_count</th>\n",
       "      <th>userlisted_count</th>\n",
       "      <th>userlocation</th>\n",
       "      <th>username</th>\n",
       "      <th>userscreen_name</th>\n",
       "      <th>userstatuses_count</th>\n",
       "      <th>userverified</th>\n",
       "      <th>withheld_in_countries</th>\n",
       "    </tr>\n",
       "  </thead>\n",
       "  <tbody>\n",
       "    <tr>\n",
       "      <th>0</th>\n",
       "      <td>NaN</td>\n",
       "      <td>NaN</td>\n",
       "      <td>Tue Mar 05 04:05:13 +0000 2019</td>\n",
       "      <td>[26, 264]</td>\n",
       "      <td>{'hashtags': [{'text': 'Telangana', 'indices':...</td>\n",
       "      <td>NaN</td>\n",
       "      <td>india, telangana</td>\n",
       "      <td>3.0</td>\n",
       "      <td>False</td>\n",
       "      <td>Hyderabad</td>\n",
       "      <td>...</td>\n",
       "      <td>2175.0</td>\n",
       "      <td>NaN</td>\n",
       "      <td>1378.0</td>\n",
       "      <td>22.0</td>\n",
       "      <td>Hyderabad</td>\n",
       "      <td>Anusha Puppala</td>\n",
       "      <td>anusha_puppala</td>\n",
       "      <td>4178.0</td>\n",
       "      <td>False</td>\n",
       "      <td>NaN</td>\n",
       "    </tr>\n",
       "    <tr>\n",
       "      <th>1</th>\n",
       "      <td>NaN</td>\n",
       "      <td>NaN</td>\n",
       "      <td>Tue Mar 05 04:05:13 +0000 2019</td>\n",
       "      <td>[26, 264]</td>\n",
       "      <td>{'hashtags': [{'text': 'Telangana', 'indices':...</td>\n",
       "      <td>NaN</td>\n",
       "      <td>india, telangana</td>\n",
       "      <td>3.0</td>\n",
       "      <td>False</td>\n",
       "      <td>India</td>\n",
       "      <td>...</td>\n",
       "      <td>2175.0</td>\n",
       "      <td>NaN</td>\n",
       "      <td>1378.0</td>\n",
       "      <td>22.0</td>\n",
       "      <td>Hyderabad</td>\n",
       "      <td>Anusha Puppala</td>\n",
       "      <td>anusha_puppala</td>\n",
       "      <td>4178.0</td>\n",
       "      <td>False</td>\n",
       "      <td>NaN</td>\n",
       "    </tr>\n",
       "    <tr>\n",
       "      <th>2</th>\n",
       "      <td>NaN</td>\n",
       "      <td>NaN</td>\n",
       "      <td>Mon Mar 04 14:20:40 +0000 2019</td>\n",
       "      <td>[0, 277]</td>\n",
       "      <td>{'hashtags': [], 'symbols': [], 'user_mentions...</td>\n",
       "      <td>{'media': [{'id': 1102574234897924096, 'id_str...</td>\n",
       "      <td>west bengal</td>\n",
       "      <td>3.0</td>\n",
       "      <td>False</td>\n",
       "      <td>Kolkata</td>\n",
       "      <td>...</td>\n",
       "      <td>2936.0</td>\n",
       "      <td>NaN</td>\n",
       "      <td>1540.0</td>\n",
       "      <td>9.0</td>\n",
       "      <td>Ahmedabad</td>\n",
       "      <td>Shalav Majmudar</td>\n",
       "      <td>iShalavbjp</td>\n",
       "      <td>32019.0</td>\n",
       "      <td>False</td>\n",
       "      <td>NaN</td>\n",
       "    </tr>\n",
       "    <tr>\n",
       "      <th>3</th>\n",
       "      <td>NaN</td>\n",
       "      <td>NaN</td>\n",
       "      <td>Mon Mar 04 17:56:29 +0000 2019</td>\n",
       "      <td>[0, 264]</td>\n",
       "      <td>{'hashtags': [], 'symbols': [], 'user_mentions...</td>\n",
       "      <td>{'media': [{'id': 1102628641668763650, 'id_str...</td>\n",
       "      <td>kolkata, west bengal</td>\n",
       "      <td>2.0</td>\n",
       "      <td>False</td>\n",
       "      <td>Kolkata</td>\n",
       "      <td>...</td>\n",
       "      <td>4361.0</td>\n",
       "      <td>NaN</td>\n",
       "      <td>4.0</td>\n",
       "      <td>35.0</td>\n",
       "      <td>New Delhi, India</td>\n",
       "      <td>ElectionAdda (INDIA)</td>\n",
       "      <td>electionaddaEN</td>\n",
       "      <td>17589.0</td>\n",
       "      <td>False</td>\n",
       "      <td>NaN</td>\n",
       "    </tr>\n",
       "    <tr>\n",
       "      <th>4</th>\n",
       "      <td>NaN</td>\n",
       "      <td>NaN</td>\n",
       "      <td>Mon Mar 04 06:42:10 +0000 2019</td>\n",
       "      <td>[0, 123]</td>\n",
       "      <td>{'hashtags': [], 'symbols': [], 'user_mentions...</td>\n",
       "      <td>NaN</td>\n",
       "      <td>west bengal</td>\n",
       "      <td>0.0</td>\n",
       "      <td>False</td>\n",
       "      <td>Kolkata</td>\n",
       "      <td>...</td>\n",
       "      <td>85.0</td>\n",
       "      <td>NaN</td>\n",
       "      <td>747.0</td>\n",
       "      <td>2.0</td>\n",
       "      <td>NaN</td>\n",
       "      <td>Navaneethkrishnan</td>\n",
       "      <td>navaneethkrish2</td>\n",
       "      <td>10009.0</td>\n",
       "      <td>False</td>\n",
       "      <td>NaN</td>\n",
       "    </tr>\n",
       "  </tbody>\n",
       "</table>\n",
       "<p>5 rows × 46 columns</p>\n",
       "</div>"
      ],
      "text/plain": [
       "  contributors coordinates                      created_at display_text_range  \\\n",
       "0          NaN         NaN  Tue Mar 05 04:05:13 +0000 2019          [26, 264]   \n",
       "1          NaN         NaN  Tue Mar 05 04:05:13 +0000 2019          [26, 264]   \n",
       "2          NaN         NaN  Mon Mar 04 14:20:40 +0000 2019           [0, 277]   \n",
       "3          NaN         NaN  Mon Mar 04 17:56:29 +0000 2019           [0, 264]   \n",
       "4          NaN         NaN  Mon Mar 04 06:42:10 +0000 2019           [0, 123]   \n",
       "\n",
       "                                            entities  \\\n",
       "0  {'hashtags': [{'text': 'Telangana', 'indices':...   \n",
       "1  {'hashtags': [{'text': 'Telangana', 'indices':...   \n",
       "2  {'hashtags': [], 'symbols': [], 'user_mentions...   \n",
       "3  {'hashtags': [], 'symbols': [], 'user_mentions...   \n",
       "4  {'hashtags': [], 'symbols': [], 'user_mentions...   \n",
       "\n",
       "                                   extended_entities     extractedlocation  \\\n",
       "0                                                NaN      india, telangana   \n",
       "1                                                NaN      india, telangana   \n",
       "2  {'media': [{'id': 1102574234897924096, 'id_str...           west bengal   \n",
       "3  {'media': [{'id': 1102628641668763650, 'id_str...  kolkata, west bengal   \n",
       "4                                                NaN           west bengal   \n",
       "\n",
       "   favorite_count  favorited finallocation          ...           \\\n",
       "0             3.0      False     Hyderabad          ...            \n",
       "1             3.0      False         India          ...            \n",
       "2             3.0      False       Kolkata          ...            \n",
       "3             2.0      False       Kolkata          ...            \n",
       "4             0.0      False       Kolkata          ...            \n",
       "\n",
       "  userfollowers_count userfollowing  userfriends_count userlisted_count  \\\n",
       "0              2175.0           NaN             1378.0             22.0   \n",
       "1              2175.0           NaN             1378.0             22.0   \n",
       "2              2936.0           NaN             1540.0              9.0   \n",
       "3              4361.0           NaN                4.0             35.0   \n",
       "4                85.0           NaN              747.0              2.0   \n",
       "\n",
       "       userlocation              username  userscreen_name  \\\n",
       "0         Hyderabad        Anusha Puppala   anusha_puppala   \n",
       "1         Hyderabad        Anusha Puppala   anusha_puppala   \n",
       "2        Ahmedabad        Shalav Majmudar       iShalavbjp   \n",
       "3  New Delhi, India  ElectionAdda (INDIA)   electionaddaEN   \n",
       "4               NaN     Navaneethkrishnan  navaneethkrish2   \n",
       "\n",
       "   userstatuses_count userverified withheld_in_countries  \n",
       "0              4178.0        False                   NaN  \n",
       "1              4178.0        False                   NaN  \n",
       "2             32019.0        False                   NaN  \n",
       "3             17589.0        False                   NaN  \n",
       "4             10009.0        False                   NaN  \n",
       "\n",
       "[5 rows x 46 columns]"
      ]
     },
     "execution_count": 21,
     "metadata": {},
     "output_type": "execute_result"
    }
   ],
   "source": [
    "df.head(5)"
   ]
  },
  {
   "cell_type": "code",
   "execution_count": 22,
   "metadata": {
    "ExecuteTime": {
     "end_time": "2019-04-15T18:51:43.450649Z",
     "start_time": "2019-04-15T18:49:44.573554Z"
    }
   },
   "outputs": [],
   "source": [
    "df = get_tweet_sentiment(df)"
   ]
  },
  {
   "cell_type": "code",
   "execution_count": 23,
   "metadata": {
    "ExecuteTime": {
     "end_time": "2019-04-15T18:51:43.751308Z",
     "start_time": "2019-04-15T18:51:43.455133Z"
    }
   },
   "outputs": [
    {
     "data": {
      "image/png": "[encoded data removed]",
      "text/plain": [
       "<Figure size 1440x576 with 1 Axes>"
      ]
     },
     "metadata": {},
     "output_type": "display_data"
    }
   ],
   "source": [
    "plot_counter(df['lang'], num_elements=10, xlabel=\"Language\", ylabel=\"Number of Tweets\", title=\"Language Distribution\")"
   ]
  },
  {
   "cell_type": "code",
   "execution_count": 24,
   "metadata": {
    "ExecuteTime": {
     "end_time": "2019-04-15T18:52:25.637296Z",
     "start_time": "2019-04-15T18:51:43.753326Z"
    }
   },
   "outputs": [],
   "source": [
    "df['created_at'] = pd.to_datetime(df['created_at'])\n",
    "# Sort by time created\n",
    "df.sort_values(by=['created_at'], inplace=True)"
   ]
  },
  {
   "cell_type": "code",
   "execution_count": 25,
   "metadata": {
    "ExecuteTime": {
     "end_time": "2019-04-15T18:54:46.499897Z",
     "start_time": "2019-04-15T18:52:25.639492Z"
    },
    "scrolled": true
   },
   "outputs": [
    {
     "name": "stdout",
     "output_type": "stream",
     "text": [
      "2019-02-23 00:00:00 2019-04-15 00:00:00\n"
     ]
    }
   ],
   "source": [
    "print(start_date, end_date)\n",
    "\n",
    "warnings.filterwarnings('ignore')\n",
    "location_date_dict = interleave_location_and_date(df, start_date, end_date)\n",
    "warnings.filterwarnings('default')"
   ]
  },
  {
   "cell_type": "markdown",
   "metadata": {},
   "source": [
    "### Current Features\n",
    "   * Number of tweets each day\n",
    "   * Average pos, neg, neu and compound features\n",
    "   * Tweet count with neg sentiment\n",
    "\n",
    "### TODO\n",
    "   * Hate speech\n",
    "   * Violent speech"
   ]
  },
  {
   "cell_type": "code",
   "execution_count": 26,
   "metadata": {
    "ExecuteTime": {
     "end_time": "2019-04-15T18:56:13.796167Z",
     "start_time": "2019-04-15T18:54:46.503773Z"
    }
   },
   "outputs": [
    {
     "name": "stdout",
     "output_type": "stream",
     "text": [
      "Sangrur done\n",
      "Patiala done\n",
      "Jalandhar done\n",
      "Amritsar done\n",
      "Ludhiana done\n",
      "Chandigarh done\n",
      "Bathinda done\n",
      "Bengaluru done\n",
      "Delhi-New Delhi done\n",
      "India done\n",
      "Karnal done\n",
      "Gurgaon done\n",
      "Thiruvananthapuram done\n",
      "Dehradun done\n",
      "Lucknow done\n",
      "Pulwama done\n",
      "Hyderabad done\n",
      "Kolkata done\n",
      "Ahmedabad done\n",
      "Guwahati done\n",
      "Chennai done\n",
      "Salem done\n",
      "Tiruchirappalli done\n",
      "Coimbatore done\n",
      "Madurai done\n",
      "Puducherry done\n",
      "Agartala done\n",
      "Imphal done\n",
      "Jammu done\n",
      "Ranchi done\n",
      "Shimla done\n",
      "Patna done\n",
      "Jaipur done\n",
      "Srinagar done\n",
      "nan done\n"
     ]
    }
   ],
   "source": [
    "location_features_dict = {}\n",
    "for location in location_date_dict:\n",
    "    location_features_dict[location] = get_features(location_date_dict[location])\n",
    "    print(location, \"done\")"
   ]
  },
  {
   "cell_type": "code",
   "execution_count": 38,
   "metadata": {
    "ExecuteTime": {
     "end_time": "2019-04-15T19:21:53.287087Z",
     "start_time": "2019-04-15T19:21:34.830222Z"
    }
   },
   "outputs": [
    {
     "name": "stdout",
     "output_type": "stream",
     "text": [
      "|      Location      |   Train Accuracy |   Test Accuracy |   Precision |   Recall |   F1 Score |   % of +'s in data |\n",
      "|:------------------:|-----------------:|----------------:|------------:|---------:|-----------:|-------------------:|\n",
      "|      Agartala      |             0.97 |            0.5  |        0.5  |     1    |       0.67 |              71.11 |\n",
      "|     Ahmedabad      |             0.91 |            0.83 |        0    |     0    |       0    |              42.22 |\n",
      "|      Amritsar      |             1    |            0.58 |        0.58 |     1    |       0.74 |              88.89 |\n",
      "|      Bathinda      |             1    |            0.17 |        0.17 |     1    |       0.29 |              77.78 |\n",
      "|     Bengaluru      |             1    |            0.5  |        0.5  |     1    |       0.67 |              77.78 |\n",
      "|     Chandigarh     |             1    |            0.08 |        0.08 |     1    |       0.15 |              73.33 |\n",
      "|      Chennai       |             1    |            0.08 |        0.08 |     1    |       0.15 |              75.56 |\n",
      "|     Coimbatore     |             0.94 |            0.42 |        0.42 |     1    |       0.59 |              75.56 |\n",
      "|      Dehradun      |             1    |            1    |        0    |     0    |       0    |              26.67 |\n",
      "|  Delhi-New Delhi   |             1    |            0.67 |        0.67 |     1    |       0.8  |              88.89 |\n",
      "|      Gurgaon       |             1    |            0.5  |        0    |     0    |       0    |              22.22 |\n",
      "|      Guwahati      |             0.94 |            0.08 |        0.08 |     1    |       0.15 |              71.11 |\n",
      "|     Hyderabad      |             0.94 |            0.5  |        0.5  |     1    |       0.67 |              82.22 |\n",
      "|       Imphal       |             0.97 |            0.08 |        0.08 |     1    |       0.15 |              60    |\n",
      "|       Jaipur       |             0.88 |            0.58 |        0    |     0    |       0    |              24.44 |\n",
      "|     Jalandhar      |             0.97 |            0.33 |        0.33 |     1    |       0.5  |              53.33 |\n",
      "|       Jammu        |             1    |            0.67 |        0.67 |     1    |       0.8  |              91.11 |\n",
      "|       Karnal       |             0.94 |            0.42 |        0.42 |     1    |       0.59 |              44.44 |\n",
      "|      Kolkata       |             1    |            0.5  |        0.5  |     1    |       0.67 |              86.67 |\n",
      "|      Lucknow       |             0.97 |            1    |        0    |     0    |       0    |              51.11 |\n",
      "|      Ludhiana      |             0.97 |            0.58 |        0.58 |     1    |       0.74 |              84.44 |\n",
      "|      Madurai       |             1    |            1    |        0    |     0    |       0    |              44.44 |\n",
      "|      Patiala       |             1    |            0.42 |        0    |     0    |       0    |              66.67 |\n",
      "|       Patna        |             0.76 |            0.5  |        0.5  |     1    |       0.67 |              44.44 |\n",
      "|     Puducherry     |             1    |            0    |        0    |     0    |       0    |              73.33 |\n",
      "|      Pulwama       |             0.94 |            0    |        0    |     0    |       0    |              46.67 |\n",
      "|       Ranchi       |             0.61 |            1    |        0    |     0    |       0    |              40    |\n",
      "|       Salem        |             0.97 |            0.67 |        0    |     0    |       0    |              53.33 |\n",
      "|      Sangrur       |             1    |            1    |        0    |     0    |       0    |              48.89 |\n",
      "|       Shimla       |             0.67 |            1    |        0    |     0    |       0    |              24.44 |\n",
      "|      Srinagar      |             1    |            0.58 |        0.58 |     1    |       0.74 |              88.89 |\n",
      "| Thiruvananthapuram |             1    |            0.25 |        0.25 |     1    |       0.4  |              75.56 |\n",
      "|  Tiruchirappalli   |             1    |            1    |        0    |     0    |       0    |              33.33 |\n",
      "|      Average       |             0.95 |            0.53 |        0.23 |     0.58 |       0.31 |              60.87 |\n"
     ]
    }
   ],
   "source": [
    "make_predictions(location_features_dict, labels)"
   ]
  },
  {
   "cell_type": "code",
   "execution_count": null,
   "metadata": {},
   "outputs": [],
   "source": []
  }
 ],
 "metadata": {
  "kernelspec": {
   "display_name": "Python 3",
   "language": "python",
   "name": "python3"
  },
  "language_info": {
   "codemirror_mode": {
    "name": "ipython",
    "version": 3
   },
   "file_extension": ".py",
   "mimetype": "text/x-python",
   "name": "python",
   "nbconvert_exporter": "python",
   "pygments_lexer": "ipython3",
   "version": "3.6.5"
  }
 },
 "nbformat": 4,
 "nbformat_minor": 2
}
