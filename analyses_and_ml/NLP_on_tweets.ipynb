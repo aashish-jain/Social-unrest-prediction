{
 "cells": [
  {
   "cell_type": "code",
   "execution_count": null,
   "metadata": {
    "ExecuteTime": {
     "end_time": "2019-04-19T06:19:48.564131Z",
     "start_time": "2019-04-19T06:19:48.561255Z"
    }
   },
   "outputs": [],
   "source": [
    "# !pip install vaderSentiment\n",
    "# !pip install tabulate\n",
    "# !pip install textblob"
   ]
  },
  {
   "cell_type": "code",
   "execution_count": null,
   "metadata": {
    "ExecuteTime": {
     "end_time": "2019-04-19T06:19:50.424156Z",
     "start_time": "2019-04-19T06:19:49.101687Z"
    },
    "run_control": {
     "marked": false
    }
   },
   "outputs": [],
   "source": [
    "import warnings\n",
    "import textblob\n",
    "\n",
    "import numpy as np\n",
    "import pandas as pd\n",
    "import matplotlib.pyplot as plt\n",
    "\n",
    "from utils import *\n",
    "from doc_utils import *\n",
    "from tabulate import tabulate\n",
    "from collections import Counter\n",
    "from sklearn.ensemble import ExtraTreesClassifier\n",
    "from nlp_utils import get_features, make_predictions\n",
    "from sklearn.exceptions import UndefinedMetricWarning\n",
    "from sklearn.metrics import precision_score, recall_score, f1_score\n",
    "from vaderSentiment.vaderSentiment import SentimentIntensityAnalyzer"
   ]
  },
  {
   "cell_type": "code",
   "execution_count": null,
   "metadata": {
    "ExecuteTime": {
     "end_time": "2019-04-19T06:20:03.094868Z",
     "start_time": "2019-04-19T06:19:51.533820Z"
    },
    "run_control": {
     "marked": false
    }
   },
   "outputs": [],
   "source": [
    "plt.rcParams['figure.figsize'] = [20, 8]\n",
    "\n",
    "# Read tweets csv\n",
    "df = pd.concat([pd.read_csv(\"../data/Tweets3WeeksLocations.csv\"), pd.read_pickle(\"../data/Tweets3Weeks_part2.pkl\")]) \n",
    "# Drop all-null rows if any\n",
    "df.dropna(how='all', inplace=True)\n",
    "df.drop(columns=['Unnamed: 0'], inplace=True)"
   ]
  },
  {
   "cell_type": "code",
   "execution_count": null,
   "metadata": {
    "ExecuteTime": {
     "end_time": "2019-04-19T06:20:50.546207Z",
     "start_time": "2019-04-19T06:20:03.097577Z"
    }
   },
   "outputs": [],
   "source": [
    "lead_days = 2\n",
    "days_window = 5\n",
    "\n",
    "start_date = pd.to_datetime(\"23-feb-2019\")\n",
    "end_date = pd.to_datetime(\"15-apr-2019\")\n",
    "\n",
    "\n",
    "labels = process_acled_csv(\"../data/1900-01-01-2019-04-15-India.csv\", \n",
    "                           top_locations=-1, \n",
    "                           start=start_date, \n",
    "                           end=end_date,\n",
    "                           lead_days=lead_days,\n",
    "                           days_window = days_window)"
   ]
  },
  {
   "cell_type": "code",
   "execution_count": null,
   "metadata": {
    "ExecuteTime": {
     "end_time": "2019-04-19T06:22:21.855297Z",
     "start_time": "2019-04-19T06:20:50.547947Z"
    }
   },
   "outputs": [],
   "source": [
    "clean = False\n",
    "if not clean:\n",
    "    df = clean_df(df)\n",
    "    clean = True"
   ]
  },
  {
   "cell_type": "code",
   "execution_count": null,
   "metadata": {
    "ExecuteTime": {
     "end_time": "2019-04-19T06:37:40.415248Z",
     "start_time": "2019-04-19T06:37:02.977845Z"
    }
   },
   "outputs": [],
   "source": [
    "df['entities'] = df['entities'].apply(ast.literal_eval)"
   ]
  },
  {
   "cell_type": "code",
   "execution_count": null,
   "metadata": {
    "ExecuteTime": {
     "end_time": "2019-04-19T06:35:13.534798Z",
     "start_time": "2019-04-19T06:35:13.529235Z"
    }
   },
   "outputs": [],
   "source": [
    "import ast"
   ]
  },
  {
   "cell_type": "code",
   "execution_count": null,
   "metadata": {
    "ExecuteTime": {
     "end_time": "2019-04-19T06:36:48.005776Z",
     "start_time": "2019-04-19T06:36:47.998866Z"
    }
   },
   "outputs": [],
   "source": [
    "ast.literal_eval(df['entities'].iloc[0])"
   ]
  },
  {
   "cell_type": "code",
   "execution_count": null,
   "metadata": {
    "ExecuteTime": {
     "end_time": "2019-04-19T06:27:51.752728Z",
     "start_time": "2019-04-19T06:27:51.621290Z"
    }
   },
   "outputs": [],
   "source": [
    "print(json.loads(df['entities'].iloc[0]))"
   ]
  },
  {
   "cell_type": "code",
   "execution_count": null,
   "metadata": {
    "ExecuteTime": {
     "end_time": "2019-04-19T05:56:36.800311Z",
     "start_time": "2019-04-19T05:56:36.749340Z"
    }
   },
   "outputs": [],
   "source": [
    "df['entities'] = df['entities'].apply(lambda x: )"
   ]
  },
  {
   "cell_type": "code",
   "execution_count": null,
   "metadata": {
    "ExecuteTime": {
     "end_time": "2019-04-19T06:22:24.833488Z",
     "start_time": "2019-04-19T06:22:24.802588Z"
    }
   },
   "outputs": [],
   "source": [
    "type(df['entities'].iloc[0])"
   ]
  },
  {
   "cell_type": "code",
   "execution_count": null,
   "metadata": {
    "ExecuteTime": {
     "end_time": "2019-04-19T05:24:26.719073Z",
     "start_time": "2019-04-19T05:24:26.680643Z"
    }
   },
   "outputs": [],
   "source": [
    "df.head(5)"
   ]
  },
  {
   "cell_type": "code",
   "execution_count": null,
   "metadata": {
    "ExecuteTime": {
     "end_time": "2019-04-19T05:26:48.343134Z",
     "start_time": "2019-04-19T05:24:40.379938Z"
    }
   },
   "outputs": [],
   "source": [
    "df = get_tweet_sentiment(df)"
   ]
  },
  {
   "cell_type": "code",
   "execution_count": null,
   "metadata": {
    "ExecuteTime": {
     "end_time": "2019-04-19T05:42:11.789068Z",
     "start_time": "2019-04-19T05:42:11.784092Z"
    }
   },
   "outputs": [],
   "source": [
    "df.columns"
   ]
  },
  {
   "cell_type": "code",
   "execution_count": null,
   "metadata": {},
   "outputs": [],
   "source": [
    "df['neu']"
   ]
  },
  {
   "cell_type": "code",
   "execution_count": null,
   "metadata": {
    "ExecuteTime": {
     "end_time": "2019-04-19T05:43:13.157961Z",
     "start_time": "2019-04-19T05:43:12.896888Z"
    }
   },
   "outputs": [],
   "source": [
    "plot_counter(df['lang'], num_elements=10, xlabel=\"Language\", ylabel=\"Number of Tweets\", title=\"Language Distribution\")"
   ]
  },
  {
   "cell_type": "code",
   "execution_count": null,
   "metadata": {
    "ExecuteTime": {
     "end_time": "2019-04-15T18:52:25.637296Z",
     "start_time": "2019-04-15T18:51:43.753326Z"
    }
   },
   "outputs": [],
   "source": [
    "df['created_at'] = pd.to_datetime(df['created_at'])\n",
    "# Sort by time created\n",
    "df.sort_values(by=['created_at'], inplace=True)"
   ]
  },
  {
   "cell_type": "code",
   "execution_count": null,
   "metadata": {
    "ExecuteTime": {
     "end_time": "2019-04-15T18:54:46.499897Z",
     "start_time": "2019-04-15T18:52:25.639492Z"
    },
    "scrolled": true
   },
   "outputs": [],
   "source": [
    "print(start_date, end_date)\n",
    "\n",
    "warnings.filterwarnings('ignore')\n",
    "location_date_dict = interleave_location_and_date(df, start_date, end_date)\n",
    "warnings.filterwarnings('default')"
   ]
  },
  {
   "cell_type": "markdown",
   "metadata": {},
   "source": [
    "### Current Features\n",
    "   * Number of tweets each day\n",
    "   * Average pos, neg, neu and compound features\n",
    "   * Tweet count with neg sentiment\n",
    "\n",
    "### TODO\n",
    "   * Hate speech\n",
    "   * Violent speech"
   ]
  },
  {
   "cell_type": "code",
   "execution_count": null,
   "metadata": {
    "ExecuteTime": {
     "end_time": "2019-04-15T18:56:13.796167Z",
     "start_time": "2019-04-15T18:54:46.503773Z"
    }
   },
   "outputs": [],
   "source": [
    "location_features_dict = {}\n",
    "for location in location_date_dict:\n",
    "    location_features_dict[location] = get_features(location_date_dict[location])\n",
    "    print(location, \"done\")"
   ]
  },
  {
   "cell_type": "code",
   "execution_count": null,
   "metadata": {
    "ExecuteTime": {
     "end_time": "2019-04-15T19:21:53.287087Z",
     "start_time": "2019-04-15T19:21:34.830222Z"
    }
   },
   "outputs": [],
   "source": [
    "make_predictions(location_features_dict, labels)"
   ]
  },
  {
   "cell_type": "code",
   "execution_count": null,
   "metadata": {},
   "outputs": [],
   "source": []
  }
 ],
 "metadata": {
  "kernelspec": {
   "display_name": "Python 3",
   "language": "python",
   "name": "python3"
  },
  "language_info": {
   "codemirror_mode": {
    "name": "ipython",
    "version": 3
   },
   "file_extension": ".py",
   "mimetype": "text/x-python",
   "name": "python",
   "nbconvert_exporter": "python",
   "pygments_lexer": "ipython3",
   "version": "3.6.8"
  },
  "latex_envs": {
   "LaTeX_envs_menu_present": true,
   "autoclose": false,
   "autocomplete": true,
   "bibliofile": "biblio.bib",
   "cite_by": "apalike",
   "current_citInitial": 1,
   "eqLabelWithNumbers": true,
   "eqNumInitial": 1,
   "hotkeys": {
    "equation": "Ctrl-E",
    "itemize": "Ctrl-I"
   },
   "labels_anchors": false,
   "latex_user_defs": false,
   "report_style_numbering": false,
   "user_envs_cfg": false
  }
 },
 "nbformat": 4,
 "nbformat_minor": 2
}
