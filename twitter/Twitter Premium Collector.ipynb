{
 "cells": [
  {
   "cell_type": "code",
   "execution_count": 24,
   "metadata": {},
   "outputs": [],
   "source": [
    "from searchtweets import collect_results, gen_rule_payload, load_credentials, api_utils\n",
    "import pandas as pd\n",
    "import time\n",
    "import datetime\n"
   ]
  },
  {
   "cell_type": "code",
   "execution_count": 2,
   "metadata": {},
   "outputs": [
    {
     "name": "stderr",
     "output_type": "stream",
     "text": [
      "Grabbing bearer token from OAUTH\n"
     ]
    }
   ],
   "source": [
    "search_args = load_credentials(\"./tweetCred.yaml\", yaml_key=\"search_tweets_api\", env_overwrite=False)"
   ]
  },
  {
   "cell_type": "code",
   "execution_count": 17,
   "metadata": {},
   "outputs": [
    {
     "name": "stdout",
     "output_type": "stream",
     "text": [
      "{\"query\": \"protest OR protests OR riot OR riots OR violence OR unrest OR clash OR bandh OR issue OR rally OR demonstration (chennai OR delhi OR india OR ahmedabad OR gujarat OR tamil OR jammu OR srinagar OR imphal OR lucknow ) -is:retweet\", \"maxResults\": 100, \"toDate\": \"201902240000\", \"fromDate\": \"201902200000\"}\n"
     ]
    }
   ],
   "source": [
    "rule = gen_rule_payload(\"protest OR protests OR riot OR riots OR violence OR unrest OR clash OR bandh OR issue OR rally OR demonstration (chennai)\", results_per_call=100, from_date = \"2019-02-20\", to_date = \"2019-02-24\") \n",
    "print(rule)\n",
    "\n",
    "\n",
    "# OR bengaluru OR bangalore OR bathinda OR chandigarh OR ludhiana OR amritsar OR punjab OR arunachal OR assam OR kolkata OR west bengal OR kerala OR karnataka OR andhra OR telangana OR hyderabad OR madhya OR uttar OR maharashtra OR haryana"
   ]
  },
  {
   "cell_type": "code",
   "execution_count": 19,
   "metadata": {},
   "outputs": [],
   "source": [
    "locationsTemp = [\"chennai\",\"delhi\",\"india\",\"ahmedabad\",\"gujarat\",\"tamil\",\"jammu\",\"srinagar\",\"imphal\",\"lucknow\",\"bengaluru\",\"bangalore\",\"bathinda\",\"chandigarh\",\"ludhiana\",\"amritsar\",\"punjab\",\"arunachal\",\"assam\",\"kolkata\",\"west bengal\",\"kerala\",\"karnataka\",\"andhra\",\"telangana\",\"hyderabad\",\"madhya\",\"uttar\",\"maharashtra\",\"haryana\",'Jammu',\n",
    " 'Srinagar',\n",
    " 'Delhi-New Delhi',\n",
    " 'Bathinda',\n",
    " 'Dehradun',\n",
    " 'Chandigarh',\n",
    " 'Ludhiana',\n",
    " 'Amritsar',\n",
    " 'Imphal',\n",
    " 'Lucknow',\n",
    " 'Jalandhar',\n",
    " 'Kolkata',\n",
    " 'Guwahati',\n",
    " 'Chennai',\n",
    " 'Patiala',\n",
    " 'Bhubaneswar',\n",
    " 'Bengaluru',\n",
    " 'Patna',\n",
    " 'Jaipur',\n",
    " 'Coimbatore',\n",
    " 'Hyderabad',\n",
    " 'Ranchi',\n",
    " 'Thiruvananthapuram',\n",
    " 'Shimla',\n",
    " 'Sangrur',\n",
    " 'Ahmedabad',\n",
    " 'Karnal',\n",
    " 'Pulwama',\n",
    " 'Puducherry',\n",
    " 'Gurgaon',\n",
    " 'Agartala',\n",
    " 'Madurai',\n",
    " 'Tiruchirappalli',\n",
    " 'Bangkok',\n",
    " 'Salem']\n",
    "\n",
    "locations = set()\n",
    "for location in locationsTemp:\n",
    "    locations.add(location.lower())"
   ]
  },
  {
   "cell_type": "code",
   "execution_count": 42,
   "metadata": {},
   "outputs": [
    {
     "data": {
      "text/plain": [
       "52"
      ]
     },
     "execution_count": 42,
     "metadata": {},
     "output_type": "execute_result"
    }
   ],
   "source": [
    "len(locations)"
   ]
  },
  {
   "cell_type": "code",
   "execution_count": null,
   "metadata": {},
   "outputs": [],
   "source": [
    "tweetList = []\n",
    "start = datetime.datetime(2019, 2, 20)\n",
    "end = datetime.datetime(2019, 2, 25)\n",
    "for location in locations:\n",
    "    rule = gen_rule_payload(\"protest OR protests OR riot OR riots OR violence OR unrest OR clash OR bandh OR issue OR rally OR demonstration OR propoganda OR election OR elections (\"+location+\")\", from_date = str(start.date()), to_date = str((start+datetime.timedelta(days=1)).date()), results_per_call=100) \n",
    "    tweetList.extend(collect_results(rule, max_results=1000, result_stream_args=search_args))\n",
    "    start+= datetime.timedelta(days=1)\n",
    "    if (start == end):\n",
    "        break\n",
    "    time.sleep(15)"
   ]
  },
  {
   "cell_type": "code",
   "execution_count": 22,
   "metadata": {},
   "outputs": [],
   "source": [
    "from_date = \"2015-12-09\""
   ]
  },
  {
   "cell_type": "code",
   "execution_count": 39,
   "metadata": {},
   "outputs": [],
   "source": [
    "x = datetime.datetime(2018, 6, 1) + datetime.timedelta(days=1)\n",
    "y = datetime.datetime(2018, 6, 1)+ datetime.timedelta(days=1)"
   ]
  },
  {
   "cell_type": "code",
   "execution_count": 40,
   "metadata": {},
   "outputs": [
    {
     "data": {
      "text/plain": [
       "True"
      ]
     },
     "execution_count": 40,
     "metadata": {},
     "output_type": "execute_result"
    }
   ],
   "source": [
    "x == y"
   ]
  },
  {
   "cell_type": "code",
   "execution_count": 32,
   "metadata": {},
   "outputs": [],
   "source": [
    "rule = gen_rule_payload(\"protest OR protests OR riot OR riots OR violence OR unrest OR clash OR bandh OR issue OR rally OR demonstration OR propoganda OR election (Chennai)\", from_date = str(x.date()), to_date = \"2019-02-24\", results_per_call=100) \n"
   ]
  },
  {
   "cell_type": "code",
   "execution_count": null,
   "metadata": {},
   "outputs": [],
   "source": []
  }
 ],
 "metadata": {
  "kernelspec": {
   "display_name": "Python 3",
   "language": "python",
   "name": "python3"
  },
  "language_info": {
   "codemirror_mode": {
    "name": "ipython",
    "version": 3
   },
   "file_extension": ".py",
   "mimetype": "text/x-python",
   "name": "python",
   "nbconvert_exporter": "python",
   "pygments_lexer": "ipython3",
   "version": "3.6.8"
  }
 },
 "nbformat": 4,
 "nbformat_minor": 2
}
